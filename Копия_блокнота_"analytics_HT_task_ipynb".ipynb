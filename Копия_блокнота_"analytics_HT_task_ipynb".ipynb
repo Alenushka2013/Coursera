{
  "nbformat": 4,
  "nbformat_minor": 0,
  "metadata": {
    "colab": {
      "provenance": [],
      "include_colab_link": true
    },
    "kernelspec": {
      "name": "python3",
      "display_name": "Python 3"
    },
    "language_info": {
      "name": "python"
    }
  },
  "cells": [
    {
      "cell_type": "markdown",
      "metadata": {
        "id": "view-in-github",
        "colab_type": "text"
      },
      "source": [
        "<a href=\"https://colab.research.google.com/github/Alenushka2013/Coursera/blob/master/%D0%9A%D0%BE%D0%BF%D0%B8%D1%8F_%D0%B1%D0%BB%D0%BE%D0%BA%D0%BD%D0%BE%D1%82%D0%B0_%22analytics_HT_task_ipynb%22.ipynb\" target=\"_parent\"><img src=\"https://colab.research.google.com/assets/colab-badge.svg\" alt=\"Open In Colab\"/></a>"
      ]
    },
    {
      "cell_type": "markdown",
      "source": [
        "# Основы аналитики. Домашнее задание\n",
        "\n",
        "В этом домашнем задании вы отработаете навыки, полученные в модуле, на реальных данных о населении в разных странах мира по годам."
      ],
      "metadata": {
        "id": "yhkxDE_fBKwP"
      }
    },
    {
      "cell_type": "code",
      "source": [
        "import pandas as pd\n",
        "import numpy as np\n",
        "from matplotlib import pyplot as plt"
      ],
      "metadata": {
        "id": "MO4uy__q7V5j"
      },
      "execution_count": 1,
      "outputs": []
    },
    {
      "cell_type": "code",
      "execution_count": 2,
      "metadata": {
        "id": "rcYbvtvU6NCl"
      },
      "outputs": [],
      "source": [
        "df = pd.read_csv(\"https://raw.githubusercontent.com/aiedu-courses/all_datasets/main/Population.csv\", delimiter=';')"
      ]
    },
    {
      "cell_type": "code",
      "source": [
        "df.head()"
      ],
      "metadata": {
        "colab": {
          "base_uri": "https://localhost:8080/",
          "height": 360
        },
        "id": "S-CmtOYP6f25",
        "outputId": "0754de10-b2b3-45c8-c46b-588284aa8038"
      },
      "execution_count": 3,
      "outputs": [
        {
          "output_type": "execute_result",
          "data": {
            "text/plain": [
              "                  Country Name         1960         1961         1962  \\\n",
              "0                        Aruba      54608.0      55811.0      56682.0   \n",
              "1  Africa Eastern and Southern  130692579.0  134169237.0  137835590.0   \n",
              "2                  Afghanistan    8622466.0    8790140.0    8969047.0   \n",
              "3   Africa Western and Central   97256290.0   99314028.0  101445032.0   \n",
              "4                       Angola    5357195.0    5441333.0    5521400.0   \n",
              "\n",
              "          1963         1964         1965         1966         1967  \\\n",
              "0      57475.0      58178.0      58782.0      59291.0      59522.0   \n",
              "1  141630546.0  145605995.0  149742351.0  153955516.0  158313235.0   \n",
              "2    9157465.0    9355514.0    9565147.0    9783147.0   10010030.0   \n",
              "3  103667517.0  105959979.0  108336203.0  110798486.0  113319950.0   \n",
              "4    5599827.0    5673199.0    5736582.0    5787044.0    5827503.0   \n",
              "\n",
              "          1968  ...         2013         2014         2015         2016  \\\n",
              "0      59471.0  ...     102880.0     103594.0     104257.0     104874.0   \n",
              "1  162875171.0  ...  567892149.0  583651101.0  600008424.0  616377605.0   \n",
              "2   10247780.0  ...   31541209.0   32716210.0   33753499.0   34636207.0   \n",
              "3  115921723.0  ...  387204553.0  397855507.0  408690375.0  419778384.0   \n",
              "4    5868203.0  ...   26147002.0   27128337.0   28127721.0   29154746.0   \n",
              "\n",
              "          2017         2018         2019         2020         2021  \\\n",
              "0     105439.0     105962.0     106442.0     106585.0     106537.0   \n",
              "1  632746570.0  649757148.0  667242986.0  685112979.0  702977106.0   \n",
              "2   35643418.0   36686784.0   37769499.0   38972230.0   40099462.0   \n",
              "3  431138704.0  442646825.0  454306063.0  466189102.0  478185907.0   \n",
              "4   30208628.0   31273533.0   32353588.0   33428486.0   34503774.0   \n",
              "\n",
              "          2022  \n",
              "0     106445.0  \n",
              "1  720859132.0  \n",
              "2   41128771.0  \n",
              "3  490330870.0  \n",
              "4   35588987.0  \n",
              "\n",
              "[5 rows x 64 columns]"
            ],
            "text/html": [
              "\n",
              "  <div id=\"df-1e59a3e9-50f4-4685-82d8-5a73999fbd36\" class=\"colab-df-container\">\n",
              "    <div>\n",
              "<style scoped>\n",
              "    .dataframe tbody tr th:only-of-type {\n",
              "        vertical-align: middle;\n",
              "    }\n",
              "\n",
              "    .dataframe tbody tr th {\n",
              "        vertical-align: top;\n",
              "    }\n",
              "\n",
              "    .dataframe thead th {\n",
              "        text-align: right;\n",
              "    }\n",
              "</style>\n",
              "<table border=\"1\" class=\"dataframe\">\n",
              "  <thead>\n",
              "    <tr style=\"text-align: right;\">\n",
              "      <th></th>\n",
              "      <th>Country Name</th>\n",
              "      <th>1960</th>\n",
              "      <th>1961</th>\n",
              "      <th>1962</th>\n",
              "      <th>1963</th>\n",
              "      <th>1964</th>\n",
              "      <th>1965</th>\n",
              "      <th>1966</th>\n",
              "      <th>1967</th>\n",
              "      <th>1968</th>\n",
              "      <th>...</th>\n",
              "      <th>2013</th>\n",
              "      <th>2014</th>\n",
              "      <th>2015</th>\n",
              "      <th>2016</th>\n",
              "      <th>2017</th>\n",
              "      <th>2018</th>\n",
              "      <th>2019</th>\n",
              "      <th>2020</th>\n",
              "      <th>2021</th>\n",
              "      <th>2022</th>\n",
              "    </tr>\n",
              "  </thead>\n",
              "  <tbody>\n",
              "    <tr>\n",
              "      <th>0</th>\n",
              "      <td>Aruba</td>\n",
              "      <td>54608.0</td>\n",
              "      <td>55811.0</td>\n",
              "      <td>56682.0</td>\n",
              "      <td>57475.0</td>\n",
              "      <td>58178.0</td>\n",
              "      <td>58782.0</td>\n",
              "      <td>59291.0</td>\n",
              "      <td>59522.0</td>\n",
              "      <td>59471.0</td>\n",
              "      <td>...</td>\n",
              "      <td>102880.0</td>\n",
              "      <td>103594.0</td>\n",
              "      <td>104257.0</td>\n",
              "      <td>104874.0</td>\n",
              "      <td>105439.0</td>\n",
              "      <td>105962.0</td>\n",
              "      <td>106442.0</td>\n",
              "      <td>106585.0</td>\n",
              "      <td>106537.0</td>\n",
              "      <td>106445.0</td>\n",
              "    </tr>\n",
              "    <tr>\n",
              "      <th>1</th>\n",
              "      <td>Africa Eastern and Southern</td>\n",
              "      <td>130692579.0</td>\n",
              "      <td>134169237.0</td>\n",
              "      <td>137835590.0</td>\n",
              "      <td>141630546.0</td>\n",
              "      <td>145605995.0</td>\n",
              "      <td>149742351.0</td>\n",
              "      <td>153955516.0</td>\n",
              "      <td>158313235.0</td>\n",
              "      <td>162875171.0</td>\n",
              "      <td>...</td>\n",
              "      <td>567892149.0</td>\n",
              "      <td>583651101.0</td>\n",
              "      <td>600008424.0</td>\n",
              "      <td>616377605.0</td>\n",
              "      <td>632746570.0</td>\n",
              "      <td>649757148.0</td>\n",
              "      <td>667242986.0</td>\n",
              "      <td>685112979.0</td>\n",
              "      <td>702977106.0</td>\n",
              "      <td>720859132.0</td>\n",
              "    </tr>\n",
              "    <tr>\n",
              "      <th>2</th>\n",
              "      <td>Afghanistan</td>\n",
              "      <td>8622466.0</td>\n",
              "      <td>8790140.0</td>\n",
              "      <td>8969047.0</td>\n",
              "      <td>9157465.0</td>\n",
              "      <td>9355514.0</td>\n",
              "      <td>9565147.0</td>\n",
              "      <td>9783147.0</td>\n",
              "      <td>10010030.0</td>\n",
              "      <td>10247780.0</td>\n",
              "      <td>...</td>\n",
              "      <td>31541209.0</td>\n",
              "      <td>32716210.0</td>\n",
              "      <td>33753499.0</td>\n",
              "      <td>34636207.0</td>\n",
              "      <td>35643418.0</td>\n",
              "      <td>36686784.0</td>\n",
              "      <td>37769499.0</td>\n",
              "      <td>38972230.0</td>\n",
              "      <td>40099462.0</td>\n",
              "      <td>41128771.0</td>\n",
              "    </tr>\n",
              "    <tr>\n",
              "      <th>3</th>\n",
              "      <td>Africa Western and Central</td>\n",
              "      <td>97256290.0</td>\n",
              "      <td>99314028.0</td>\n",
              "      <td>101445032.0</td>\n",
              "      <td>103667517.0</td>\n",
              "      <td>105959979.0</td>\n",
              "      <td>108336203.0</td>\n",
              "      <td>110798486.0</td>\n",
              "      <td>113319950.0</td>\n",
              "      <td>115921723.0</td>\n",
              "      <td>...</td>\n",
              "      <td>387204553.0</td>\n",
              "      <td>397855507.0</td>\n",
              "      <td>408690375.0</td>\n",
              "      <td>419778384.0</td>\n",
              "      <td>431138704.0</td>\n",
              "      <td>442646825.0</td>\n",
              "      <td>454306063.0</td>\n",
              "      <td>466189102.0</td>\n",
              "      <td>478185907.0</td>\n",
              "      <td>490330870.0</td>\n",
              "    </tr>\n",
              "    <tr>\n",
              "      <th>4</th>\n",
              "      <td>Angola</td>\n",
              "      <td>5357195.0</td>\n",
              "      <td>5441333.0</td>\n",
              "      <td>5521400.0</td>\n",
              "      <td>5599827.0</td>\n",
              "      <td>5673199.0</td>\n",
              "      <td>5736582.0</td>\n",
              "      <td>5787044.0</td>\n",
              "      <td>5827503.0</td>\n",
              "      <td>5868203.0</td>\n",
              "      <td>...</td>\n",
              "      <td>26147002.0</td>\n",
              "      <td>27128337.0</td>\n",
              "      <td>28127721.0</td>\n",
              "      <td>29154746.0</td>\n",
              "      <td>30208628.0</td>\n",
              "      <td>31273533.0</td>\n",
              "      <td>32353588.0</td>\n",
              "      <td>33428486.0</td>\n",
              "      <td>34503774.0</td>\n",
              "      <td>35588987.0</td>\n",
              "    </tr>\n",
              "  </tbody>\n",
              "</table>\n",
              "<p>5 rows × 64 columns</p>\n",
              "</div>\n",
              "    <div class=\"colab-df-buttons\">\n",
              "\n",
              "  <div class=\"colab-df-container\">\n",
              "    <button class=\"colab-df-convert\" onclick=\"convertToInteractive('df-1e59a3e9-50f4-4685-82d8-5a73999fbd36')\"\n",
              "            title=\"Convert this dataframe to an interactive table.\"\n",
              "            style=\"display:none;\">\n",
              "\n",
              "  <svg xmlns=\"http://www.w3.org/2000/svg\" height=\"24px\" viewBox=\"0 -960 960 960\">\n",
              "    <path d=\"M120-120v-720h720v720H120Zm60-500h600v-160H180v160Zm220 220h160v-160H400v160Zm0 220h160v-160H400v160ZM180-400h160v-160H180v160Zm440 0h160v-160H620v160ZM180-180h160v-160H180v160Zm440 0h160v-160H620v160Z\"/>\n",
              "  </svg>\n",
              "    </button>\n",
              "\n",
              "  <style>\n",
              "    .colab-df-container {\n",
              "      display:flex;\n",
              "      gap: 12px;\n",
              "    }\n",
              "\n",
              "    .colab-df-convert {\n",
              "      background-color: #E8F0FE;\n",
              "      border: none;\n",
              "      border-radius: 50%;\n",
              "      cursor: pointer;\n",
              "      display: none;\n",
              "      fill: #1967D2;\n",
              "      height: 32px;\n",
              "      padding: 0 0 0 0;\n",
              "      width: 32px;\n",
              "    }\n",
              "\n",
              "    .colab-df-convert:hover {\n",
              "      background-color: #E2EBFA;\n",
              "      box-shadow: 0px 1px 2px rgba(60, 64, 67, 0.3), 0px 1px 3px 1px rgba(60, 64, 67, 0.15);\n",
              "      fill: #174EA6;\n",
              "    }\n",
              "\n",
              "    .colab-df-buttons div {\n",
              "      margin-bottom: 4px;\n",
              "    }\n",
              "\n",
              "    [theme=dark] .colab-df-convert {\n",
              "      background-color: #3B4455;\n",
              "      fill: #D2E3FC;\n",
              "    }\n",
              "\n",
              "    [theme=dark] .colab-df-convert:hover {\n",
              "      background-color: #434B5C;\n",
              "      box-shadow: 0px 1px 3px 1px rgba(0, 0, 0, 0.15);\n",
              "      filter: drop-shadow(0px 1px 2px rgba(0, 0, 0, 0.3));\n",
              "      fill: #FFFFFF;\n",
              "    }\n",
              "  </style>\n",
              "\n",
              "    <script>\n",
              "      const buttonEl =\n",
              "        document.querySelector('#df-1e59a3e9-50f4-4685-82d8-5a73999fbd36 button.colab-df-convert');\n",
              "      buttonEl.style.display =\n",
              "        google.colab.kernel.accessAllowed ? 'block' : 'none';\n",
              "\n",
              "      async function convertToInteractive(key) {\n",
              "        const element = document.querySelector('#df-1e59a3e9-50f4-4685-82d8-5a73999fbd36');\n",
              "        const dataTable =\n",
              "          await google.colab.kernel.invokeFunction('convertToInteractive',\n",
              "                                                    [key], {});\n",
              "        if (!dataTable) return;\n",
              "\n",
              "        const docLinkHtml = 'Like what you see? Visit the ' +\n",
              "          '<a target=\"_blank\" href=https://colab.research.google.com/notebooks/data_table.ipynb>data table notebook</a>'\n",
              "          + ' to learn more about interactive tables.';\n",
              "        element.innerHTML = '';\n",
              "        dataTable['output_type'] = 'display_data';\n",
              "        await google.colab.output.renderOutput(dataTable, element);\n",
              "        const docLink = document.createElement('div');\n",
              "        docLink.innerHTML = docLinkHtml;\n",
              "        element.appendChild(docLink);\n",
              "      }\n",
              "    </script>\n",
              "  </div>\n",
              "\n",
              "\n",
              "<div id=\"df-97a35f2b-876a-4439-810f-1f1544d0a3cb\">\n",
              "  <button class=\"colab-df-quickchart\" onclick=\"quickchart('df-97a35f2b-876a-4439-810f-1f1544d0a3cb')\"\n",
              "            title=\"Suggest charts\"\n",
              "            style=\"display:none;\">\n",
              "\n",
              "<svg xmlns=\"http://www.w3.org/2000/svg\" height=\"24px\"viewBox=\"0 0 24 24\"\n",
              "     width=\"24px\">\n",
              "    <g>\n",
              "        <path d=\"M19 3H5c-1.1 0-2 .9-2 2v14c0 1.1.9 2 2 2h14c1.1 0 2-.9 2-2V5c0-1.1-.9-2-2-2zM9 17H7v-7h2v7zm4 0h-2V7h2v10zm4 0h-2v-4h2v4z\"/>\n",
              "    </g>\n",
              "</svg>\n",
              "  </button>\n",
              "\n",
              "<style>\n",
              "  .colab-df-quickchart {\n",
              "      --bg-color: #E8F0FE;\n",
              "      --fill-color: #1967D2;\n",
              "      --hover-bg-color: #E2EBFA;\n",
              "      --hover-fill-color: #174EA6;\n",
              "      --disabled-fill-color: #AAA;\n",
              "      --disabled-bg-color: #DDD;\n",
              "  }\n",
              "\n",
              "  [theme=dark] .colab-df-quickchart {\n",
              "      --bg-color: #3B4455;\n",
              "      --fill-color: #D2E3FC;\n",
              "      --hover-bg-color: #434B5C;\n",
              "      --hover-fill-color: #FFFFFF;\n",
              "      --disabled-bg-color: #3B4455;\n",
              "      --disabled-fill-color: #666;\n",
              "  }\n",
              "\n",
              "  .colab-df-quickchart {\n",
              "    background-color: var(--bg-color);\n",
              "    border: none;\n",
              "    border-radius: 50%;\n",
              "    cursor: pointer;\n",
              "    display: none;\n",
              "    fill: var(--fill-color);\n",
              "    height: 32px;\n",
              "    padding: 0;\n",
              "    width: 32px;\n",
              "  }\n",
              "\n",
              "  .colab-df-quickchart:hover {\n",
              "    background-color: var(--hover-bg-color);\n",
              "    box-shadow: 0 1px 2px rgba(60, 64, 67, 0.3), 0 1px 3px 1px rgba(60, 64, 67, 0.15);\n",
              "    fill: var(--button-hover-fill-color);\n",
              "  }\n",
              "\n",
              "  .colab-df-quickchart-complete:disabled,\n",
              "  .colab-df-quickchart-complete:disabled:hover {\n",
              "    background-color: var(--disabled-bg-color);\n",
              "    fill: var(--disabled-fill-color);\n",
              "    box-shadow: none;\n",
              "  }\n",
              "\n",
              "  .colab-df-spinner {\n",
              "    border: 2px solid var(--fill-color);\n",
              "    border-color: transparent;\n",
              "    border-bottom-color: var(--fill-color);\n",
              "    animation:\n",
              "      spin 1s steps(1) infinite;\n",
              "  }\n",
              "\n",
              "  @keyframes spin {\n",
              "    0% {\n",
              "      border-color: transparent;\n",
              "      border-bottom-color: var(--fill-color);\n",
              "      border-left-color: var(--fill-color);\n",
              "    }\n",
              "    20% {\n",
              "      border-color: transparent;\n",
              "      border-left-color: var(--fill-color);\n",
              "      border-top-color: var(--fill-color);\n",
              "    }\n",
              "    30% {\n",
              "      border-color: transparent;\n",
              "      border-left-color: var(--fill-color);\n",
              "      border-top-color: var(--fill-color);\n",
              "      border-right-color: var(--fill-color);\n",
              "    }\n",
              "    40% {\n",
              "      border-color: transparent;\n",
              "      border-right-color: var(--fill-color);\n",
              "      border-top-color: var(--fill-color);\n",
              "    }\n",
              "    60% {\n",
              "      border-color: transparent;\n",
              "      border-right-color: var(--fill-color);\n",
              "    }\n",
              "    80% {\n",
              "      border-color: transparent;\n",
              "      border-right-color: var(--fill-color);\n",
              "      border-bottom-color: var(--fill-color);\n",
              "    }\n",
              "    90% {\n",
              "      border-color: transparent;\n",
              "      border-bottom-color: var(--fill-color);\n",
              "    }\n",
              "  }\n",
              "</style>\n",
              "\n",
              "  <script>\n",
              "    async function quickchart(key) {\n",
              "      const quickchartButtonEl =\n",
              "        document.querySelector('#' + key + ' button');\n",
              "      quickchartButtonEl.disabled = true;  // To prevent multiple clicks.\n",
              "      quickchartButtonEl.classList.add('colab-df-spinner');\n",
              "      try {\n",
              "        const charts = await google.colab.kernel.invokeFunction(\n",
              "            'suggestCharts', [key], {});\n",
              "      } catch (error) {\n",
              "        console.error('Error during call to suggestCharts:', error);\n",
              "      }\n",
              "      quickchartButtonEl.classList.remove('colab-df-spinner');\n",
              "      quickchartButtonEl.classList.add('colab-df-quickchart-complete');\n",
              "    }\n",
              "    (() => {\n",
              "      let quickchartButtonEl =\n",
              "        document.querySelector('#df-97a35f2b-876a-4439-810f-1f1544d0a3cb button');\n",
              "      quickchartButtonEl.style.display =\n",
              "        google.colab.kernel.accessAllowed ? 'block' : 'none';\n",
              "    })();\n",
              "  </script>\n",
              "</div>\n",
              "    </div>\n",
              "  </div>\n"
            ],
            "application/vnd.google.colaboratory.intrinsic+json": {
              "type": "dataframe",
              "variable_name": "df"
            }
          },
          "metadata": {},
          "execution_count": 3
        }
      ]
    },
    {
      "cell_type": "markdown",
      "source": [
        "В следующих ячейках мы создаем объекты:\n",
        "\n",
        "* `years` - список годов в данных\n",
        "\n",
        "* `aruba_population` - население на Арубе по годам"
      ],
      "metadata": {
        "id": "bGkAUIHpBc9S"
      }
    },
    {
      "cell_type": "code",
      "source": [
        "years = df.columns[1:].astype(int)\n",
        "\n",
        "years[-5:]"
      ],
      "metadata": {
        "colab": {
          "base_uri": "https://localhost:8080/"
        },
        "id": "ZpICO4U27zCy",
        "outputId": "8c28715e-77a1-4940-ea99-f8133b580014"
      },
      "execution_count": 4,
      "outputs": [
        {
          "output_type": "execute_result",
          "data": {
            "text/plain": [
              "Int64Index([2018, 2019, 2020, 2021, 2022], dtype='int64')"
            ]
          },
          "metadata": {},
          "execution_count": 4
        }
      ]
    },
    {
      "cell_type": "code",
      "source": [
        "aruba_population = df[df['Country Name'] == 'Aruba'].values[0][1:]\n",
        "\n",
        "aruba_population[:5]"
      ],
      "metadata": {
        "colab": {
          "base_uri": "https://localhost:8080/"
        },
        "id": "E5fE9g4t7Mfn",
        "outputId": "304fc079-1a51-4a97-d022-7a7e7aa37058"
      },
      "execution_count": 5,
      "outputs": [
        {
          "output_type": "execute_result",
          "data": {
            "text/plain": [
              "array([54608.0, 55811.0, 56682.0, 57475.0, 58178.0], dtype=object)"
            ]
          },
          "metadata": {},
          "execution_count": 5
        }
      ]
    },
    {
      "cell_type": "markdown",
      "source": [
        "Построим график численности населения на Арубе по годам."
      ],
      "metadata": {
        "id": "E8FqcrLBBnkM"
      }
    },
    {
      "cell_type": "code",
      "source": [
        "plt.plot(years, aruba_population, '-')"
      ],
      "metadata": {
        "colab": {
          "base_uri": "https://localhost:8080/",
          "height": 447
        },
        "id": "x_heYgUz7eyk",
        "outputId": "74e2620b-5598-4eed-a61e-f195af74e6a4"
      },
      "execution_count": 6,
      "outputs": [
        {
          "output_type": "execute_result",
          "data": {
            "text/plain": [
              "[<matplotlib.lines.Line2D at 0x799a0da61bd0>]"
            ]
          },
          "metadata": {},
          "execution_count": 6
        },
        {
          "output_type": "display_data",
          "data": {
            "text/plain": [
              "<Figure size 640x480 with 1 Axes>"
            ],
            "image/png": "[encoded data removed]"
          },
          "metadata": {}
        }
      ]
    },
    {
      "cell_type": "markdown",
      "source": [
        "## Задание 1\n",
        "\n",
        "По аналогии с кодом выше нарисуйте график населения Болгарии.\n",
        "\n",
        "Можно ли сказать, что население постоянно растет?"
      ],
      "metadata": {
        "id": "6gT60xI98tzh"
      }
    },
    {
      "cell_type": "code",
      "source": [
        "# ваш код здесь\n",
        "bulgaria_population = df[df['Country Name'] == 'Bulgaria'].values[0][1:]\n",
        "years = df.columns[1:].astype(int)\n",
        "plt.plot(years, bulgaria_population, '-')\n"
      ],
      "metadata": {
        "id": "lLBJYNle8C28",
        "colab": {
          "base_uri": "https://localhost:8080/",
          "height": 462
        },
        "outputId": "4c54a948-f937-4614-b52b-39a94a8b4a25"
      },
      "execution_count": 7,
      "outputs": [
        {
          "output_type": "execute_result",
          "data": {
            "text/plain": [
              "[<matplotlib.lines.Line2D at 0x799a076c9cf0>]"
            ]
          },
          "metadata": {},
          "execution_count": 7
        },
        {
          "output_type": "display_data",
          "data": {
            "text/plain": [
              "<Figure size 640x480 with 1 Axes>"
            ],
            "image/png": "[encoded data removed]"
          },
          "metadata": {}
        }
      ]
    },
    {
      "cell_type": "code",
      "source": [
        "\n",
        "ukraine_population = df[df['Country Name'] == 'Ukraine'].values[0][30:]\n",
        "years = df.columns[30:].astype(int)\n",
        "plt.plot(years, ukraine_population, '-')"
      ],
      "metadata": {
        "colab": {
          "base_uri": "https://localhost:8080/",
          "height": 462
        },
        "id": "TupFwIyV9iyF",
        "outputId": "10316b2f-648e-4c39-ae8b-30c3bb27e41b"
      },
      "execution_count": 19,
      "outputs": [
        {
          "output_type": "execute_result",
          "data": {
            "text/plain": [
              "[<matplotlib.lines.Line2D at 0x799a07636710>]"
            ]
          },
          "metadata": {},
          "execution_count": 19
        },
        {
          "output_type": "display_data",
          "data": {
            "text/plain": [
              "<Figure size 640x480 with 1 Axes>"
            ],
            "image/png": "[encoded data removed]"
          },
          "metadata": {}
        }
      ]
    },
    {
      "cell_type": "code",
      "source": [
        "ukraine_population\n"
      ],
      "metadata": {
        "colab": {
          "base_uri": "https://localhost:8080/"
        },
        "id": "D8L81VrW9zky",
        "outputId": "8e17e23b-5439-4930-a4f3-8fb29ab97e1a"
      },
      "execution_count": 10,
      "outputs": [
        {
          "output_type": "execute_result",
          "data": {
            "text/plain": [
              "array([42767251.0, 43365219.0, 43924755.0, 44445903.0, 44941406.0,\n",
              "       45387091.0, 45809120.0, 46235370.0, 46635196.0, 46990889.0,\n",
              "       47279086.0, 47597756.0, 47974187.0, 48301548.0, 48602694.0,\n",
              "       48892187.0, 49144535.0, 49357430.0, 49536615.0, 49739734.0,\n",
              "       49973920.0, 50221000.0, 50384000.0, 50564000.0, 50754000.0,\n",
              "       50917000.0, 51097000.0, 51293000.0, 51521000.0, 51773000.0,\n",
              "       51891400.0, 52000500.0, 52150400.0, 52179200.0, 51921400.0,\n",
              "       51512800.0, 51057800.0, 50594600.0, 50144500.0, 49674000.0,\n",
              "       49176500.0, 48662400.0, 48202470.0, 47812949.0, 47451626.0,\n",
              "       47105171.0, 46787786.0, 46509355.0, 46258189.0, 46053331.0,\n",
              "       45870741.0, 45706086.0, 45593342.0, 45489648.0, 45272155.0,\n",
              "       45154036.0, 45004673.0, 44831135.0, 44622518.0, 44386203.0,\n",
              "       44132049.0, 43822901.0, 38000000.0], dtype=object)"
            ]
          },
          "metadata": {},
          "execution_count": 10
        }
      ]
    },
    {
      "cell_type": "markdown",
      "source": [
        "## Задание 2\n",
        "\n",
        "Вычислите среднее значение населения Болгарии за все годы, представленные в таблице. Ответ округлите до целого числа."
      ],
      "metadata": {
        "id": "8K1mGWAn87Vb"
      }
    },
    {
      "cell_type": "code",
      "source": [
        "# ваш код здесь\n",
        "round(bulgaria_population.mean(), 0)"
      ],
      "metadata": {
        "id": "urnHJnbq82Ck",
        "colab": {
          "base_uri": "https://localhost:8080/"
        },
        "outputId": "2922d36b-b0eb-442a-cc10-c64bebc0f896"
      },
      "execution_count": 14,
      "outputs": [
        {
          "output_type": "execute_result",
          "data": {
            "text/plain": [
              "8120173.0"
            ]
          },
          "metadata": {},
          "execution_count": 14
        }
      ]
    },
    {
      "cell_type": "markdown",
      "source": [
        "## Задание 3\n",
        "\n",
        "Вычислите среднее значение населения Болгарии за пять последних лет, представленных в таблице. Верно ли, что в среднем за пять последних лет наблюдается прирост населения по сравнению со средним значением за все годы?"
      ],
      "metadata": {
        "id": "57LDVkGf9TRW"
      }
    },
    {
      "cell_type": "code",
      "source": [
        "# ваш код здесь\n",
        "round(bulgaria_population[-5:].mean(), 0)"
      ],
      "metadata": {
        "id": "ADssydSY9NPK",
        "colab": {
          "base_uri": "https://localhost:8080/"
        },
        "outputId": "18ea9c34-e68e-4fb9-b99d-c47de429e767"
      },
      "execution_count": 15,
      "outputs": [
        {
          "output_type": "execute_result",
          "data": {
            "text/plain": [
              "6855531.0"
            ]
          },
          "metadata": {},
          "execution_count": 15
        }
      ]
    },
    {
      "cell_type": "markdown",
      "source": [
        "## Задание 4\n",
        "\n",
        "Вычислите медиану населения Болгарии за все годы из таблицы. Ответ округлите до целого числа."
      ],
      "metadata": {
        "id": "fnfqP6dm9mLM"
      }
    },
    {
      "cell_type": "code",
      "source": [
        "# ваш код здесь\n",
        "round(np.median(bulgaria_population), 0)"
      ],
      "metadata": {
        "id": "XSGGzwjg9aMO",
        "colab": {
          "base_uri": "https://localhost:8080/"
        },
        "outputId": "14e5d552-d0bf-47d0-ef21-cf173eadd97e"
      },
      "execution_count": 18,
      "outputs": [
        {
          "output_type": "execute_result",
          "data": {
            "text/plain": [
              "8258057.0"
            ]
          },
          "metadata": {},
          "execution_count": 18
        }
      ]
    },
    {
      "cell_type": "markdown",
      "source": [
        "## Задание 5\n",
        "\n",
        "Найдите страну, население которой ведет себя похожим образом (как в Болгарии) - сначала растет, а потом падает. Что это за страна (из перечисленных)?\n",
        "\n",
        "* Доминиканская республика\n",
        "* Хорватия\n",
        "* Эритрея\n",
        "* Германия\n",
        "* Косово"
      ],
      "metadata": {
        "id": "1KM8ZiEU924D"
      }
    },
    {
      "cell_type": "code",
      "source": [
        "# ваш код здесь\n",
        "germany_population = df[df['Country Name'] == 'Germany'].values[0][1:]\n",
        "years = df.columns[1:].astype(int)\n",
        "plt.plot(years, germany_population, '-')"
      ],
      "metadata": {
        "id": "nwLbJOwl9slA",
        "colab": {
          "base_uri": "https://localhost:8080/",
          "height": 462
        },
        "outputId": "3d7f77cb-40d7-4bca-9359-47768624f9ad"
      },
      "execution_count": 20,
      "outputs": [
        {
          "output_type": "execute_result",
          "data": {
            "text/plain": [
              "[<matplotlib.lines.Line2D at 0x799a07214c10>]"
            ]
          },
          "metadata": {},
          "execution_count": 20
        },
        {
          "output_type": "display_data",
          "data": {
            "text/plain": [
              "<Figure size 640x480 with 1 Axes>"
            ],
            "image/png": "[encoded data removed]"
          },
          "metadata": {}
        }
      ]
    },
    {
      "cell_type": "code",
      "source": [
        "df['Country Name'][51:70]"
      ],
      "metadata": {
        "colab": {
          "base_uri": "https://localhost:8080/"
        },
        "id": "Z5yZnQUf_5Ye",
        "outputId": "9958dc8d-0129-4f9f-cbec-9bb2b3f425bb"
      },
      "execution_count": 31,
      "outputs": [
        {
          "output_type": "execute_result",
          "data": {
            "text/plain": [
              "51                                          Curacao\n",
              "52                                   Cayman Islands\n",
              "53                                           Cyprus\n",
              "54                                          Czechia\n",
              "55                                          Germany\n",
              "56                                         Djibouti\n",
              "57                                         Dominica\n",
              "58                                          Denmark\n",
              "59                               Dominican Republic\n",
              "60                                          Algeria\n",
              "61      East Asia & Pacific (excluding high income)\n",
              "62                       Early-demographic dividend\n",
              "63                              East Asia & Pacific\n",
              "64    Europe & Central Asia (excluding high income)\n",
              "65                            Europe & Central Asia\n",
              "66                                          Ecuador\n",
              "67                                 Egypt, Arab Rep.\n",
              "68                                        Euro area\n",
              "69                                          Eritrea\n",
              "Name: Country Name, dtype: object"
            ]
          },
          "metadata": {},
          "execution_count": 31
        }
      ]
    },
    {
      "cell_type": "code",
      "source": [
        "Croatia_population = df[df['Country Name'] == 'Croatia'].values[0][1:]\n",
        "years = df.columns[1:].astype(int)\n",
        "plt.plot(years, Croatia_population, '-')"
      ],
      "metadata": {
        "colab": {
          "base_uri": "https://localhost:8080/",
          "height": 462
        },
        "id": "hfYWTgzDAwaz",
        "outputId": "5e6010dd-28ed-493f-e397-79ef2e8bdc76"
      },
      "execution_count": 33,
      "outputs": [
        {
          "output_type": "execute_result",
          "data": {
            "text/plain": [
              "[<matplotlib.lines.Line2D at 0x799a06cd3940>]"
            ]
          },
          "metadata": {},
          "execution_count": 33
        },
        {
          "output_type": "display_data",
          "data": {
            "text/plain": [
              "<Figure size 640x480 with 1 Axes>"
            ],
            "image/png": "[encoded data removed]"
          },
          "metadata": {}
        }
      ]
    },
    {
      "cell_type": "markdown",
      "source": [
        "## Задание 6\n",
        "\n",
        "В каком году в найденной в предыдущем задании стране был пик населения?"
      ],
      "metadata": {
        "id": "sro6HTvI-bWl"
      }
    },
    {
      "cell_type": "code",
      "source": [
        "# ваш код здесь\n",
        "years[np.where(Croatia_population == max(Croatia_population))[0]][0]"
      ],
      "metadata": {
        "id": "RmUDOzF6-h1F",
        "colab": {
          "base_uri": "https://localhost:8080/"
        },
        "outputId": "e3b173e7-a841-4478-b492-2b266ca5f22c"
      },
      "execution_count": 45,
      "outputs": [
        {
          "output_type": "execute_result",
          "data": {
            "text/plain": [
              "1990"
            ]
          },
          "metadata": {},
          "execution_count": 45
        }
      ]
    },
    {
      "cell_type": "code",
      "source": [
        "max(Croatia_population)"
      ],
      "metadata": {
        "colab": {
          "base_uri": "https://localhost:8080/"
        },
        "id": "V-MBx6QoCr15",
        "outputId": "43bdf9c9-e9e5-4269-d425-f2212fad92f0"
      },
      "execution_count": 38,
      "outputs": [
        {
          "output_type": "execute_result",
          "data": {
            "text/plain": [
              "4777368.0"
            ]
          },
          "metadata": {},
          "execution_count": 38
        }
      ]
    },
    {
      "cell_type": "markdown",
      "source": [
        "## Задание 7\n",
        "\n",
        "Вычислите корреляцию Пирсона между населением Болгарии и страны, найденной в задании 5. Ответ округлите до сотых."
      ],
      "metadata": {
        "id": "4HsdXyzR-33n"
      }
    },
    {
      "cell_type": "code",
      "source": [
        "def correl(X, Y):\n",
        "  return sum((X - np.mean(X))*(Y - np.mean(Y)))/(sum((X - np.mean(X))**2) * sum((Y - np.mean(Y))** 2))**0.5"
      ],
      "metadata": {
        "id": "CO3UOXk_GE_x"
      },
      "execution_count": 55,
      "outputs": []
    },
    {
      "cell_type": "code",
      "source": [
        "X = np.array([1, 2, 3])\n",
        "Y = np.array([3, 4, 5])\n",
        "correl(X, Y)"
      ],
      "metadata": {
        "colab": {
          "base_uri": "https://localhost:8080/"
        },
        "id": "eOCNbgm6GVJK",
        "outputId": "b2285101-64e2-4793-bf6c-8d78fdc101a8"
      },
      "execution_count": 56,
      "outputs": [
        {
          "output_type": "execute_result",
          "data": {
            "text/plain": [
              "1.0"
            ]
          },
          "metadata": {},
          "execution_count": 56
        }
      ]
    },
    {
      "cell_type": "code",
      "source": [
        "# ваш код здесь\n",
        "\n",
        "#np.corrcoef(bulgaria_population, Croatia_population)\n",
        "#df[df['Country Name'] == 'Bulgaria'].values[0][1:]\n",
        "#df[df['Country Name'] == 'Bulgaria'].corr(df[df['Country Name'] == 'Croatia'])\n",
        "round(correl(bulgaria_population, Croatia_population), 2)"
      ],
      "metadata": {
        "id": "p8BmwOyl-p0j",
        "colab": {
          "base_uri": "https://localhost:8080/"
        },
        "outputId": "e81db844-7660-4260-b778-78b4cf67a1cd"
      },
      "execution_count": 59,
      "outputs": [
        {
          "output_type": "execute_result",
          "data": {
            "text/plain": [
              "0.89"
            ]
          },
          "metadata": {},
          "execution_count": 59
        }
      ]
    },
    {
      "cell_type": "markdown",
      "source": [
        "## Задание 8\n",
        "\n",
        "Вычислите несмещенное выборочное стандартное отклонение для населения страны, найденной в задании 5. Ответ округлите до целого числа."
      ],
      "metadata": {
        "id": "4r0pGSGl_7uY"
      }
    },
    {
      "cell_type": "code",
      "source": [
        "def nstd(X):\n",
        "  return (sum((X - np.mean(X))** 2) / (len(X) - 1)) ** 0.5"
      ],
      "metadata": {
        "id": "QYhAChkyHtRM"
      },
      "execution_count": 60,
      "outputs": []
    },
    {
      "cell_type": "code",
      "source": [
        "# ваш код здесь\n",
        "round(nstd(Croatia_population), 0)"
      ],
      "metadata": {
        "id": "6OYx_Tsd_Jep",
        "colab": {
          "base_uri": "https://localhost:8080/"
        },
        "outputId": "1e311694-bd82-43a7-f532-1b027b6dfd9b"
      },
      "execution_count": 62,
      "outputs": [
        {
          "output_type": "execute_result",
          "data": {
            "text/plain": [
              "218541.0"
            ]
          },
          "metadata": {},
          "execution_count": 62
        }
      ]
    },
    {
      "cell_type": "markdown",
      "source": [
        "## Задание 9\n",
        "\n",
        "Вычислите несмещенное выборочное стандартное отклонение для населения Болгарии. Верно ли, что в Болгарии \"разброс\" относительно среднего количества населения больше, чем в стране, найденной в задании 5?"
      ],
      "metadata": {
        "id": "_oSefk5BAWvA"
      }
    },
    {
      "cell_type": "code",
      "source": [
        "# ваш код здесь\n",
        "round(nstd(bulgaria_population), 0)"
      ],
      "metadata": {
        "id": "YmEGcZGbASuN",
        "colab": {
          "base_uri": "https://localhost:8080/"
        },
        "outputId": "15736b19-77bc-4506-dc4b-f7f28af014ae"
      },
      "execution_count": 63,
      "outputs": [
        {
          "output_type": "execute_result",
          "data": {
            "text/plain": [
              "671812.0"
            ]
          },
          "metadata": {},
          "execution_count": 63
        }
      ]
    },
    {
      "cell_type": "markdown",
      "source": [
        "## Задание 10\n",
        "\n",
        "Мы нашли две страны, в которых количество населения изменяется похожим образом. Попробуйте дать объяснение (исторические, социальные, экономические факторы) этому. Пишите ваш ответ в комментариях."
      ],
      "metadata": {
        "id": "2z-PLkqxAlBB"
      }
    },
    {
      "cell_type": "code",
      "source": [
        "# ваши мысли"
      ],
      "metadata": {
        "id": "qAY6SqTIAjuo"
      },
      "execution_count": null,
      "outputs": []
    },
    {
      "cell_type": "markdown",
      "source": [
        "## Задание 11 (бонус)\n",
        "\n",
        "Есть ли в данных другие страны, население которых также похожим образом ведет себя на поведение численности населения в Болгарии? Среди этих стран есть ли та, корреляция населения которой с населением Болгарии больше найденной в задании 7?\n",
        "\n",
        "Перечислите в комментариях найденные страны, а также укажите страну-лидер по корреляции с населением Болгарии."
      ],
      "metadata": {
        "id": "8TPBT4PgAx0Z"
      }
    },
    {
      "cell_type": "code",
      "source": [
        "# ваши эксперименты здесь\n",
        "res = []\n",
        "for country in df['Country Name']:\n",
        "  if correl(bulgaria_population, df[df['Country Name'] == country].values[0][1:]) > 0.89:\n",
        "    res.append(country)"
      ],
      "metadata": {
        "id": "Xh6MpUOzBBaK"
      },
      "execution_count": 64,
      "outputs": []
    },
    {
      "cell_type": "code",
      "source": [
        "res"
      ],
      "metadata": {
        "colab": {
          "base_uri": "https://localhost:8080/"
        },
        "id": "5ltmbYcGJprp",
        "outputId": "e658cf77-6a5c-4ee4-a9e1-d45235ae0c1c"
      },
      "execution_count": 65,
      "outputs": [
        {
          "output_type": "execute_result",
          "data": {
            "text/plain": [
              "['Bulgaria', 'Croatia', 'Hungary', 'Latvia']"
            ]
          },
          "metadata": {},
          "execution_count": 65
        }
      ]
    },
    {
      "cell_type": "code",
      "source": [],
      "metadata": {
        "id": "g6ARdsvQJqxp"
      },
      "execution_count": null,
      "outputs": []
    }
  ]
}