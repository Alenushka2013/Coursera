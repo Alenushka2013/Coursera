{
  "nbformat": 4,
  "nbformat_minor": 0,
  "metadata": {
    "colab": {
      "provenance": [],
      "include_colab_link": true
    },
    "kernelspec": {
      "name": "python3",
      "display_name": "Python 3"
    },
    "language_info": {
      "name": "python"
    }
  },
  "cells": [
    {
      "cell_type": "markdown",
      "metadata": {
        "id": "view-in-github",
        "colab_type": "text"
      },
      "source": [
        "<a href=\"https://colab.research.google.com/github/Alenushka2013/Coursera/blob/master/228094_4_5_linear_models_HW.ipynb\" target=\"_parent\"><img src=\"https://colab.research.google.com/assets/colab-badge.svg\" alt=\"Open In Colab\"/></a>"
      ]
    },
    {
      "cell_type": "markdown",
      "source": [
        "# **Анализ важности признаков в логистической регрессии.**\n",
        "\n",
        "Добро пожаловать в первое домашнее задание курса — посвященное логистической регресии и анализу весов линейной модели в целом. Работать будем с набором данных про диабет! [Источник](https://www.kaggle.com/datasets/mathchi/diabetes-data-set)\n",
        "\n",
        "### **Предположения:**\n",
        "\n",
        "Будем полагать, что разведочный анализ данных был проведен заранее и на его основе не выявлено значимых различий признаков по классам.\n",
        "\n",
        "Однако, важно понимать, что в контексте анализа важности признаков базовое рассмотрение распределений признаков по классам очень значимо. Его может быть достаточно для моделирования новых гипотез о данных и предментной области. При этом также справедливо, что вклады признаков, получаемые на основе статистического анализа и вклады, получаемые на основе моделей машинного обучения могут быть различины.\n",
        "\n",
        "### **Основное уравнение прогноза:**\n",
        "\n",
        "$$f(\\vec{x}) = \\frac{1}{1+exp(-\\vec{x})}$$\n",
        "\n",
        "### **Ход дз:**\n",
        "\n",
        "В работе мы не будем повторять шаги, изученные на степе, так как с линейными моделями всё просто. Есть коэффициенты — есть интерпретация(при условии стандартизации признаков). Вместо этого, зададимся другим вопросом — достаточно ли точечной оценки весов регрессии? То есть, можно ли, обучив модель на каком-то куске данных и взяв её веса выдвинуть однозначные гипотезы и важности?\n",
        "\n",
        "**Анализ этих вопросов и ждёт вас в дз. Успешного кодинга!**\n",
        "\n"
      ],
      "metadata": {
        "id": "IP209ZXLEdd_"
      }
    },
    {
      "cell_type": "markdown",
      "source": [
        "Приступим к задаче!"
      ],
      "metadata": {
        "id": "0EGQlNCrI69u"
      }
    },
    {
      "cell_type": "code",
      "source": [
        "#Импорт основных библиотек\n",
        "\n",
        "import pandas as pd\n",
        "import numpy as np\n",
        "import matplotlib.pyplot as plt\n",
        "import seaborn as sns\n",
        "from sklearn.model_selection import train_test_split\n",
        "from sklearn.linear_model import LogisticRegression\n",
        "from sklearn import metrics\n",
        "from sklearn.metrics import classification_report, confusion_matrix"
      ],
      "metadata": {
        "id": "c13lStm0H987"
      },
      "execution_count": 1,
      "outputs": []
    },
    {
      "cell_type": "code",
      "source": [
        "path = 'https://github.com/SadSabrina/interpretable_AI_course/raw/refs/heads/main/data/diabetes.csv'\n",
        "data = pd.read_csv(path)\n",
        "\n",
        "data.head()"
      ],
      "metadata": {
        "colab": {
          "base_uri": "https://localhost:8080/",
          "height": 206
        },
        "id": "BBXudHxaIDH6",
        "outputId": "e33334b3-a5c3-46d1-86da-589e514bc42f"
      },
      "execution_count": 2,
      "outputs": [
        {
          "output_type": "execute_result",
          "data": {
            "text/plain": [
              "   Pregnancies  Glucose  BloodPressure  SkinThickness  Insulin   BMI  \\\n",
              "0            6      148             72             35        0  33.6   \n",
              "1            1       85             66             29        0  26.6   \n",
              "2            8      183             64              0        0  23.3   \n",
              "3            1       89             66             23       94  28.1   \n",
              "4            0      137             40             35      168  43.1   \n",
              "\n",
              "   DiabetesPedigreeFunction  Age  Outcome  \n",
              "0                     0.627   50        1  \n",
              "1                     0.351   31        0  \n",
              "2                     0.672   32        1  \n",
              "3                     0.167   21        0  \n",
              "4                     2.288   33        1  "
            ],
            "text/html": [
              "\n",
              "  <div id=\"df-2ce550f7-2699-4cfe-bc3b-e24fe04bfba3\" class=\"colab-df-container\">\n",
              "    <div>\n",
              "<style scoped>\n",
              "    .dataframe tbody tr th:only-of-type {\n",
              "        vertical-align: middle;\n",
              "    }\n",
              "\n",
              "    .dataframe tbody tr th {\n",
              "        vertical-align: top;\n",
              "    }\n",
              "\n",
              "    .dataframe thead th {\n",
              "        text-align: right;\n",
              "    }\n",
              "</style>\n",
              "<table border=\"1\" class=\"dataframe\">\n",
              "  <thead>\n",
              "    <tr style=\"text-align: right;\">\n",
              "      <th></th>\n",
              "      <th>Pregnancies</th>\n",
              "      <th>Glucose</th>\n",
              "      <th>BloodPressure</th>\n",
              "      <th>SkinThickness</th>\n",
              "      <th>Insulin</th>\n",
              "      <th>BMI</th>\n",
              "      <th>DiabetesPedigreeFunction</th>\n",
              "      <th>Age</th>\n",
              "      <th>Outcome</th>\n",
              "    </tr>\n",
              "  </thead>\n",
              "  <tbody>\n",
              "    <tr>\n",
              "      <th>0</th>\n",
              "      <td>6</td>\n",
              "      <td>148</td>\n",
              "      <td>72</td>\n",
              "      <td>35</td>\n",
              "      <td>0</td>\n",
              "      <td>33.6</td>\n",
              "      <td>0.627</td>\n",
              "      <td>50</td>\n",
              "      <td>1</td>\n",
              "    </tr>\n",
              "    <tr>\n",
              "      <th>1</th>\n",
              "      <td>1</td>\n",
              "      <td>85</td>\n",
              "      <td>66</td>\n",
              "      <td>29</td>\n",
              "      <td>0</td>\n",
              "      <td>26.6</td>\n",
              "      <td>0.351</td>\n",
              "      <td>31</td>\n",
              "      <td>0</td>\n",
              "    </tr>\n",
              "    <tr>\n",
              "      <th>2</th>\n",
              "      <td>8</td>\n",
              "      <td>183</td>\n",
              "      <td>64</td>\n",
              "      <td>0</td>\n",
              "      <td>0</td>\n",
              "      <td>23.3</td>\n",
              "      <td>0.672</td>\n",
              "      <td>32</td>\n",
              "      <td>1</td>\n",
              "    </tr>\n",
              "    <tr>\n",
              "      <th>3</th>\n",
              "      <td>1</td>\n",
              "      <td>89</td>\n",
              "      <td>66</td>\n",
              "      <td>23</td>\n",
              "      <td>94</td>\n",
              "      <td>28.1</td>\n",
              "      <td>0.167</td>\n",
              "      <td>21</td>\n",
              "      <td>0</td>\n",
              "    </tr>\n",
              "    <tr>\n",
              "      <th>4</th>\n",
              "      <td>0</td>\n",
              "      <td>137</td>\n",
              "      <td>40</td>\n",
              "      <td>35</td>\n",
              "      <td>168</td>\n",
              "      <td>43.1</td>\n",
              "      <td>2.288</td>\n",
              "      <td>33</td>\n",
              "      <td>1</td>\n",
              "    </tr>\n",
              "  </tbody>\n",
              "</table>\n",
              "</div>\n",
              "    <div class=\"colab-df-buttons\">\n",
              "\n",
              "  <div class=\"colab-df-container\">\n",
              "    <button class=\"colab-df-convert\" onclick=\"convertToInteractive('df-2ce550f7-2699-4cfe-bc3b-e24fe04bfba3')\"\n",
              "            title=\"Convert this dataframe to an interactive table.\"\n",
              "            style=\"display:none;\">\n",
              "\n",
              "  <svg xmlns=\"http://www.w3.org/2000/svg\" height=\"24px\" viewBox=\"0 -960 960 960\">\n",
              "    <path d=\"M120-120v-720h720v720H120Zm60-500h600v-160H180v160Zm220 220h160v-160H400v160Zm0 220h160v-160H400v160ZM180-400h160v-160H180v160Zm440 0h160v-160H620v160ZM180-180h160v-160H180v160Zm440 0h160v-160H620v160Z\"/>\n",
              "  </svg>\n",
              "    </button>\n",
              "\n",
              "  <style>\n",
              "    .colab-df-container {\n",
              "      display:flex;\n",
              "      gap: 12px;\n",
              "    }\n",
              "\n",
              "    .colab-df-convert {\n",
              "      background-color: #E8F0FE;\n",
              "      border: none;\n",
              "      border-radius: 50%;\n",
              "      cursor: pointer;\n",
              "      display: none;\n",
              "      fill: #1967D2;\n",
              "      height: 32px;\n",
              "      padding: 0 0 0 0;\n",
              "      width: 32px;\n",
              "    }\n",
              "\n",
              "    .colab-df-convert:hover {\n",
              "      background-color: #E2EBFA;\n",
              "      box-shadow: 0px 1px 2px rgba(60, 64, 67, 0.3), 0px 1px 3px 1px rgba(60, 64, 67, 0.15);\n",
              "      fill: #174EA6;\n",
              "    }\n",
              "\n",
              "    .colab-df-buttons div {\n",
              "      margin-bottom: 4px;\n",
              "    }\n",
              "\n",
              "    [theme=dark] .colab-df-convert {\n",
              "      background-color: #3B4455;\n",
              "      fill: #D2E3FC;\n",
              "    }\n",
              "\n",
              "    [theme=dark] .colab-df-convert:hover {\n",
              "      background-color: #434B5C;\n",
              "      box-shadow: 0px 1px 3px 1px rgba(0, 0, 0, 0.15);\n",
              "      filter: drop-shadow(0px 1px 2px rgba(0, 0, 0, 0.3));\n",
              "      fill: #FFFFFF;\n",
              "    }\n",
              "  </style>\n",
              "\n",
              "    <script>\n",
              "      const buttonEl =\n",
              "        document.querySelector('#df-2ce550f7-2699-4cfe-bc3b-e24fe04bfba3 button.colab-df-convert');\n",
              "      buttonEl.style.display =\n",
              "        google.colab.kernel.accessAllowed ? 'block' : 'none';\n",
              "\n",
              "      async function convertToInteractive(key) {\n",
              "        const element = document.querySelector('#df-2ce550f7-2699-4cfe-bc3b-e24fe04bfba3');\n",
              "        const dataTable =\n",
              "          await google.colab.kernel.invokeFunction('convertToInteractive',\n",
              "                                                    [key], {});\n",
              "        if (!dataTable) return;\n",
              "\n",
              "        const docLinkHtml = 'Like what you see? Visit the ' +\n",
              "          '<a target=\"_blank\" href=https://colab.research.google.com/notebooks/data_table.ipynb>data table notebook</a>'\n",
              "          + ' to learn more about interactive tables.';\n",
              "        element.innerHTML = '';\n",
              "        dataTable['output_type'] = 'display_data';\n",
              "        await google.colab.output.renderOutput(dataTable, element);\n",
              "        const docLink = document.createElement('div');\n",
              "        docLink.innerHTML = docLinkHtml;\n",
              "        element.appendChild(docLink);\n",
              "      }\n",
              "    </script>\n",
              "  </div>\n",
              "\n",
              "\n",
              "    <div id=\"df-8f0b5fec-41f9-4e6a-9f5c-8ca6165976d2\">\n",
              "      <button class=\"colab-df-quickchart\" onclick=\"quickchart('df-8f0b5fec-41f9-4e6a-9f5c-8ca6165976d2')\"\n",
              "                title=\"Suggest charts\"\n",
              "                style=\"display:none;\">\n",
              "\n",
              "<svg xmlns=\"http://www.w3.org/2000/svg\" height=\"24px\"viewBox=\"0 0 24 24\"\n",
              "     width=\"24px\">\n",
              "    <g>\n",
              "        <path d=\"M19 3H5c-1.1 0-2 .9-2 2v14c0 1.1.9 2 2 2h14c1.1 0 2-.9 2-2V5c0-1.1-.9-2-2-2zM9 17H7v-7h2v7zm4 0h-2V7h2v10zm4 0h-2v-4h2v4z\"/>\n",
              "    </g>\n",
              "</svg>\n",
              "      </button>\n",
              "\n",
              "<style>\n",
              "  .colab-df-quickchart {\n",
              "      --bg-color: #E8F0FE;\n",
              "      --fill-color: #1967D2;\n",
              "      --hover-bg-color: #E2EBFA;\n",
              "      --hover-fill-color: #174EA6;\n",
              "      --disabled-fill-color: #AAA;\n",
              "      --disabled-bg-color: #DDD;\n",
              "  }\n",
              "\n",
              "  [theme=dark] .colab-df-quickchart {\n",
              "      --bg-color: #3B4455;\n",
              "      --fill-color: #D2E3FC;\n",
              "      --hover-bg-color: #434B5C;\n",
              "      --hover-fill-color: #FFFFFF;\n",
              "      --disabled-bg-color: #3B4455;\n",
              "      --disabled-fill-color: #666;\n",
              "  }\n",
              "\n",
              "  .colab-df-quickchart {\n",
              "    background-color: var(--bg-color);\n",
              "    border: none;\n",
              "    border-radius: 50%;\n",
              "    cursor: pointer;\n",
              "    display: none;\n",
              "    fill: var(--fill-color);\n",
              "    height: 32px;\n",
              "    padding: 0;\n",
              "    width: 32px;\n",
              "  }\n",
              "\n",
              "  .colab-df-quickchart:hover {\n",
              "    background-color: var(--hover-bg-color);\n",
              "    box-shadow: 0 1px 2px rgba(60, 64, 67, 0.3), 0 1px 3px 1px rgba(60, 64, 67, 0.15);\n",
              "    fill: var(--button-hover-fill-color);\n",
              "  }\n",
              "\n",
              "  .colab-df-quickchart-complete:disabled,\n",
              "  .colab-df-quickchart-complete:disabled:hover {\n",
              "    background-color: var(--disabled-bg-color);\n",
              "    fill: var(--disabled-fill-color);\n",
              "    box-shadow: none;\n",
              "  }\n",
              "\n",
              "  .colab-df-spinner {\n",
              "    border: 2px solid var(--fill-color);\n",
              "    border-color: transparent;\n",
              "    border-bottom-color: var(--fill-color);\n",
              "    animation:\n",
              "      spin 1s steps(1) infinite;\n",
              "  }\n",
              "\n",
              "  @keyframes spin {\n",
              "    0% {\n",
              "      border-color: transparent;\n",
              "      border-bottom-color: var(--fill-color);\n",
              "      border-left-color: var(--fill-color);\n",
              "    }\n",
              "    20% {\n",
              "      border-color: transparent;\n",
              "      border-left-color: var(--fill-color);\n",
              "      border-top-color: var(--fill-color);\n",
              "    }\n",
              "    30% {\n",
              "      border-color: transparent;\n",
              "      border-left-color: var(--fill-color);\n",
              "      border-top-color: var(--fill-color);\n",
              "      border-right-color: var(--fill-color);\n",
              "    }\n",
              "    40% {\n",
              "      border-color: transparent;\n",
              "      border-right-color: var(--fill-color);\n",
              "      border-top-color: var(--fill-color);\n",
              "    }\n",
              "    60% {\n",
              "      border-color: transparent;\n",
              "      border-right-color: var(--fill-color);\n",
              "    }\n",
              "    80% {\n",
              "      border-color: transparent;\n",
              "      border-right-color: var(--fill-color);\n",
              "      border-bottom-color: var(--fill-color);\n",
              "    }\n",
              "    90% {\n",
              "      border-color: transparent;\n",
              "      border-bottom-color: var(--fill-color);\n",
              "    }\n",
              "  }\n",
              "</style>\n",
              "\n",
              "      <script>\n",
              "        async function quickchart(key) {\n",
              "          const quickchartButtonEl =\n",
              "            document.querySelector('#' + key + ' button');\n",
              "          quickchartButtonEl.disabled = true;  // To prevent multiple clicks.\n",
              "          quickchartButtonEl.classList.add('colab-df-spinner');\n",
              "          try {\n",
              "            const charts = await google.colab.kernel.invokeFunction(\n",
              "                'suggestCharts', [key], {});\n",
              "          } catch (error) {\n",
              "            console.error('Error during call to suggestCharts:', error);\n",
              "          }\n",
              "          quickchartButtonEl.classList.remove('colab-df-spinner');\n",
              "          quickchartButtonEl.classList.add('colab-df-quickchart-complete');\n",
              "        }\n",
              "        (() => {\n",
              "          let quickchartButtonEl =\n",
              "            document.querySelector('#df-8f0b5fec-41f9-4e6a-9f5c-8ca6165976d2 button');\n",
              "          quickchartButtonEl.style.display =\n",
              "            google.colab.kernel.accessAllowed ? 'block' : 'none';\n",
              "        })();\n",
              "      </script>\n",
              "    </div>\n",
              "    </div>\n",
              "  </div>\n"
            ],
            "application/vnd.google.colaboratory.intrinsic+json": {
              "type": "dataframe",
              "variable_name": "data",
              "summary": "{\n  \"name\": \"data\",\n  \"rows\": 768,\n  \"fields\": [\n    {\n      \"column\": \"Pregnancies\",\n      \"properties\": {\n        \"dtype\": \"number\",\n        \"std\": 3,\n        \"min\": 0,\n        \"max\": 17,\n        \"num_unique_values\": 17,\n        \"samples\": [\n          6,\n          1,\n          3\n        ],\n        \"semantic_type\": \"\",\n        \"description\": \"\"\n      }\n    },\n    {\n      \"column\": \"Glucose\",\n      \"properties\": {\n        \"dtype\": \"number\",\n        \"std\": 31,\n        \"min\": 0,\n        \"max\": 199,\n        \"num_unique_values\": 136,\n        \"samples\": [\n          151,\n          101,\n          112\n        ],\n        \"semantic_type\": \"\",\n        \"description\": \"\"\n      }\n    },\n    {\n      \"column\": \"BloodPressure\",\n      \"properties\": {\n        \"dtype\": \"number\",\n        \"std\": 19,\n        \"min\": 0,\n        \"max\": 122,\n        \"num_unique_values\": 47,\n        \"samples\": [\n          86,\n          46,\n          85\n        ],\n        \"semantic_type\": \"\",\n        \"description\": \"\"\n      }\n    },\n    {\n      \"column\": \"SkinThickness\",\n      \"properties\": {\n        \"dtype\": \"number\",\n        \"std\": 15,\n        \"min\": 0,\n        \"max\": 99,\n        \"num_unique_values\": 51,\n        \"samples\": [\n          7,\n          12,\n          48\n        ],\n        \"semantic_type\": \"\",\n        \"description\": \"\"\n      }\n    },\n    {\n      \"column\": \"Insulin\",\n      \"properties\": {\n        \"dtype\": \"number\",\n        \"std\": 115,\n        \"min\": 0,\n        \"max\": 846,\n        \"num_unique_values\": 186,\n        \"samples\": [\n          52,\n          41,\n          183\n        ],\n        \"semantic_type\": \"\",\n        \"description\": \"\"\n      }\n    },\n    {\n      \"column\": \"BMI\",\n      \"properties\": {\n        \"dtype\": \"number\",\n        \"std\": 7.8841603203754405,\n        \"min\": 0.0,\n        \"max\": 67.1,\n        \"num_unique_values\": 248,\n        \"samples\": [\n          19.9,\n          31.0,\n          38.1\n        ],\n        \"semantic_type\": \"\",\n        \"description\": \"\"\n      }\n    },\n    {\n      \"column\": \"DiabetesPedigreeFunction\",\n      \"properties\": {\n        \"dtype\": \"number\",\n        \"std\": 0.33132859501277484,\n        \"min\": 0.078,\n        \"max\": 2.42,\n        \"num_unique_values\": 517,\n        \"samples\": [\n          1.731,\n          0.426,\n          0.138\n        ],\n        \"semantic_type\": \"\",\n        \"description\": \"\"\n      }\n    },\n    {\n      \"column\": \"Age\",\n      \"properties\": {\n        \"dtype\": \"number\",\n        \"std\": 11,\n        \"min\": 21,\n        \"max\": 81,\n        \"num_unique_values\": 52,\n        \"samples\": [\n          60,\n          47,\n          72\n        ],\n        \"semantic_type\": \"\",\n        \"description\": \"\"\n      }\n    },\n    {\n      \"column\": \"Outcome\",\n      \"properties\": {\n        \"dtype\": \"number\",\n        \"std\": 0,\n        \"min\": 0,\n        \"max\": 1,\n        \"num_unique_values\": 2,\n        \"samples\": [\n          0,\n          1\n        ],\n        \"semantic_type\": \"\",\n        \"description\": \"\"\n      }\n    }\n  ]\n}"
            }
          },
          "metadata": {},
          "execution_count": 2
        }
      ]
    },
    {
      "cell_type": "markdown",
      "source": [
        "Сделаем классический шаг для ML — отделим тестовый набор."
      ],
      "metadata": {
        "id": "nZ9Rzaeh8Ouj"
      }
    },
    {
      "cell_type": "code",
      "source": [
        "train_data, test_data = train_test_split(data, test_size=0.25, random_state=42) #не меняйте random_state"
      ],
      "metadata": {
        "id": "22q4HzsyP6dp"
      },
      "execution_count": 3,
      "outputs": []
    },
    {
      "cell_type": "markdown",
      "source": [
        "**Примечание:** По хорошему в задаче классификации (и, на самом деле, регрессии) при разбиении на train и test следует помнить об одинаковом (дис)балансе классов. К счастью, sklearn умен и делает это за нас. Этим фактом мы также будем пользоваться при анализе устойчивости весов."
      ],
      "metadata": {
        "id": "83ZrN3438WKT"
      }
    },
    {
      "cell_type": "code",
      "source": [
        "train_data['Outcome'].value_counts(normalize=True) #убедимся, что sklearn нам не врет"
      ],
      "metadata": {
        "colab": {
          "base_uri": "https://localhost:8080/",
          "height": 178
        },
        "id": "zerfRFky8fWS",
        "outputId": "c4826eb6-96b6-44af-9bd6-5289624ae33e"
      },
      "execution_count": 4,
      "outputs": [
        {
          "output_type": "execute_result",
          "data": {
            "text/plain": [
              "Outcome\n",
              "0    0.654514\n",
              "1    0.345486\n",
              "Name: proportion, dtype: float64"
            ],
            "text/html": [
              "<div>\n",
              "<style scoped>\n",
              "    .dataframe tbody tr th:only-of-type {\n",
              "        vertical-align: middle;\n",
              "    }\n",
              "\n",
              "    .dataframe tbody tr th {\n",
              "        vertical-align: top;\n",
              "    }\n",
              "\n",
              "    .dataframe thead th {\n",
              "        text-align: right;\n",
              "    }\n",
              "</style>\n",
              "<table border=\"1\" class=\"dataframe\">\n",
              "  <thead>\n",
              "    <tr style=\"text-align: right;\">\n",
              "      <th></th>\n",
              "      <th>proportion</th>\n",
              "    </tr>\n",
              "    <tr>\n",
              "      <th>Outcome</th>\n",
              "      <th></th>\n",
              "    </tr>\n",
              "  </thead>\n",
              "  <tbody>\n",
              "    <tr>\n",
              "      <th>0</th>\n",
              "      <td>0.654514</td>\n",
              "    </tr>\n",
              "    <tr>\n",
              "      <th>1</th>\n",
              "      <td>0.345486</td>\n",
              "    </tr>\n",
              "  </tbody>\n",
              "</table>\n",
              "</div><br><label><b>dtype:</b> float64</label>"
            ]
          },
          "metadata": {},
          "execution_count": 4
        }
      ]
    },
    {
      "cell_type": "code",
      "source": [
        "test_data['Outcome'].value_counts(normalize=True)"
      ],
      "metadata": {
        "colab": {
          "base_uri": "https://localhost:8080/",
          "height": 178
        },
        "id": "33imJBmN8-l4",
        "outputId": "84df0b86-c0d3-4c9b-ed19-a47b461e3091"
      },
      "execution_count": 5,
      "outputs": [
        {
          "output_type": "execute_result",
          "data": {
            "text/plain": [
              "Outcome\n",
              "0    0.640625\n",
              "1    0.359375\n",
              "Name: proportion, dtype: float64"
            ],
            "text/html": [
              "<div>\n",
              "<style scoped>\n",
              "    .dataframe tbody tr th:only-of-type {\n",
              "        vertical-align: middle;\n",
              "    }\n",
              "\n",
              "    .dataframe tbody tr th {\n",
              "        vertical-align: top;\n",
              "    }\n",
              "\n",
              "    .dataframe thead th {\n",
              "        text-align: right;\n",
              "    }\n",
              "</style>\n",
              "<table border=\"1\" class=\"dataframe\">\n",
              "  <thead>\n",
              "    <tr style=\"text-align: right;\">\n",
              "      <th></th>\n",
              "      <th>proportion</th>\n",
              "    </tr>\n",
              "    <tr>\n",
              "      <th>Outcome</th>\n",
              "      <th></th>\n",
              "    </tr>\n",
              "  </thead>\n",
              "  <tbody>\n",
              "    <tr>\n",
              "      <th>0</th>\n",
              "      <td>0.640625</td>\n",
              "    </tr>\n",
              "    <tr>\n",
              "      <th>1</th>\n",
              "      <td>0.359375</td>\n",
              "    </tr>\n",
              "  </tbody>\n",
              "</table>\n",
              "</div><br><label><b>dtype:</b> float64</label>"
            ]
          },
          "metadata": {},
          "execution_count": 5
        }
      ]
    },
    {
      "cell_type": "code",
      "source": [
        "#Дальше нормализуем  данные и потом будем работать только с train data\n",
        "X_train_to_cv, y_train_to_cv = train_data.drop('Outcome', axis=1), train_data['Outcome']\n",
        "\n",
        "X_test, y_test = test_data.drop('Outcome', axis=1), test_data['Outcome']"
      ],
      "metadata": {
        "id": "pGxt4_B49JU9"
      },
      "execution_count": 6,
      "outputs": []
    },
    {
      "cell_type": "markdown",
      "source": [
        "Для стандартизации данных воспользуемся StandardScaler, который преобразовывает значение $x_i$ как :\n",
        "\n",
        "$$x'_i = \\frac{(x_i - u)}{s},$$\n",
        "\n",
        "где $u$ — среднее значение в обучающей выборке, а s— стандартное отклонение.\n",
        "\n",
        "При интерпретации весов модели вид проводимого преобразования **необходимо понимать**. Иначе связать измненение реального признака с изменением преобразованного не получится."
      ],
      "metadata": {
        "id": "jegCszgHbZXL"
      }
    },
    {
      "cell_type": "markdown",
      "source": [
        "**Задание 1.**\n",
        "\n",
        "Что пройдет с преобразованым значением $x'_i$ вектора, если мы увеличим одну из его координат? Статистики $i-го$ признака при этом останутся неизменными."
      ],
      "metadata": {
        "id": "cMOxpM_4cWAW"
      }
    },
    {
      "cell_type": "markdown",
      "source": [
        "**Задание 1***\n",
        "\n",
        "Что пройдет с преобразованым значением $x'_i$ вектора, если мы увеличим одну из его координат? Поведение статистик $i-го$ признака при этом не известно."
      ],
      "metadata": {
        "id": "Q2tjdrMsKYWZ"
      }
    },
    {
      "cell_type": "code",
      "source": [
        "# Дополните преобразование — машстабируйте данные\n",
        "\n",
        "from sklearn.preprocessing import StandardScaler\n",
        "\n",
        "sc = StandardScaler()\n",
        "\n",
        "X_train_sc =sc.fit_transform(X_train_to_cv) # Ваш код здесь\n",
        "X_test_sc = sc.transform(X_test)"
      ],
      "metadata": {
        "id": "caRClkZPQCqa"
      },
      "execution_count": 7,
      "outputs": []
    },
    {
      "cell_type": "markdown",
      "source": [
        "Если вы знакомы с машинным обучением достаточно давно, то однозначно встречались с процессом *кросс-валидации.* Мы могли бы обучить модели без этого — но сейчас мы применяем кросс-валидацию для анализа модели.\n",
        "\n",
        "**Напоминание:**\n",
        "\n",
        "Процесс кросс-валидации включает в себя следующие шаги:\n",
        "\n",
        "1. Разделение данных: Исходный набор данных разделяется на K частей, называемых \"фолдами\". Обычно используется метод k-кросс-валидации, где k - это заданное заранее количество фолдов.\n",
        "2. Обучение и оценка модели: Затем модель обучается K раз, каждый раз на K-1 фолде данных, а затем оценивается на оставшемся. Таким образом, мы получаем K оценок производительности модели, одну для каждого фолда.\n",
        "3. Вычисление среднего значения оценок: После завершения всех итераций кросс-валидации вычисляется среднее значение оценок производительности модели. Это дает более стабильную и обобщающую оценку производительности модели. В контексте же весов мы получаем большее понимание о значимости признака на подвыборках.\n",
        "\n",
        "Здесь мы применяем **стратифицированную кросс-валидацию**. В отличие от классической, для стратифицированной справедливо одинаковое соотношение классов в каждом фолде."
      ],
      "metadata": {
        "id": "-VhMWqpwdL9d"
      }
    },
    {
      "cell_type": "code",
      "source": [
        "from sklearn.model_selection import StratifiedKFold\n",
        "from sklearn.metrics import accuracy_score\n",
        "\n",
        "# Создание объектов  кросс-валидации. Не меняйте random state\n",
        "kf = StratifiedKFold(n_splits=3, shuffle=True, random_state=12)\n",
        "kf2 = StratifiedKFold(n_splits=3, shuffle=True, random_state=7)\n",
        "kf3 = StratifiedKFold(n_splits=3, shuffle=True, random_state=13)\n"
      ],
      "metadata": {
        "id": "hNxBKoYfOKeg"
      },
      "execution_count": 10,
      "outputs": []
    },
    {
      "cell_type": "markdown",
      "source": [
        "Напишем функцию, которая будет:\n",
        "\n",
        "1. осуществлять кросс-валидацию\n",
        "2. сохранять коэффициенты регрессий на каждом фолде\n",
        "3. Позволять обучать логистическую регрессию с разными силами регуляризации (гиперпараметр `C`)"
      ],
      "metadata": {
        "id": "5ra4nChNOOQL"
      }
    },
    {
      "cell_type": "code",
      "source": [
        "from sklearn.metrics import f1_score"
      ],
      "metadata": {
        "id": "HMsNpWoR7xMz"
      },
      "execution_count": 11,
      "outputs": []
    },
    {
      "cell_type": "code",
      "source": [
        "def train_model_and_get_coefs(model, X, y, cross_val):\n",
        "\n",
        "  coefs = {}\n",
        "  f1_scores = []\n",
        "\n",
        "\n",
        "  for iter, (train_idx, val_idx) in enumerate(cross_val.split(X, y)):\n",
        "    X_train, X_val = X[train_idx], X[val_idx]\n",
        "    y_train, y_val = y.iloc[train_idx], y.iloc[val_idx]\n",
        "\n",
        "    model.fit(X_train, y_train)\n",
        "\n",
        "    coefs[iter] = model.coef_[0]\n",
        "    f1_scores.append(f1_score(y_val, model.predict(X_val)))\n",
        "\n",
        "  print('Mean f1:', np.mean(f1_scores))\n",
        "\n",
        "  return model, coefs, f1_scores"
      ],
      "metadata": {
        "id": "9qCWkjIq6uBH"
      },
      "execution_count": 12,
      "outputs": []
    },
    {
      "cell_type": "code",
      "source": [
        "model1 = LogisticRegression(C=1, max_iter=1000)\n",
        "model2 = LogisticRegression(C=0.5, max_iter=1000)\n",
        "model3 = LogisticRegression(C=0.1, max_iter=1000)"
      ],
      "metadata": {
        "id": "K7z8SIDK8R2R"
      },
      "execution_count": 13,
      "outputs": []
    },
    {
      "cell_type": "code",
      "source": [
        "model1, coefs1, f1_scores1 = train_model_and_get_coefs(model1, X_train_sc, y_train_to_cv, kf)\n",
        "model2, coefs2, f1_scores2 = train_model_and_get_coefs(model2, X_train_sc, y_train_to_cv, kf2)\n",
        "model3, coefs3, f1_scores3 = train_model_and_get_coefs(model3, X_train_sc, y_train_to_cv, kf3)"
      ],
      "metadata": {
        "colab": {
          "base_uri": "https://localhost:8080/"
        },
        "id": "NZYwNztn8oY8",
        "outputId": "ceefb8f1-9b6f-455f-e021-8b9866441668"
      },
      "execution_count": 14,
      "outputs": [
        {
          "output_type": "stream",
          "name": "stdout",
          "text": [
            "Mean f1: 0.6322746108538905\n",
            "Mean f1: 0.64030131826742\n",
            "Mean f1: 0.6083921166260527\n"
          ]
        }
      ]
    },
    {
      "cell_type": "markdown",
      "source": [
        "**Задание 3.** Обучите лучшую модель с различными объектами кросс-валидации. Какой получился результат? Выберите утверждение на степик."
      ],
      "metadata": {
        "id": "ZVcIr4ZX9iGk"
      }
    },
    {
      "cell_type": "code",
      "source": [
        "model2 = LogisticRegression(C=0.5, max_iter=1000)\n",
        "model2, coefs2_1, f1_scores2 = train_model_and_get_coefs(model2, X_train_sc, y_train_to_cv, kf)# Ваш код здесь\n",
        "print(coefs2_1)"
      ],
      "metadata": {
        "id": "POeJjze-9X1o",
        "colab": {
          "base_uri": "https://localhost:8080/"
        },
        "outputId": "055c11be-92b2-4fad-fadb-a17fa2236b1d"
      },
      "execution_count": 19,
      "outputs": [
        {
          "output_type": "stream",
          "name": "stdout",
          "text": [
            "Mean f1: 0.6322746108538905\n",
            "{0: array([ 0.24866544,  1.24234244, -0.1220312 ,  0.03468389, -0.18950089,\n",
            "        0.80990578,  0.31859783,  0.46261297]), 1: array([ 0.19262463,  1.08309941, -0.23509812, -0.01764892, -0.15777216,\n",
            "        0.81370642,  0.0468592 ,  0.42044831]), 2: array([ 0.16769839,  0.97806553, -0.25265502,  0.11553214, -0.12267962,\n",
            "        0.62748944,  0.16852923,  0.3647388 ])}\n"
          ]
        }
      ]
    },
    {
      "cell_type": "code",
      "source": [
        "model2 = LogisticRegression(C=0.5, max_iter=1000)\n",
        "\n",
        "model2, coefs2_2, f1_scores2_2 = train_model_and_get_coefs(model2, X_train_sc, y_train_to_cv, kf2)# Ваш код здесь\n",
        "print(coefs2_2)"
      ],
      "metadata": {
        "id": "4L6UPBRh-qke",
        "colab": {
          "base_uri": "https://localhost:8080/"
        },
        "outputId": "56d42e88-4b25-459d-fe17-0113cc455076"
      },
      "execution_count": 20,
      "outputs": [
        {
          "output_type": "stream",
          "name": "stdout",
          "text": [
            "Mean f1: 0.64030131826742\n",
            "{0: array([ 0.2336671 ,  1.01641082, -0.1584034 ,  0.11901512, -0.1523839 ,\n",
            "        0.66005208,  0.18002628,  0.40909363]), 1: array([ 0.05967739,  1.29633476, -0.24799367,  0.06164839, -0.28625389,\n",
            "        0.7526231 ,  0.13516882,  0.49731855]), 2: array([ 0.30948164,  1.00922427, -0.22170716,  0.01811776, -0.06581312,\n",
            "        0.77675067,  0.19839074,  0.32110901])}\n"
          ]
        }
      ]
    },
    {
      "cell_type": "code",
      "source": [
        "model2 = LogisticRegression(C=0.5, max_iter=1000)\n",
        "\n",
        "model2, coefs2_3, f1_scores2_3 = train_model_and_get_coefs(model2, X_train_sc, y_train_to_cv, kf3)# Ваш код здесь\n",
        "print(coefs2_3)"
      ],
      "metadata": {
        "id": "ui60FOBx-tOC",
        "colab": {
          "base_uri": "https://localhost:8080/"
        },
        "outputId": "e93a408f-e045-43f1-bc32-43d340f23942"
      },
      "execution_count": 21,
      "outputs": [
        {
          "output_type": "stream",
          "name": "stdout",
          "text": [
            "Mean f1: 0.61648106049706\n",
            "{0: array([ 0.0608014 ,  0.92801726, -0.37092946,  0.01699024, -0.13998509,\n",
            "        0.84228936,  0.14455717,  0.69034186]), 1: array([ 0.34977293,  1.38235237, -0.14839962, -0.01551892, -0.04566184,\n",
            "        0.69600638,  0.24284238,  0.23054574]), 2: array([ 0.19332589,  1.00014808, -0.1510248 ,  0.16847557, -0.24021715,\n",
            "        0.70160972,  0.14617219,  0.37010102])}\n"
          ]
        }
      ]
    },
    {
      "cell_type": "markdown",
      "source": [
        "**Задание 4.** Подумайте над получившимся результатом. Чем он плох?"
      ],
      "metadata": {
        "id": "tzMpAQwn_Of1"
      }
    },
    {
      "cell_type": "markdown",
      "source": [
        "`Место для вашего ответа.`"
      ],
      "metadata": {
        "id": "o23R8PjHLMpk"
      }
    },
    {
      "cell_type": "markdown",
      "source": [
        "### **Анализ весов:**\n",
        "\n",
        "Посмотрим теперь на веса, получающиеся на разных кусочках данных для одной модели."
      ],
      "metadata": {
        "id": "VpCEl38hBOUd"
      }
    },
    {
      "cell_type": "code",
      "source": [
        "#Сначала соберем все коэффициенты в одну табличку\n",
        "coefs1_data = pd.DataFrame(coefs2_1.values(), columns=[i+'_weights' for i in X_train_to_cv.columns])\n",
        "coefs2_data = pd.DataFrame(coefs2_2.values(), columns=[i+'_weights' for i in X_train_to_cv.columns])\n",
        "coefs3_data = pd.DataFrame(coefs2_3.values(), columns=[i+'_weights' for i in X_train_to_cv.columns])"
      ],
      "metadata": {
        "id": "jBKwtiiO_P_X"
      },
      "execution_count": 22,
      "outputs": []
    },
    {
      "cell_type": "code",
      "source": [
        "coefs_data = pd.concat([coefs1_data, coefs2_data])\n",
        "coefs_data = pd.concat([coefs_data, coefs3_data]).reset_index(drop=True)\n",
        "\n",
        "coefs_data.set_index([['f1', 'f1', 'f1', 'f2', 'f2', 'f2', 'f3', 'f3', 'f3']])"
      ],
      "metadata": {
        "colab": {
          "base_uri": "https://localhost:8080/",
          "height": 332
        },
        "id": "4-WVGmaE_Sl2",
        "outputId": "3ef81563-5a65-4c38-c8f5-739725975dd2"
      },
      "execution_count": 23,
      "outputs": [
        {
          "output_type": "execute_result",
          "data": {
            "text/plain": [
              "    Pregnancies_weights  Glucose_weights  BloodPressure_weights  \\\n",
              "f1             0.248665         1.242342              -0.122031   \n",
              "f1             0.192625         1.083099              -0.235098   \n",
              "f1             0.167698         0.978066              -0.252655   \n",
              "f2             0.233667         1.016411              -0.158403   \n",
              "f2             0.059677         1.296335              -0.247994   \n",
              "f2             0.309482         1.009224              -0.221707   \n",
              "f3             0.060801         0.928017              -0.370929   \n",
              "f3             0.349773         1.382352              -0.148400   \n",
              "f3             0.193326         1.000148              -0.151025   \n",
              "\n",
              "    SkinThickness_weights  Insulin_weights  BMI_weights  \\\n",
              "f1               0.034684        -0.189501     0.809906   \n",
              "f1              -0.017649        -0.157772     0.813706   \n",
              "f1               0.115532        -0.122680     0.627489   \n",
              "f2               0.119015        -0.152384     0.660052   \n",
              "f2               0.061648        -0.286254     0.752623   \n",
              "f2               0.018118        -0.065813     0.776751   \n",
              "f3               0.016990        -0.139985     0.842289   \n",
              "f3              -0.015519        -0.045662     0.696006   \n",
              "f3               0.168476        -0.240217     0.701610   \n",
              "\n",
              "    DiabetesPedigreeFunction_weights  Age_weights  \n",
              "f1                          0.318598     0.462613  \n",
              "f1                          0.046859     0.420448  \n",
              "f1                          0.168529     0.364739  \n",
              "f2                          0.180026     0.409094  \n",
              "f2                          0.135169     0.497319  \n",
              "f2                          0.198391     0.321109  \n",
              "f3                          0.144557     0.690342  \n",
              "f3                          0.242842     0.230546  \n",
              "f3                          0.146172     0.370101  "
            ],
            "text/html": [
              "\n",
              "  <div id=\"df-55585c2c-a22e-414b-9ccc-8774e575d994\" class=\"colab-df-container\">\n",
              "    <div>\n",
              "<style scoped>\n",
              "    .dataframe tbody tr th:only-of-type {\n",
              "        vertical-align: middle;\n",
              "    }\n",
              "\n",
              "    .dataframe tbody tr th {\n",
              "        vertical-align: top;\n",
              "    }\n",
              "\n",
              "    .dataframe thead th {\n",
              "        text-align: right;\n",
              "    }\n",
              "</style>\n",
              "<table border=\"1\" class=\"dataframe\">\n",
              "  <thead>\n",
              "    <tr style=\"text-align: right;\">\n",
              "      <th></th>\n",
              "      <th>Pregnancies_weights</th>\n",
              "      <th>Glucose_weights</th>\n",
              "      <th>BloodPressure_weights</th>\n",
              "      <th>SkinThickness_weights</th>\n",
              "      <th>Insulin_weights</th>\n",
              "      <th>BMI_weights</th>\n",
              "      <th>DiabetesPedigreeFunction_weights</th>\n",
              "      <th>Age_weights</th>\n",
              "    </tr>\n",
              "  </thead>\n",
              "  <tbody>\n",
              "    <tr>\n",
              "      <th>f1</th>\n",
              "      <td>0.248665</td>\n",
              "      <td>1.242342</td>\n",
              "      <td>-0.122031</td>\n",
              "      <td>0.034684</td>\n",
              "      <td>-0.189501</td>\n",
              "      <td>0.809906</td>\n",
              "      <td>0.318598</td>\n",
              "      <td>0.462613</td>\n",
              "    </tr>\n",
              "    <tr>\n",
              "      <th>f1</th>\n",
              "      <td>0.192625</td>\n",
              "      <td>1.083099</td>\n",
              "      <td>-0.235098</td>\n",
              "      <td>-0.017649</td>\n",
              "      <td>-0.157772</td>\n",
              "      <td>0.813706</td>\n",
              "      <td>0.046859</td>\n",
              "      <td>0.420448</td>\n",
              "    </tr>\n",
              "    <tr>\n",
              "      <th>f1</th>\n",
              "      <td>0.167698</td>\n",
              "      <td>0.978066</td>\n",
              "      <td>-0.252655</td>\n",
              "      <td>0.115532</td>\n",
              "      <td>-0.122680</td>\n",
              "      <td>0.627489</td>\n",
              "      <td>0.168529</td>\n",
              "      <td>0.364739</td>\n",
              "    </tr>\n",
              "    <tr>\n",
              "      <th>f2</th>\n",
              "      <td>0.233667</td>\n",
              "      <td>1.016411</td>\n",
              "      <td>-0.158403</td>\n",
              "      <td>0.119015</td>\n",
              "      <td>-0.152384</td>\n",
              "      <td>0.660052</td>\n",
              "      <td>0.180026</td>\n",
              "      <td>0.409094</td>\n",
              "    </tr>\n",
              "    <tr>\n",
              "      <th>f2</th>\n",
              "      <td>0.059677</td>\n",
              "      <td>1.296335</td>\n",
              "      <td>-0.247994</td>\n",
              "      <td>0.061648</td>\n",
              "      <td>-0.286254</td>\n",
              "      <td>0.752623</td>\n",
              "      <td>0.135169</td>\n",
              "      <td>0.497319</td>\n",
              "    </tr>\n",
              "    <tr>\n",
              "      <th>f2</th>\n",
              "      <td>0.309482</td>\n",
              "      <td>1.009224</td>\n",
              "      <td>-0.221707</td>\n",
              "      <td>0.018118</td>\n",
              "      <td>-0.065813</td>\n",
              "      <td>0.776751</td>\n",
              "      <td>0.198391</td>\n",
              "      <td>0.321109</td>\n",
              "    </tr>\n",
              "    <tr>\n",
              "      <th>f3</th>\n",
              "      <td>0.060801</td>\n",
              "      <td>0.928017</td>\n",
              "      <td>-0.370929</td>\n",
              "      <td>0.016990</td>\n",
              "      <td>-0.139985</td>\n",
              "      <td>0.842289</td>\n",
              "      <td>0.144557</td>\n",
              "      <td>0.690342</td>\n",
              "    </tr>\n",
              "    <tr>\n",
              "      <th>f3</th>\n",
              "      <td>0.349773</td>\n",
              "      <td>1.382352</td>\n",
              "      <td>-0.148400</td>\n",
              "      <td>-0.015519</td>\n",
              "      <td>-0.045662</td>\n",
              "      <td>0.696006</td>\n",
              "      <td>0.242842</td>\n",
              "      <td>0.230546</td>\n",
              "    </tr>\n",
              "    <tr>\n",
              "      <th>f3</th>\n",
              "      <td>0.193326</td>\n",
              "      <td>1.000148</td>\n",
              "      <td>-0.151025</td>\n",
              "      <td>0.168476</td>\n",
              "      <td>-0.240217</td>\n",
              "      <td>0.701610</td>\n",
              "      <td>0.146172</td>\n",
              "      <td>0.370101</td>\n",
              "    </tr>\n",
              "  </tbody>\n",
              "</table>\n",
              "</div>\n",
              "    <div class=\"colab-df-buttons\">\n",
              "\n",
              "  <div class=\"colab-df-container\">\n",
              "    <button class=\"colab-df-convert\" onclick=\"convertToInteractive('df-55585c2c-a22e-414b-9ccc-8774e575d994')\"\n",
              "            title=\"Convert this dataframe to an interactive table.\"\n",
              "            style=\"display:none;\">\n",
              "\n",
              "  <svg xmlns=\"http://www.w3.org/2000/svg\" height=\"24px\" viewBox=\"0 -960 960 960\">\n",
              "    <path d=\"M120-120v-720h720v720H120Zm60-500h600v-160H180v160Zm220 220h160v-160H400v160Zm0 220h160v-160H400v160ZM180-400h160v-160H180v160Zm440 0h160v-160H620v160ZM180-180h160v-160H180v160Zm440 0h160v-160H620v160Z\"/>\n",
              "  </svg>\n",
              "    </button>\n",
              "\n",
              "  <style>\n",
              "    .colab-df-container {\n",
              "      display:flex;\n",
              "      gap: 12px;\n",
              "    }\n",
              "\n",
              "    .colab-df-convert {\n",
              "      background-color: #E8F0FE;\n",
              "      border: none;\n",
              "      border-radius: 50%;\n",
              "      cursor: pointer;\n",
              "      display: none;\n",
              "      fill: #1967D2;\n",
              "      height: 32px;\n",
              "      padding: 0 0 0 0;\n",
              "      width: 32px;\n",
              "    }\n",
              "\n",
              "    .colab-df-convert:hover {\n",
              "      background-color: #E2EBFA;\n",
              "      box-shadow: 0px 1px 2px rgba(60, 64, 67, 0.3), 0px 1px 3px 1px rgba(60, 64, 67, 0.15);\n",
              "      fill: #174EA6;\n",
              "    }\n",
              "\n",
              "    .colab-df-buttons div {\n",
              "      margin-bottom: 4px;\n",
              "    }\n",
              "\n",
              "    [theme=dark] .colab-df-convert {\n",
              "      background-color: #3B4455;\n",
              "      fill: #D2E3FC;\n",
              "    }\n",
              "\n",
              "    [theme=dark] .colab-df-convert:hover {\n",
              "      background-color: #434B5C;\n",
              "      box-shadow: 0px 1px 3px 1px rgba(0, 0, 0, 0.15);\n",
              "      filter: drop-shadow(0px 1px 2px rgba(0, 0, 0, 0.3));\n",
              "      fill: #FFFFFF;\n",
              "    }\n",
              "  </style>\n",
              "\n",
              "    <script>\n",
              "      const buttonEl =\n",
              "        document.querySelector('#df-55585c2c-a22e-414b-9ccc-8774e575d994 button.colab-df-convert');\n",
              "      buttonEl.style.display =\n",
              "        google.colab.kernel.accessAllowed ? 'block' : 'none';\n",
              "\n",
              "      async function convertToInteractive(key) {\n",
              "        const element = document.querySelector('#df-55585c2c-a22e-414b-9ccc-8774e575d994');\n",
              "        const dataTable =\n",
              "          await google.colab.kernel.invokeFunction('convertToInteractive',\n",
              "                                                    [key], {});\n",
              "        if (!dataTable) return;\n",
              "\n",
              "        const docLinkHtml = 'Like what you see? Visit the ' +\n",
              "          '<a target=\"_blank\" href=https://colab.research.google.com/notebooks/data_table.ipynb>data table notebook</a>'\n",
              "          + ' to learn more about interactive tables.';\n",
              "        element.innerHTML = '';\n",
              "        dataTable['output_type'] = 'display_data';\n",
              "        await google.colab.output.renderOutput(dataTable, element);\n",
              "        const docLink = document.createElement('div');\n",
              "        docLink.innerHTML = docLinkHtml;\n",
              "        element.appendChild(docLink);\n",
              "      }\n",
              "    </script>\n",
              "  </div>\n",
              "\n",
              "\n",
              "    <div id=\"df-dd528923-b155-4ccc-8944-a65aa23bd63d\">\n",
              "      <button class=\"colab-df-quickchart\" onclick=\"quickchart('df-dd528923-b155-4ccc-8944-a65aa23bd63d')\"\n",
              "                title=\"Suggest charts\"\n",
              "                style=\"display:none;\">\n",
              "\n",
              "<svg xmlns=\"http://www.w3.org/2000/svg\" height=\"24px\"viewBox=\"0 0 24 24\"\n",
              "     width=\"24px\">\n",
              "    <g>\n",
              "        <path d=\"M19 3H5c-1.1 0-2 .9-2 2v14c0 1.1.9 2 2 2h14c1.1 0 2-.9 2-2V5c0-1.1-.9-2-2-2zM9 17H7v-7h2v7zm4 0h-2V7h2v10zm4 0h-2v-4h2v4z\"/>\n",
              "    </g>\n",
              "</svg>\n",
              "      </button>\n",
              "\n",
              "<style>\n",
              "  .colab-df-quickchart {\n",
              "      --bg-color: #E8F0FE;\n",
              "      --fill-color: #1967D2;\n",
              "      --hover-bg-color: #E2EBFA;\n",
              "      --hover-fill-color: #174EA6;\n",
              "      --disabled-fill-color: #AAA;\n",
              "      --disabled-bg-color: #DDD;\n",
              "  }\n",
              "\n",
              "  [theme=dark] .colab-df-quickchart {\n",
              "      --bg-color: #3B4455;\n",
              "      --fill-color: #D2E3FC;\n",
              "      --hover-bg-color: #434B5C;\n",
              "      --hover-fill-color: #FFFFFF;\n",
              "      --disabled-bg-color: #3B4455;\n",
              "      --disabled-fill-color: #666;\n",
              "  }\n",
              "\n",
              "  .colab-df-quickchart {\n",
              "    background-color: var(--bg-color);\n",
              "    border: none;\n",
              "    border-radius: 50%;\n",
              "    cursor: pointer;\n",
              "    display: none;\n",
              "    fill: var(--fill-color);\n",
              "    height: 32px;\n",
              "    padding: 0;\n",
              "    width: 32px;\n",
              "  }\n",
              "\n",
              "  .colab-df-quickchart:hover {\n",
              "    background-color: var(--hover-bg-color);\n",
              "    box-shadow: 0 1px 2px rgba(60, 64, 67, 0.3), 0 1px 3px 1px rgba(60, 64, 67, 0.15);\n",
              "    fill: var(--button-hover-fill-color);\n",
              "  }\n",
              "\n",
              "  .colab-df-quickchart-complete:disabled,\n",
              "  .colab-df-quickchart-complete:disabled:hover {\n",
              "    background-color: var(--disabled-bg-color);\n",
              "    fill: var(--disabled-fill-color);\n",
              "    box-shadow: none;\n",
              "  }\n",
              "\n",
              "  .colab-df-spinner {\n",
              "    border: 2px solid var(--fill-color);\n",
              "    border-color: transparent;\n",
              "    border-bottom-color: var(--fill-color);\n",
              "    animation:\n",
              "      spin 1s steps(1) infinite;\n",
              "  }\n",
              "\n",
              "  @keyframes spin {\n",
              "    0% {\n",
              "      border-color: transparent;\n",
              "      border-bottom-color: var(--fill-color);\n",
              "      border-left-color: var(--fill-color);\n",
              "    }\n",
              "    20% {\n",
              "      border-color: transparent;\n",
              "      border-left-color: var(--fill-color);\n",
              "      border-top-color: var(--fill-color);\n",
              "    }\n",
              "    30% {\n",
              "      border-color: transparent;\n",
              "      border-left-color: var(--fill-color);\n",
              "      border-top-color: var(--fill-color);\n",
              "      border-right-color: var(--fill-color);\n",
              "    }\n",
              "    40% {\n",
              "      border-color: transparent;\n",
              "      border-right-color: var(--fill-color);\n",
              "      border-top-color: var(--fill-color);\n",
              "    }\n",
              "    60% {\n",
              "      border-color: transparent;\n",
              "      border-right-color: var(--fill-color);\n",
              "    }\n",
              "    80% {\n",
              "      border-color: transparent;\n",
              "      border-right-color: var(--fill-color);\n",
              "      border-bottom-color: var(--fill-color);\n",
              "    }\n",
              "    90% {\n",
              "      border-color: transparent;\n",
              "      border-bottom-color: var(--fill-color);\n",
              "    }\n",
              "  }\n",
              "</style>\n",
              "\n",
              "      <script>\n",
              "        async function quickchart(key) {\n",
              "          const quickchartButtonEl =\n",
              "            document.querySelector('#' + key + ' button');\n",
              "          quickchartButtonEl.disabled = true;  // To prevent multiple clicks.\n",
              "          quickchartButtonEl.classList.add('colab-df-spinner');\n",
              "          try {\n",
              "            const charts = await google.colab.kernel.invokeFunction(\n",
              "                'suggestCharts', [key], {});\n",
              "          } catch (error) {\n",
              "            console.error('Error during call to suggestCharts:', error);\n",
              "          }\n",
              "          quickchartButtonEl.classList.remove('colab-df-spinner');\n",
              "          quickchartButtonEl.classList.add('colab-df-quickchart-complete');\n",
              "        }\n",
              "        (() => {\n",
              "          let quickchartButtonEl =\n",
              "            document.querySelector('#df-dd528923-b155-4ccc-8944-a65aa23bd63d button');\n",
              "          quickchartButtonEl.style.display =\n",
              "            google.colab.kernel.accessAllowed ? 'block' : 'none';\n",
              "        })();\n",
              "      </script>\n",
              "    </div>\n",
              "    </div>\n",
              "  </div>\n"
            ],
            "application/vnd.google.colaboratory.intrinsic+json": {
              "type": "dataframe",
              "summary": "{\n  \"name\": \"coefs_data\",\n  \"rows\": 9,\n  \"fields\": [\n    {\n      \"column\": \"Pregnancies_weights\",\n      \"properties\": {\n        \"dtype\": \"number\",\n        \"std\": 0.09880633657706547,\n        \"min\": 0.05967738721272296,\n        \"max\": 0.34977292922838865,\n        \"num_unique_values\": 9,\n        \"samples\": [\n          0.34977292922838865,\n          0.19262462952749382,\n          0.3094816369719233\n        ],\n        \"semantic_type\": \"\",\n        \"description\": \"\"\n      }\n    },\n    {\n      \"column\": \"Glucose_weights\",\n      \"properties\": {\n        \"dtype\": \"number\",\n        \"std\": 0.16136802182183102,\n        \"min\": 0.9280172572709131,\n        \"max\": 1.382352371796542,\n        \"num_unique_values\": 9,\n        \"samples\": [\n          1.382352371796542,\n          1.0830994143627044,\n          1.0092242718956312\n        ],\n        \"semantic_type\": \"\",\n        \"description\": \"\"\n      }\n    },\n    {\n      \"column\": \"BloodPressure_weights\",\n      \"properties\": {\n        \"dtype\": \"number\",\n        \"std\": 0.07710760214264742,\n        \"min\": -0.37092946140094324,\n        \"max\": -0.12203119867931261,\n        \"num_unique_values\": 9,\n        \"samples\": [\n          -0.14839961991505676,\n          -0.23509812303892988,\n          -0.22170716252494152\n        ],\n        \"semantic_type\": \"\",\n        \"description\": \"\"\n      }\n    },\n    {\n      \"column\": \"SkinThickness_weights\",\n      \"properties\": {\n        \"dtype\": \"number\",\n        \"std\": 0.06533294415122022,\n        \"min\": -0.017648917209009244,\n        \"max\": 0.16847557394084126,\n        \"num_unique_values\": 9,\n        \"samples\": [\n          -0.015518920676796064,\n          -0.017648917209009244,\n          0.01811775992499984\n        ],\n        \"semantic_type\": \"\",\n        \"description\": \"\"\n      }\n    },\n    {\n      \"column\": \"Insulin_weights\",\n      \"properties\": {\n        \"dtype\": \"number\",\n        \"std\": 0.0765428701672447,\n        \"min\": -0.28625388680085617,\n        \"max\": -0.04566184347968913,\n        \"num_unique_values\": 9,\n        \"samples\": [\n          -0.04566184347968913,\n          -0.15777216084266585,\n          -0.06581312323657677\n        ],\n        \"semantic_type\": \"\",\n        \"description\": \"\"\n      }\n    },\n    {\n      \"column\": \"BMI_weights\",\n      \"properties\": {\n        \"dtype\": \"number\",\n        \"std\": 0.07475433187177558,\n        \"min\": 0.6274894386350541,\n        \"max\": 0.8422893613678277,\n        \"num_unique_values\": 9,\n        \"samples\": [\n          0.6960063840879788,\n          0.8137064249216627,\n          0.7767506720619639\n        ],\n        \"semantic_type\": \"\",\n        \"description\": \"\"\n      }\n    },\n    {\n      \"column\": \"DiabetesPedigreeFunction_weights\",\n      \"properties\": {\n        \"dtype\": \"number\",\n        \"std\": 0.07549618204155556,\n        \"min\": 0.04685920243292167,\n        \"max\": 0.3185978327406168,\n        \"num_unique_values\": 9,\n        \"samples\": [\n          0.24284238127155774,\n          0.04685920243292167,\n          0.1983907353628705\n        ],\n        \"semantic_type\": \"\",\n        \"description\": \"\"\n      }\n    },\n    {\n      \"column\": \"Age_weights\",\n      \"properties\": {\n        \"dtype\": \"number\",\n        \"std\": 0.1285462584266926,\n        \"min\": 0.23054574270391634,\n        \"max\": 0.6903418629563971,\n        \"num_unique_values\": 9,\n        \"samples\": [\n          0.23054574270391634,\n          0.4204483135454203,\n          0.32110900689604516\n        ],\n        \"semantic_type\": \"\",\n        \"description\": \"\"\n      }\n    }\n  ]\n}"
            }
          },
          "metadata": {},
          "execution_count": 23
        }
      ]
    },
    {
      "cell_type": "markdown",
      "source": [
        "Обратите внимание как гуляют веса на разных фолдах. Посмотрим на характер \"гуляния\"."
      ],
      "metadata": {
        "id": "7GKNDtJxONLQ"
      }
    },
    {
      "cell_type": "code",
      "source": [
        "#Взглянем на статистики полученных весов\n",
        "coefs_data.describe()"
      ],
      "metadata": {
        "colab": {
          "base_uri": "https://localhost:8080/",
          "height": 300
        },
        "id": "53mT1yNJ_W0k",
        "outputId": "3b45eb49-5909-4146-baee-5fa7de282e9a"
      },
      "execution_count": 24,
      "outputs": [
        {
          "output_type": "execute_result",
          "data": {
            "text/plain": [
              "       Pregnancies_weights  Glucose_weights  BloodPressure_weights  \\\n",
              "count             9.000000         9.000000               9.000000   \n",
              "mean              0.201746         1.103999              -0.212027   \n",
              "std               0.098806         0.161368               0.077108   \n",
              "min               0.059677         0.928017              -0.370929   \n",
              "25%               0.167698         1.000148              -0.247994   \n",
              "50%               0.193326         1.016411              -0.221707   \n",
              "75%               0.248665         1.242342              -0.151025   \n",
              "max               0.349773         1.382352              -0.122031   \n",
              "\n",
              "       SkinThickness_weights  Insulin_weights  BMI_weights  \\\n",
              "count               9.000000         9.000000     9.000000   \n",
              "mean                0.055699        -0.155585     0.742270   \n",
              "std                 0.065333         0.076543     0.074754   \n",
              "min                -0.017649        -0.286254     0.627489   \n",
              "25%                 0.016990        -0.189501     0.696006   \n",
              "50%                 0.034684        -0.152384     0.752623   \n",
              "75%                 0.115532        -0.122680     0.809906   \n",
              "max                 0.168476        -0.045662     0.842289   \n",
              "\n",
              "       DiabetesPedigreeFunction_weights  Age_weights  \n",
              "count                          9.000000     9.000000  \n",
              "mean                           0.175683     0.418479  \n",
              "std                            0.075496     0.128546  \n",
              "min                            0.046859     0.230546  \n",
              "25%                            0.144557     0.364739  \n",
              "50%                            0.168529     0.409094  \n",
              "75%                            0.198391     0.462613  \n",
              "max                            0.318598     0.690342  "
            ],
            "text/html": [
              "\n",
              "  <div id=\"df-951e3ef6-3d8f-4c6f-965f-66f7dbe61dd9\" class=\"colab-df-container\">\n",
              "    <div>\n",
              "<style scoped>\n",
              "    .dataframe tbody tr th:only-of-type {\n",
              "        vertical-align: middle;\n",
              "    }\n",
              "\n",
              "    .dataframe tbody tr th {\n",
              "        vertical-align: top;\n",
              "    }\n",
              "\n",
              "    .dataframe thead th {\n",
              "        text-align: right;\n",
              "    }\n",
              "</style>\n",
              "<table border=\"1\" class=\"dataframe\">\n",
              "  <thead>\n",
              "    <tr style=\"text-align: right;\">\n",
              "      <th></th>\n",
              "      <th>Pregnancies_weights</th>\n",
              "      <th>Glucose_weights</th>\n",
              "      <th>BloodPressure_weights</th>\n",
              "      <th>SkinThickness_weights</th>\n",
              "      <th>Insulin_weights</th>\n",
              "      <th>BMI_weights</th>\n",
              "      <th>DiabetesPedigreeFunction_weights</th>\n",
              "      <th>Age_weights</th>\n",
              "    </tr>\n",
              "  </thead>\n",
              "  <tbody>\n",
              "    <tr>\n",
              "      <th>count</th>\n",
              "      <td>9.000000</td>\n",
              "      <td>9.000000</td>\n",
              "      <td>9.000000</td>\n",
              "      <td>9.000000</td>\n",
              "      <td>9.000000</td>\n",
              "      <td>9.000000</td>\n",
              "      <td>9.000000</td>\n",
              "      <td>9.000000</td>\n",
              "    </tr>\n",
              "    <tr>\n",
              "      <th>mean</th>\n",
              "      <td>0.201746</td>\n",
              "      <td>1.103999</td>\n",
              "      <td>-0.212027</td>\n",
              "      <td>0.055699</td>\n",
              "      <td>-0.155585</td>\n",
              "      <td>0.742270</td>\n",
              "      <td>0.175683</td>\n",
              "      <td>0.418479</td>\n",
              "    </tr>\n",
              "    <tr>\n",
              "      <th>std</th>\n",
              "      <td>0.098806</td>\n",
              "      <td>0.161368</td>\n",
              "      <td>0.077108</td>\n",
              "      <td>0.065333</td>\n",
              "      <td>0.076543</td>\n",
              "      <td>0.074754</td>\n",
              "      <td>0.075496</td>\n",
              "      <td>0.128546</td>\n",
              "    </tr>\n",
              "    <tr>\n",
              "      <th>min</th>\n",
              "      <td>0.059677</td>\n",
              "      <td>0.928017</td>\n",
              "      <td>-0.370929</td>\n",
              "      <td>-0.017649</td>\n",
              "      <td>-0.286254</td>\n",
              "      <td>0.627489</td>\n",
              "      <td>0.046859</td>\n",
              "      <td>0.230546</td>\n",
              "    </tr>\n",
              "    <tr>\n",
              "      <th>25%</th>\n",
              "      <td>0.167698</td>\n",
              "      <td>1.000148</td>\n",
              "      <td>-0.247994</td>\n",
              "      <td>0.016990</td>\n",
              "      <td>-0.189501</td>\n",
              "      <td>0.696006</td>\n",
              "      <td>0.144557</td>\n",
              "      <td>0.364739</td>\n",
              "    </tr>\n",
              "    <tr>\n",
              "      <th>50%</th>\n",
              "      <td>0.193326</td>\n",
              "      <td>1.016411</td>\n",
              "      <td>-0.221707</td>\n",
              "      <td>0.034684</td>\n",
              "      <td>-0.152384</td>\n",
              "      <td>0.752623</td>\n",
              "      <td>0.168529</td>\n",
              "      <td>0.409094</td>\n",
              "    </tr>\n",
              "    <tr>\n",
              "      <th>75%</th>\n",
              "      <td>0.248665</td>\n",
              "      <td>1.242342</td>\n",
              "      <td>-0.151025</td>\n",
              "      <td>0.115532</td>\n",
              "      <td>-0.122680</td>\n",
              "      <td>0.809906</td>\n",
              "      <td>0.198391</td>\n",
              "      <td>0.462613</td>\n",
              "    </tr>\n",
              "    <tr>\n",
              "      <th>max</th>\n",
              "      <td>0.349773</td>\n",
              "      <td>1.382352</td>\n",
              "      <td>-0.122031</td>\n",
              "      <td>0.168476</td>\n",
              "      <td>-0.045662</td>\n",
              "      <td>0.842289</td>\n",
              "      <td>0.318598</td>\n",
              "      <td>0.690342</td>\n",
              "    </tr>\n",
              "  </tbody>\n",
              "</table>\n",
              "</div>\n",
              "    <div class=\"colab-df-buttons\">\n",
              "\n",
              "  <div class=\"colab-df-container\">\n",
              "    <button class=\"colab-df-convert\" onclick=\"convertToInteractive('df-951e3ef6-3d8f-4c6f-965f-66f7dbe61dd9')\"\n",
              "            title=\"Convert this dataframe to an interactive table.\"\n",
              "            style=\"display:none;\">\n",
              "\n",
              "  <svg xmlns=\"http://www.w3.org/2000/svg\" height=\"24px\" viewBox=\"0 -960 960 960\">\n",
              "    <path d=\"M120-120v-720h720v720H120Zm60-500h600v-160H180v160Zm220 220h160v-160H400v160Zm0 220h160v-160H400v160ZM180-400h160v-160H180v160Zm440 0h160v-160H620v160ZM180-180h160v-160H180v160Zm440 0h160v-160H620v160Z\"/>\n",
              "  </svg>\n",
              "    </button>\n",
              "\n",
              "  <style>\n",
              "    .colab-df-container {\n",
              "      display:flex;\n",
              "      gap: 12px;\n",
              "    }\n",
              "\n",
              "    .colab-df-convert {\n",
              "      background-color: #E8F0FE;\n",
              "      border: none;\n",
              "      border-radius: 50%;\n",
              "      cursor: pointer;\n",
              "      display: none;\n",
              "      fill: #1967D2;\n",
              "      height: 32px;\n",
              "      padding: 0 0 0 0;\n",
              "      width: 32px;\n",
              "    }\n",
              "\n",
              "    .colab-df-convert:hover {\n",
              "      background-color: #E2EBFA;\n",
              "      box-shadow: 0px 1px 2px rgba(60, 64, 67, 0.3), 0px 1px 3px 1px rgba(60, 64, 67, 0.15);\n",
              "      fill: #174EA6;\n",
              "    }\n",
              "\n",
              "    .colab-df-buttons div {\n",
              "      margin-bottom: 4px;\n",
              "    }\n",
              "\n",
              "    [theme=dark] .colab-df-convert {\n",
              "      background-color: #3B4455;\n",
              "      fill: #D2E3FC;\n",
              "    }\n",
              "\n",
              "    [theme=dark] .colab-df-convert:hover {\n",
              "      background-color: #434B5C;\n",
              "      box-shadow: 0px 1px 3px 1px rgba(0, 0, 0, 0.15);\n",
              "      filter: drop-shadow(0px 1px 2px rgba(0, 0, 0, 0.3));\n",
              "      fill: #FFFFFF;\n",
              "    }\n",
              "  </style>\n",
              "\n",
              "    <script>\n",
              "      const buttonEl =\n",
              "        document.querySelector('#df-951e3ef6-3d8f-4c6f-965f-66f7dbe61dd9 button.colab-df-convert');\n",
              "      buttonEl.style.display =\n",
              "        google.colab.kernel.accessAllowed ? 'block' : 'none';\n",
              "\n",
              "      async function convertToInteractive(key) {\n",
              "        const element = document.querySelector('#df-951e3ef6-3d8f-4c6f-965f-66f7dbe61dd9');\n",
              "        const dataTable =\n",
              "          await google.colab.kernel.invokeFunction('convertToInteractive',\n",
              "                                                    [key], {});\n",
              "        if (!dataTable) return;\n",
              "\n",
              "        const docLinkHtml = 'Like what you see? Visit the ' +\n",
              "          '<a target=\"_blank\" href=https://colab.research.google.com/notebooks/data_table.ipynb>data table notebook</a>'\n",
              "          + ' to learn more about interactive tables.';\n",
              "        element.innerHTML = '';\n",
              "        dataTable['output_type'] = 'display_data';\n",
              "        await google.colab.output.renderOutput(dataTable, element);\n",
              "        const docLink = document.createElement('div');\n",
              "        docLink.innerHTML = docLinkHtml;\n",
              "        element.appendChild(docLink);\n",
              "      }\n",
              "    </script>\n",
              "  </div>\n",
              "\n",
              "\n",
              "    <div id=\"df-b9b279f5-b41a-401b-a9d4-8e8a08a070fb\">\n",
              "      <button class=\"colab-df-quickchart\" onclick=\"quickchart('df-b9b279f5-b41a-401b-a9d4-8e8a08a070fb')\"\n",
              "                title=\"Suggest charts\"\n",
              "                style=\"display:none;\">\n",
              "\n",
              "<svg xmlns=\"http://www.w3.org/2000/svg\" height=\"24px\"viewBox=\"0 0 24 24\"\n",
              "     width=\"24px\">\n",
              "    <g>\n",
              "        <path d=\"M19 3H5c-1.1 0-2 .9-2 2v14c0 1.1.9 2 2 2h14c1.1 0 2-.9 2-2V5c0-1.1-.9-2-2-2zM9 17H7v-7h2v7zm4 0h-2V7h2v10zm4 0h-2v-4h2v4z\"/>\n",
              "    </g>\n",
              "</svg>\n",
              "      </button>\n",
              "\n",
              "<style>\n",
              "  .colab-df-quickchart {\n",
              "      --bg-color: #E8F0FE;\n",
              "      --fill-color: #1967D2;\n",
              "      --hover-bg-color: #E2EBFA;\n",
              "      --hover-fill-color: #174EA6;\n",
              "      --disabled-fill-color: #AAA;\n",
              "      --disabled-bg-color: #DDD;\n",
              "  }\n",
              "\n",
              "  [theme=dark] .colab-df-quickchart {\n",
              "      --bg-color: #3B4455;\n",
              "      --fill-color: #D2E3FC;\n",
              "      --hover-bg-color: #434B5C;\n",
              "      --hover-fill-color: #FFFFFF;\n",
              "      --disabled-bg-color: #3B4455;\n",
              "      --disabled-fill-color: #666;\n",
              "  }\n",
              "\n",
              "  .colab-df-quickchart {\n",
              "    background-color: var(--bg-color);\n",
              "    border: none;\n",
              "    border-radius: 50%;\n",
              "    cursor: pointer;\n",
              "    display: none;\n",
              "    fill: var(--fill-color);\n",
              "    height: 32px;\n",
              "    padding: 0;\n",
              "    width: 32px;\n",
              "  }\n",
              "\n",
              "  .colab-df-quickchart:hover {\n",
              "    background-color: var(--hover-bg-color);\n",
              "    box-shadow: 0 1px 2px rgba(60, 64, 67, 0.3), 0 1px 3px 1px rgba(60, 64, 67, 0.15);\n",
              "    fill: var(--button-hover-fill-color);\n",
              "  }\n",
              "\n",
              "  .colab-df-quickchart-complete:disabled,\n",
              "  .colab-df-quickchart-complete:disabled:hover {\n",
              "    background-color: var(--disabled-bg-color);\n",
              "    fill: var(--disabled-fill-color);\n",
              "    box-shadow: none;\n",
              "  }\n",
              "\n",
              "  .colab-df-spinner {\n",
              "    border: 2px solid var(--fill-color);\n",
              "    border-color: transparent;\n",
              "    border-bottom-color: var(--fill-color);\n",
              "    animation:\n",
              "      spin 1s steps(1) infinite;\n",
              "  }\n",
              "\n",
              "  @keyframes spin {\n",
              "    0% {\n",
              "      border-color: transparent;\n",
              "      border-bottom-color: var(--fill-color);\n",
              "      border-left-color: var(--fill-color);\n",
              "    }\n",
              "    20% {\n",
              "      border-color: transparent;\n",
              "      border-left-color: var(--fill-color);\n",
              "      border-top-color: var(--fill-color);\n",
              "    }\n",
              "    30% {\n",
              "      border-color: transparent;\n",
              "      border-left-color: var(--fill-color);\n",
              "      border-top-color: var(--fill-color);\n",
              "      border-right-color: var(--fill-color);\n",
              "    }\n",
              "    40% {\n",
              "      border-color: transparent;\n",
              "      border-right-color: var(--fill-color);\n",
              "      border-top-color: var(--fill-color);\n",
              "    }\n",
              "    60% {\n",
              "      border-color: transparent;\n",
              "      border-right-color: var(--fill-color);\n",
              "    }\n",
              "    80% {\n",
              "      border-color: transparent;\n",
              "      border-right-color: var(--fill-color);\n",
              "      border-bottom-color: var(--fill-color);\n",
              "    }\n",
              "    90% {\n",
              "      border-color: transparent;\n",
              "      border-bottom-color: var(--fill-color);\n",
              "    }\n",
              "  }\n",
              "</style>\n",
              "\n",
              "      <script>\n",
              "        async function quickchart(key) {\n",
              "          const quickchartButtonEl =\n",
              "            document.querySelector('#' + key + ' button');\n",
              "          quickchartButtonEl.disabled = true;  // To prevent multiple clicks.\n",
              "          quickchartButtonEl.classList.add('colab-df-spinner');\n",
              "          try {\n",
              "            const charts = await google.colab.kernel.invokeFunction(\n",
              "                'suggestCharts', [key], {});\n",
              "          } catch (error) {\n",
              "            console.error('Error during call to suggestCharts:', error);\n",
              "          }\n",
              "          quickchartButtonEl.classList.remove('colab-df-spinner');\n",
              "          quickchartButtonEl.classList.add('colab-df-quickchart-complete');\n",
              "        }\n",
              "        (() => {\n",
              "          let quickchartButtonEl =\n",
              "            document.querySelector('#df-b9b279f5-b41a-401b-a9d4-8e8a08a070fb button');\n",
              "          quickchartButtonEl.style.display =\n",
              "            google.colab.kernel.accessAllowed ? 'block' : 'none';\n",
              "        })();\n",
              "      </script>\n",
              "    </div>\n",
              "    </div>\n",
              "  </div>\n"
            ],
            "application/vnd.google.colaboratory.intrinsic+json": {
              "type": "dataframe",
              "summary": "{\n  \"name\": \"coefs_data\",\n  \"rows\": 8,\n  \"fields\": [\n    {\n      \"column\": \"Pregnancies_weights\",\n      \"properties\": {\n        \"dtype\": \"number\",\n        \"std\": 3.116584492004155,\n        \"min\": 0.05967738721272296,\n        \"max\": 9.0,\n        \"num_unique_values\": 8,\n        \"samples\": [\n          0.20174608927504745,\n          0.19332588543109264,\n          9.0\n        ],\n        \"semantic_type\": \"\",\n        \"description\": \"\"\n      }\n    },\n    {\n      \"column\": \"Glucose_weights\",\n      \"properties\": {\n        \"dtype\": \"number\",\n        \"std\": 2.859865096975953,\n        \"min\": 0.16136802182183102,\n        \"max\": 9.0,\n        \"num_unique_values\": 8,\n        \"samples\": [\n          1.1039994382590992,\n          1.0164108223755375,\n          9.0\n        ],\n        \"semantic_type\": \"\",\n        \"description\": \"\"\n      }\n    },\n    {\n      \"column\": \"BloodPressure_weights\",\n      \"properties\": {\n        \"dtype\": \"number\",\n        \"std\": 3.247555792090377,\n        \"min\": -0.37092946140094324,\n        \"max\": 9.0,\n        \"num_unique_values\": 8,\n        \"samples\": [\n          -0.2120269392295369,\n          -0.22170716252494152,\n          9.0\n        ],\n        \"semantic_type\": \"\",\n        \"description\": \"\"\n      }\n    },\n    {\n      \"column\": \"SkinThickness_weights\",\n      \"properties\": {\n        \"dtype\": \"number\",\n        \"std\": 3.160332516962746,\n        \"min\": -0.017648917209009244,\n        \"max\": 9.0,\n        \"num_unique_values\": 8,\n        \"samples\": [\n          0.05569947460575986,\n          0.03468388608155619,\n          9.0\n        ],\n        \"semantic_type\": \"\",\n        \"description\": \"\"\n      }\n    },\n    {\n      \"column\": \"Insulin_weights\",\n      \"properties\": {\n        \"dtype\": \"number\",\n        \"std\": 3.2279445456758067,\n        \"min\": -0.28625388680085617,\n        \"max\": 9.0,\n        \"num_unique_values\": 8,\n        \"samples\": [\n          -0.15558529647609814,\n          -0.15238390103787014,\n          9.0\n        ],\n        \"semantic_type\": \"\",\n        \"description\": \"\"\n      }\n    },\n    {\n      \"column\": \"BMI_weights\",\n      \"properties\": {\n        \"dtype\": \"number\",\n        \"std\": 2.962432312908664,\n        \"min\": 0.07475433187177558,\n        \"max\": 9.0,\n        \"num_unique_values\": 8,\n        \"samples\": [\n          0.7422703295916603,\n          0.7526230981837854,\n          9.0\n        ],\n        \"semantic_type\": \"\",\n        \"description\": \"\"\n      }\n    },\n    {\n      \"column\": \"DiabetesPedigreeFunction_weights\",\n      \"properties\": {\n        \"dtype\": \"number\",\n        \"std\": 3.1260789693145337,\n        \"min\": 0.04685920243292167,\n        \"max\": 9.0,\n        \"num_unique_values\": 8,\n        \"samples\": [\n          0.17568264955777937,\n          0.16852923190059493,\n          9.0\n        ],\n        \"semantic_type\": \"\",\n        \"description\": \"\"\n      }\n    },\n    {\n      \"column\": \"Age_weights\",\n      \"properties\": {\n        \"dtype\": \"number\",\n        \"std\": 3.0498659157835277,\n        \"min\": 0.1285462584266926,\n        \"max\": 9.0,\n        \"num_unique_values\": 8,\n        \"samples\": [\n          0.41847887860574473,\n          0.40909363078577504,\n          9.0\n        ],\n        \"semantic_type\": \"\",\n        \"description\": \"\"\n      }\n    }\n  ]\n}"
            }
          },
          "metadata": {},
          "execution_count": 24
        }
      ]
    },
    {
      "cell_type": "markdown",
      "source": [
        "**Задание 5.** Какой признак является самым важным при всех разбиениях?"
      ],
      "metadata": {
        "id": "so3cZxXzFGdP"
      }
    },
    {
      "cell_type": "markdown",
      "source": [
        "**Задание 6.** Какой признак является самым устойчивым при всех разбиениях?\n",
        "\n",
        "**Подсказка:** он обладает наименьшей дисперсией (и корнем из неё)."
      ],
      "metadata": {
        "id": "ZzvCiW-oOhsM"
      }
    },
    {
      "cell_type": "markdown",
      "source": [
        "### **Уточнение диапазона веса.**\n",
        "\n",
        "**Рассчет доверительных интервалов.**\n",
        "\n",
        "Как видите, каждый признак \"шатается\" от разбиения к разбиению. Однако, некоторые значения могут быть просто связаны с шумом и случайностью. Чтобы построить какую-то более надежную оценку, чем отрезок $[min_{f_i}, max_{fi}]$ построим доверительный инетверал.\n",
        "\n",
        "**Доверительный интервал** некоторого параметра $\\theta$, это интервал, который покрывает неизвестный параметр с заданной надёжностью.\n",
        "\n",
        "Интерпретировать, например, 95% ДИ можно так:\n",
        "Если мы будем проводить аналогичное исследование на выборках одного и того же размера много раз, независимо друг от друга то с 95%-ной уверенностью мы можем утверждать, что истинное значение параметра (веса) окажется в диапазоне [w_1, w_2].\n",
        "\n",
        "**Но 95% интервал не отражает то, что с вероятностью 0.95 истинное значение параметра лежит в найденном диапазоне!**\n",
        "\n",
        "Для построения можно воспользоваться готовой формулой из scipy `scipy.t.interval`, но можно реализовать и руками. Сделаем оба способа, чтобы подружиться с понятиям.\n",
        "\n",
        "Формула для вычисления доверительного интервала:\n",
        "$$\\hat{x}-t^*\\frac{s}{\\sqrt{n}}\\leq μ \\leq \\hat{x}+t^*\\frac{s}{\\sqrt{n}},$$\n",
        "\n",
        "где $μ$ искомое значение параметра, \\\n",
        "$t^*$ - значение [t-статистики](http://old.exponenta.ru/educat/referat/XIkonkurs/student5/tabt-st.pdf), соответствующее выбранному уровню доверия (берется из таблицы t-распределения Стьюдента), \\\n",
        "$s$ выборочное стандартное отклонение.\n",
        "\n",
        "В свою очередь стандартное отклонение генеральной совокупности нам неизвестно, но мы можем его приблизить с помощью стандартного отклонения по выборке:\n",
        "\n",
        "$s \\approx \\sqrt{\\frac{\\sum(x_i-\\hat{x})^2}{n-1}}$\n"
      ],
      "metadata": {
        "id": "86TpwO5i_eMo"
      }
    },
    {
      "cell_type": "code",
      "source": [
        "def std(x):\n",
        "\n",
        "    std = (sum((x - np.mean(x)) ** 2) / (len(x) - 1)) ** 0.5# Ваш код здесь: реализайте функцию std\n",
        "\n",
        "    return std\n"
      ],
      "metadata": {
        "id": "cDvvrFBC_m3Q"
      },
      "execution_count": 28,
      "outputs": []
    },
    {
      "cell_type": "code",
      "source": [
        "feature_name = coefs_data.iloc[:, 0].name\n",
        "\n",
        "x = coefs_data.iloc[:, 0]\n",
        "s = std(coefs_data.iloc[:, 0])\n",
        "\n",
        "n = len(x)"
      ],
      "metadata": {
        "id": "kmTB_6em_n8S"
      },
      "execution_count": 30,
      "outputs": []
    },
    {
      "cell_type": "code",
      "source": [
        "#Для 95% ДИ при 9 наблюдениях 2.26\n",
        "\n",
        "low = np.mean(x) - 2.26*s/np.sqrt(n)\n",
        "high = np.mean(x) + 2.26*s/np.sqrt(n)\n",
        "print(f'{feature_name} ДИ ,({low}, {high})')"
      ],
      "metadata": {
        "colab": {
          "base_uri": "https://localhost:8080/"
        },
        "id": "ItQuwr-0_ukw",
        "outputId": "0124f39f-4f03-45f8-e05c-1415383f0d09"
      },
      "execution_count": 31,
      "outputs": [
        {
          "output_type": "stream",
          "name": "stdout",
          "text": [
            "Pregnancies_weights ДИ ,(0.12731198238699148, 0.2761801961631034)\n"
          ]
        }
      ]
    },
    {
      "cell_type": "markdown",
      "source": [
        "Теперь сверимся с библиотечным ДИ."
      ],
      "metadata": {
        "id": "LSWeWzT4KenB"
      }
    },
    {
      "cell_type": "code",
      "source": [
        "from scipy import stats as st\n",
        "\n",
        "st.t.interval(confidence=0.95, df=len(x)-1, loc=np.mean(x), scale=st.sem(x))"
      ],
      "metadata": {
        "colab": {
          "base_uri": "https://localhost:8080/"
        },
        "id": "0W4ZRmQG_1Fe",
        "outputId": "7d848c25-1edd-41da-bb87-5ec60f16d4b5"
      },
      "execution_count": 32,
      "outputs": [
        {
          "output_type": "execute_result",
          "data": {
            "text/plain": [
              "(np.float64(0.12579681569801826), np.float64(0.27769536285207663))"
            ]
          },
          "metadata": {},
          "execution_count": 32
        }
      ]
    },
    {
      "cell_type": "markdown",
      "source": [
        "**Задание 7.** Постройте ДИ для всех признаков. Доверительный интервал для какого признака получился самым широким?\n",
        "\n",
        "**Задание 8.** Доверительный интервал для какого признака получился самым узким? Отметьте, есть ли связь с дисперсией признака по фолдам."
      ],
      "metadata": {
        "id": "u-A8CWnlLVRL"
      }
    },
    {
      "cell_type": "code",
      "source": [
        "for i in range(0, 8):\n",
        "    # Ваш код здесь\n",
        "    feature_name = coefs_data.iloc[:, i].name\n",
        "\n",
        "    x = coefs_data.iloc[:, i]\n",
        "    s = std(coefs_data.iloc[:, i])\n",
        "    n = len(x)\n",
        "\n",
        "    interval = st.t.interval(confidence=0.95, df=len(x)-1, loc=np.mean(x), scale=st.sem(x))\n",
        "\n",
        "    print('Признак:', feature_name)\n",
        "    print('95% доверительный интервал:', interval[0].round(3), interval[1].round(3))\n",
        "    print('Длина ДИ:', round(interval[1]- interval[0], 2))\n",
        "    print('\\n')"
      ],
      "metadata": {
        "id": "0hysLra__7Nv",
        "colab": {
          "base_uri": "https://localhost:8080/"
        },
        "outputId": "7f08cce6-d1e4-496b-c88d-7a8c2bcaf532"
      },
      "execution_count": 37,
      "outputs": [
        {
          "output_type": "stream",
          "name": "stdout",
          "text": [
            "Признак: Pregnancies_weights\n",
            "95% доверительный интервал: 0.126 0.278\n",
            "Длина ДИ: 0.15\n",
            "\n",
            "\n",
            "Признак: Glucose_weights\n",
            "95% доверительный интервал: 0.98 1.228\n",
            "Длина ДИ: 0.25\n",
            "\n",
            "\n",
            "Признак: BloodPressure_weights\n",
            "95% доверительный интервал: -0.271 -0.153\n",
            "Длина ДИ: 0.12\n",
            "\n",
            "\n",
            "Признак: SkinThickness_weights\n",
            "95% доверительный интервал: 0.005 0.106\n",
            "Длина ДИ: 0.1\n",
            "\n",
            "\n",
            "Признак: Insulin_weights\n",
            "95% доверительный интервал: -0.214 -0.097\n",
            "Длина ДИ: 0.12\n",
            "\n",
            "\n",
            "Признак: BMI_weights\n",
            "95% доверительный интервал: 0.685 0.8\n",
            "Длина ДИ: 0.11\n",
            "\n",
            "\n",
            "Признак: DiabetesPedigreeFunction_weights\n",
            "95% доверительный интервал: 0.118 0.234\n",
            "Длина ДИ: 0.12\n",
            "\n",
            "\n",
            "Признак: Age_weights\n",
            "95% доверительный интервал: 0.32 0.517\n",
            "Длина ДИ: 0.2\n",
            "\n",
            "\n"
          ]
        }
      ]
    },
    {
      "cell_type": "markdown",
      "source": [
        "**Готово! На этом, первое дз завершено и хочется отметить важные замечания.**\n",
        "\n",
        "Основная цель данного домашнего задания — знакомство с процессом интерпретации признаков. Составляя его, мы хотели показать, что **точечной оценки веса недостаточно.**\n",
        "\n",
        "Построение доверительного интервала в данном случае — также лишь начало. В контексте важности можно провести еще более увлекательное исследование, снимая статистики для большего числа итераций кросс-валидации, для большего числа моделей (например, сравнить между собой лес и дерево) и так далее.\n",
        "\n",
        "Если эта тема кажется вам интересной — дайте знать и мы постараемся подготовить на эту тему дополнительные вебинары! :)\n",
        "\n",
        "\n",
        "Спасибо за работу!"
      ],
      "metadata": {
        "id": "No8nabXeRPZR"
      }
    }
  ]
}