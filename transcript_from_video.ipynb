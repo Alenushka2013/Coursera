{
  "nbformat": 4,
  "nbformat_minor": 0,
  "metadata": {
    "colab": {
      "provenance": [],
      "authorship_tag": "ABX9TyNnOi71duNiYjs7Jekp6jpV",
      "include_colab_link": true
    },
    "kernelspec": {
      "name": "python3",
      "display_name": "Python 3"
    },
    "language_info": {
      "name": "python"
    }
  },
  "cells": [
    {
      "cell_type": "markdown",
      "metadata": {
        "id": "view-in-github",
        "colab_type": "text"
      },
      "source": [
        "<a href=\"https://colab.research.google.com/github/Alenushka2013/Coursera/blob/master/transcript_from_video.ipynb\" target=\"_parent\"><img src=\"https://colab.research.google.com/assets/colab-badge.svg\" alt=\"Open In Colab\"/></a>"
      ]
    },
    {
      "cell_type": "code",
      "source": [
        "!pip install openai-whisper"
      ],
      "metadata": {
        "colab": {
          "base_uri": "https://localhost:8080/",
          "height": 1000
        },
        "collapsed": true,
        "id": "8AbbbHvhAaPH",
        "outputId": "74163d2b-71f4-40e4-b147-11994f2fd519"
      },
      "execution_count": 10,
      "outputs": [
        {
          "output_type": "stream",
          "name": "stdout",
          "text": [
            "Collecting openai-whisper\n",
            "  Downloading openai-whisper-20240930.tar.gz (800 kB)\n",
            "\u001b[?25l     \u001b[90m━━━━━━━━━━━━━━━━━━━━━━━━━━━━━━━━━━━━━━━━\u001b[0m \u001b[32m0.0/800.5 kB\u001b[0m \u001b[31m?\u001b[0m eta \u001b[36m-:--:--\u001b[0m\r\u001b[2K     \u001b[91m━━━━━━━\u001b[0m\u001b[90m╺\u001b[0m\u001b[90m━━━━━━━━━━━━━━━━━━━━━━━━━━━━━━━━\u001b[0m \u001b[32m143.4/800.5 kB\u001b[0m \u001b[31m4.4 MB/s\u001b[0m eta \u001b[36m0:00:01\u001b[0m\r\u001b[2K     \u001b[91m━━━━━━━━━━━━━━━━━━━━━━━━━━━━━━━━\u001b[0m\u001b[90m╺\u001b[0m\u001b[90m━━━━━━━\u001b[0m \u001b[32m645.1/800.5 kB\u001b[0m \u001b[31m9.8 MB/s\u001b[0m eta \u001b[36m0:00:01\u001b[0m\r\u001b[2K     \u001b[90m━━━━━━━━━━━━━━━━━━━━━━━━━━━━━━━━━━━━━━━━\u001b[0m \u001b[32m800.5/800.5 kB\u001b[0m \u001b[31m9.0 MB/s\u001b[0m eta \u001b[36m0:00:00\u001b[0m\n",
            "\u001b[?25h  Installing build dependencies ... \u001b[?25l\u001b[?25hdone\n",
            "  Getting requirements to build wheel ... \u001b[?25l\u001b[?25hdone\n",
            "  Preparing metadata (pyproject.toml) ... \u001b[?25l\u001b[?25hdone\n",
            "Requirement already satisfied: numba in /usr/local/lib/python3.11/dist-packages (from openai-whisper) (0.60.0)\n",
            "Requirement already satisfied: numpy in /usr/local/lib/python3.11/dist-packages (from openai-whisper) (1.26.4)\n",
            "Requirement already satisfied: torch in /usr/local/lib/python3.11/dist-packages (from openai-whisper) (2.5.1+cu124)\n",
            "Requirement already satisfied: tqdm in /usr/local/lib/python3.11/dist-packages (from openai-whisper) (4.67.1)\n",
            "Requirement already satisfied: more-itertools in /usr/local/lib/python3.11/dist-packages (from openai-whisper) (10.5.0)\n",
            "Collecting tiktoken (from openai-whisper)\n",
            "  Downloading tiktoken-0.8.0-cp311-cp311-manylinux_2_17_x86_64.manylinux2014_x86_64.whl.metadata (6.6 kB)\n",
            "Requirement already satisfied: triton>=2.0.0 in /usr/local/lib/python3.11/dist-packages (from openai-whisper) (3.1.0)\n",
            "Requirement already satisfied: filelock in /usr/local/lib/python3.11/dist-packages (from triton>=2.0.0->openai-whisper) (3.17.0)\n",
            "Requirement already satisfied: llvmlite<0.44,>=0.43.0dev0 in /usr/local/lib/python3.11/dist-packages (from numba->openai-whisper) (0.43.0)\n",
            "Requirement already satisfied: regex>=2022.1.18 in /usr/local/lib/python3.11/dist-packages (from tiktoken->openai-whisper) (2024.11.6)\n",
            "Requirement already satisfied: requests>=2.26.0 in /usr/local/lib/python3.11/dist-packages (from tiktoken->openai-whisper) (2.32.3)\n",
            "Requirement already satisfied: typing-extensions>=4.8.0 in /usr/local/lib/python3.11/dist-packages (from torch->openai-whisper) (4.12.2)\n",
            "Requirement already satisfied: networkx in /usr/local/lib/python3.11/dist-packages (from torch->openai-whisper) (3.4.2)\n",
            "Requirement already satisfied: jinja2 in /usr/local/lib/python3.11/dist-packages (from torch->openai-whisper) (3.1.5)\n",
            "Requirement already satisfied: fsspec in /usr/local/lib/python3.11/dist-packages (from torch->openai-whisper) (2024.10.0)\n",
            "Collecting nvidia-cuda-nvrtc-cu12==12.4.127 (from torch->openai-whisper)\n",
            "  Downloading nvidia_cuda_nvrtc_cu12-12.4.127-py3-none-manylinux2014_x86_64.whl.metadata (1.5 kB)\n",
            "Collecting nvidia-cuda-runtime-cu12==12.4.127 (from torch->openai-whisper)\n",
            "  Downloading nvidia_cuda_runtime_cu12-12.4.127-py3-none-manylinux2014_x86_64.whl.metadata (1.5 kB)\n",
            "Collecting nvidia-cuda-cupti-cu12==12.4.127 (from torch->openai-whisper)\n",
            "  Downloading nvidia_cuda_cupti_cu12-12.4.127-py3-none-manylinux2014_x86_64.whl.metadata (1.6 kB)\n",
            "Collecting nvidia-cudnn-cu12==9.1.0.70 (from torch->openai-whisper)\n",
            "  Downloading nvidia_cudnn_cu12-9.1.0.70-py3-none-manylinux2014_x86_64.whl.metadata (1.6 kB)\n",
            "Collecting nvidia-cublas-cu12==12.4.5.8 (from torch->openai-whisper)\n",
            "  Downloading nvidia_cublas_cu12-12.4.5.8-py3-none-manylinux2014_x86_64.whl.metadata (1.5 kB)\n",
            "Collecting nvidia-cufft-cu12==11.2.1.3 (from torch->openai-whisper)\n",
            "  Downloading nvidia_cufft_cu12-11.2.1.3-py3-none-manylinux2014_x86_64.whl.metadata (1.5 kB)\n",
            "Collecting nvidia-curand-cu12==10.3.5.147 (from torch->openai-whisper)\n",
            "  Downloading nvidia_curand_cu12-10.3.5.147-py3-none-manylinux2014_x86_64.whl.metadata (1.5 kB)\n",
            "Collecting nvidia-cusolver-cu12==11.6.1.9 (from torch->openai-whisper)\n",
            "  Downloading nvidia_cusolver_cu12-11.6.1.9-py3-none-manylinux2014_x86_64.whl.metadata (1.6 kB)\n",
            "Collecting nvidia-cusparse-cu12==12.3.1.170 (from torch->openai-whisper)\n",
            "  Downloading nvidia_cusparse_cu12-12.3.1.170-py3-none-manylinux2014_x86_64.whl.metadata (1.6 kB)\n",
            "Requirement already satisfied: nvidia-nccl-cu12==2.21.5 in /usr/local/lib/python3.11/dist-packages (from torch->openai-whisper) (2.21.5)\n",
            "Requirement already satisfied: nvidia-nvtx-cu12==12.4.127 in /usr/local/lib/python3.11/dist-packages (from torch->openai-whisper) (12.4.127)\n",
            "Collecting nvidia-nvjitlink-cu12==12.4.127 (from torch->openai-whisper)\n",
            "  Downloading nvidia_nvjitlink_cu12-12.4.127-py3-none-manylinux2014_x86_64.whl.metadata (1.5 kB)\n",
            "Requirement already satisfied: sympy==1.13.1 in /usr/local/lib/python3.11/dist-packages (from torch->openai-whisper) (1.13.1)\n",
            "Requirement already satisfied: mpmath<1.4,>=1.1.0 in /usr/local/lib/python3.11/dist-packages (from sympy==1.13.1->torch->openai-whisper) (1.3.0)\n",
            "Requirement already satisfied: charset-normalizer<4,>=2 in /usr/local/lib/python3.11/dist-packages (from requests>=2.26.0->tiktoken->openai-whisper) (3.4.1)\n",
            "Requirement already satisfied: idna<4,>=2.5 in /usr/local/lib/python3.11/dist-packages (from requests>=2.26.0->tiktoken->openai-whisper) (3.10)\n",
            "Requirement already satisfied: urllib3<3,>=1.21.1 in /usr/local/lib/python3.11/dist-packages (from requests>=2.26.0->tiktoken->openai-whisper) (2.3.0)\n",
            "Requirement already satisfied: certifi>=2017.4.17 in /usr/local/lib/python3.11/dist-packages (from requests>=2.26.0->tiktoken->openai-whisper) (2024.12.14)\n",
            "Requirement already satisfied: MarkupSafe>=2.0 in /usr/local/lib/python3.11/dist-packages (from jinja2->torch->openai-whisper) (3.0.2)\n",
            "Downloading tiktoken-0.8.0-cp311-cp311-manylinux_2_17_x86_64.manylinux2014_x86_64.whl (1.2 MB)\n",
            "\u001b[2K   \u001b[90m━━━━━━━━━━━━━━━━━━━━━━━━━━━━━━━━━━━━━━━━\u001b[0m \u001b[32m1.2/1.2 MB\u001b[0m \u001b[31m41.4 MB/s\u001b[0m eta \u001b[36m0:00:00\u001b[0m\n",
            "\u001b[?25hDownloading nvidia_cublas_cu12-12.4.5.8-py3-none-manylinux2014_x86_64.whl (363.4 MB)\n",
            "\u001b[2K   \u001b[90m━━━━━━━━━━━━━━━━━━━━━━━━━━━━━━━━━━━━━━━━\u001b[0m \u001b[32m363.4/363.4 MB\u001b[0m \u001b[31m4.5 MB/s\u001b[0m eta \u001b[36m0:00:00\u001b[0m\n",
            "\u001b[?25hDownloading nvidia_cuda_cupti_cu12-12.4.127-py3-none-manylinux2014_x86_64.whl (13.8 MB)\n",
            "\u001b[2K   \u001b[90m━━━━━━━━━━━━━━━━━━━━━━━━━━━━━━━━━━━━━━━━\u001b[0m \u001b[32m13.8/13.8 MB\u001b[0m \u001b[31m71.7 MB/s\u001b[0m eta \u001b[36m0:00:00\u001b[0m\n",
            "\u001b[?25hDownloading nvidia_cuda_nvrtc_cu12-12.4.127-py3-none-manylinux2014_x86_64.whl (24.6 MB)\n",
            "\u001b[2K   \u001b[90m━━━━━━━━━━━━━━━━━━━━━━━━━━━━━━━━━━━━━━━━\u001b[0m \u001b[32m24.6/24.6 MB\u001b[0m \u001b[31m53.0 MB/s\u001b[0m eta \u001b[36m0:00:00\u001b[0m\n",
            "\u001b[?25hDownloading nvidia_cuda_runtime_cu12-12.4.127-py3-none-manylinux2014_x86_64.whl (883 kB)\n",
            "\u001b[2K   \u001b[90m━━━━━━━━━━━━━━━━━━━━━━━━━━━━━━━━━━━━━━━━\u001b[0m \u001b[32m883.7/883.7 kB\u001b[0m \u001b[31m44.3 MB/s\u001b[0m eta \u001b[36m0:00:00\u001b[0m\n",
            "\u001b[?25hDownloading nvidia_cudnn_cu12-9.1.0.70-py3-none-manylinux2014_x86_64.whl (664.8 MB)\n",
            "\u001b[2K   \u001b[90m━━━━━━━━━━━━━━━━━━━━━━━━━━━━━━━━━━━━━━━━\u001b[0m \u001b[32m664.8/664.8 MB\u001b[0m \u001b[31m2.1 MB/s\u001b[0m eta \u001b[36m0:00:00\u001b[0m\n",
            "\u001b[?25hDownloading nvidia_cufft_cu12-11.2.1.3-py3-none-manylinux2014_x86_64.whl (211.5 MB)\n",
            "\u001b[2K   \u001b[90m━━━━━━━━━━━━━━━━━━━━━━━━━━━━━━━━━━━━━━━━\u001b[0m \u001b[32m211.5/211.5 MB\u001b[0m \u001b[31m5.9 MB/s\u001b[0m eta \u001b[36m0:00:00\u001b[0m\n",
            "\u001b[?25hDownloading nvidia_curand_cu12-10.3.5.147-py3-none-manylinux2014_x86_64.whl (56.3 MB)\n",
            "\u001b[2K   \u001b[90m━━━━━━━━━━━━━━━━━━━━━━━━━━━━━━━━━━━━━━━━\u001b[0m \u001b[32m56.3/56.3 MB\u001b[0m \u001b[31m11.5 MB/s\u001b[0m eta \u001b[36m0:00:00\u001b[0m\n",
            "\u001b[?25hDownloading nvidia_cusolver_cu12-11.6.1.9-py3-none-manylinux2014_x86_64.whl (127.9 MB)\n",
            "\u001b[2K   \u001b[90m━━━━━━━━━━━━━━━━━━━━━━━━━━━━━━━━━━━━━━━━\u001b[0m \u001b[32m127.9/127.9 MB\u001b[0m \u001b[31m7.3 MB/s\u001b[0m eta \u001b[36m0:00:00\u001b[0m\n",
            "\u001b[?25hDownloading nvidia_cusparse_cu12-12.3.1.170-py3-none-manylinux2014_x86_64.whl (207.5 MB)\n",
            "\u001b[2K   \u001b[90m━━━━━━━━━━━━━━━━━━━━━━━━━━━━━━━━━━━━━━━━\u001b[0m \u001b[32m207.5/207.5 MB\u001b[0m \u001b[31m6.3 MB/s\u001b[0m eta \u001b[36m0:00:00\u001b[0m\n",
            "\u001b[?25hDownloading nvidia_nvjitlink_cu12-12.4.127-py3-none-manylinux2014_x86_64.whl (21.1 MB)\n",
            "\u001b[2K   \u001b[90m━━━━━━━━━━━━━━━━━━━━━━━━━━━━━━━━━━━━━━━━\u001b[0m \u001b[32m21.1/21.1 MB\u001b[0m \u001b[31m56.4 MB/s\u001b[0m eta \u001b[36m0:00:00\u001b[0m\n",
            "\u001b[?25hBuilding wheels for collected packages: openai-whisper\n",
            "  Building wheel for openai-whisper (pyproject.toml) ... \u001b[?25l\u001b[?25hdone\n",
            "  Created wheel for openai-whisper: filename=openai_whisper-20240930-py3-none-any.whl size=803373 sha256=b158f7cfb2473fa14b6d37a74a5914266ef2a60a2a0968a29c745da9b09f1915\n",
            "  Stored in directory: /root/.cache/pip/wheels/2f/f2/ce/6eb23db4091d026238ce76703bd66da60b969d70bcc81d5d3a\n",
            "Successfully built openai-whisper\n",
            "Installing collected packages: nvidia-nvjitlink-cu12, nvidia-curand-cu12, nvidia-cufft-cu12, nvidia-cuda-runtime-cu12, nvidia-cuda-nvrtc-cu12, nvidia-cuda-cupti-cu12, nvidia-cublas-cu12, tiktoken, nvidia-cusparse-cu12, nvidia-cudnn-cu12, nvidia-cusolver-cu12, openai-whisper\n",
            "  Attempting uninstall: nvidia-nvjitlink-cu12\n",
            "    Found existing installation: nvidia-nvjitlink-cu12 12.5.82\n",
            "    Uninstalling nvidia-nvjitlink-cu12-12.5.82:\n",
            "      Successfully uninstalled nvidia-nvjitlink-cu12-12.5.82\n",
            "  Attempting uninstall: nvidia-curand-cu12\n",
            "    Found existing installation: nvidia-curand-cu12 10.3.6.82\n",
            "    Uninstalling nvidia-curand-cu12-10.3.6.82:\n",
            "      Successfully uninstalled nvidia-curand-cu12-10.3.6.82\n",
            "  Attempting uninstall: nvidia-cufft-cu12\n",
            "    Found existing installation: nvidia-cufft-cu12 11.2.3.61\n",
            "    Uninstalling nvidia-cufft-cu12-11.2.3.61:\n",
            "      Successfully uninstalled nvidia-cufft-cu12-11.2.3.61\n",
            "  Attempting uninstall: nvidia-cuda-runtime-cu12\n",
            "    Found existing installation: nvidia-cuda-runtime-cu12 12.5.82\n",
            "    Uninstalling nvidia-cuda-runtime-cu12-12.5.82:\n",
            "      Successfully uninstalled nvidia-cuda-runtime-cu12-12.5.82\n",
            "  Attempting uninstall: nvidia-cuda-nvrtc-cu12\n",
            "    Found existing installation: nvidia-cuda-nvrtc-cu12 12.5.82\n",
            "    Uninstalling nvidia-cuda-nvrtc-cu12-12.5.82:\n",
            "      Successfully uninstalled nvidia-cuda-nvrtc-cu12-12.5.82\n",
            "  Attempting uninstall: nvidia-cuda-cupti-cu12\n",
            "    Found existing installation: nvidia-cuda-cupti-cu12 12.5.82\n",
            "    Uninstalling nvidia-cuda-cupti-cu12-12.5.82:\n",
            "      Successfully uninstalled nvidia-cuda-cupti-cu12-12.5.82\n",
            "  Attempting uninstall: nvidia-cublas-cu12\n",
            "    Found existing installation: nvidia-cublas-cu12 12.5.3.2\n",
            "    Uninstalling nvidia-cublas-cu12-12.5.3.2:\n",
            "      Successfully uninstalled nvidia-cublas-cu12-12.5.3.2\n",
            "  Attempting uninstall: nvidia-cusparse-cu12\n",
            "    Found existing installation: nvidia-cusparse-cu12 12.5.1.3\n",
            "    Uninstalling nvidia-cusparse-cu12-12.5.1.3:\n",
            "      Successfully uninstalled nvidia-cusparse-cu12-12.5.1.3\n",
            "  Attempting uninstall: nvidia-cudnn-cu12\n",
            "    Found existing installation: nvidia-cudnn-cu12 9.3.0.75\n",
            "    Uninstalling nvidia-cudnn-cu12-9.3.0.75:\n",
            "      Successfully uninstalled nvidia-cudnn-cu12-9.3.0.75\n",
            "  Attempting uninstall: nvidia-cusolver-cu12\n",
            "    Found existing installation: nvidia-cusolver-cu12 11.6.3.83\n",
            "    Uninstalling nvidia-cusolver-cu12-11.6.3.83:\n",
            "      Successfully uninstalled nvidia-cusolver-cu12-11.6.3.83\n",
            "Successfully installed nvidia-cublas-cu12-12.4.5.8 nvidia-cuda-cupti-cu12-12.4.127 nvidia-cuda-nvrtc-cu12-12.4.127 nvidia-cuda-runtime-cu12-12.4.127 nvidia-cudnn-cu12-9.1.0.70 nvidia-cufft-cu12-11.2.1.3 nvidia-curand-cu12-10.3.5.147 nvidia-cusolver-cu12-11.6.1.9 nvidia-cusparse-cu12-12.3.1.170 nvidia-nvjitlink-cu12-12.4.127 openai-whisper-20240930 tiktoken-0.8.0\n"
          ]
        },
        {
          "output_type": "display_data",
          "data": {
            "application/vnd.colab-display-data+json": {
              "pip_warning": {
                "packages": [
                  "whisper"
                ]
              },
              "id": "68643f10d8e74e8580495de6b099b315"
            }
          },
          "metadata": {}
        }
      ]
    },
    {
      "cell_type": "code",
      "source": [
        "!pip install yt-dlp"
      ],
      "metadata": {
        "colab": {
          "base_uri": "https://localhost:8080/"
        },
        "collapsed": true,
        "id": "z34mht-AAugs",
        "outputId": "0b37fff2-8122-4d28-a59c-2aac39013ab2"
      },
      "execution_count": 4,
      "outputs": [
        {
          "output_type": "stream",
          "name": "stdout",
          "text": [
            "Collecting yt-dlp\n",
            "  Downloading yt_dlp-2025.1.26-py3-none-any.whl.metadata (172 kB)\n",
            "\u001b[2K     \u001b[90m━━━━━━━━━━━━━━━━━━━━━━━━━━━━━━━━━━━━━━━━\u001b[0m \u001b[32m172.0/172.0 kB\u001b[0m \u001b[31m3.0 MB/s\u001b[0m eta \u001b[36m0:00:00\u001b[0m\n",
            "\u001b[?25hDownloading yt_dlp-2025.1.26-py3-none-any.whl (3.2 MB)\n",
            "\u001b[2K   \u001b[90m━━━━━━━━━━━━━━━━━━━━━━━━━━━━━━━━━━━━━━━━\u001b[0m \u001b[32m3.2/3.2 MB\u001b[0m \u001b[31m35.6 MB/s\u001b[0m eta \u001b[36m0:00:00\u001b[0m\n",
            "\u001b[?25hInstalling collected packages: yt-dlp\n",
            "Successfully installed yt-dlp-2025.1.26\n"
          ]
        }
      ]
    },
    {
      "cell_type": "code",
      "source": [
        "!pip install whisper\n"
      ],
      "metadata": {
        "colab": {
          "base_uri": "https://localhost:8080/"
        },
        "id": "M1aPhNbmA50B",
        "outputId": "40436db9-00ba-4817-ead2-06f8d1df5b01"
      },
      "execution_count": 4,
      "outputs": [
        {
          "output_type": "stream",
          "name": "stdout",
          "text": [
            "Collecting whisper\n",
            "  Using cached whisper-1.1.10-py3-none-any.whl\n",
            "Requirement already satisfied: six in /usr/local/lib/python3.11/dist-packages (from whisper) (1.17.0)\n",
            "Installing collected packages: whisper\n",
            "Successfully installed whisper-1.1.10\n"
          ]
        }
      ]
    },
    {
      "cell_type": "code",
      "execution_count": 6,
      "metadata": {
        "id": "Z9EOYWeRABHz"
      },
      "outputs": [],
      "source": [
        "import subprocess\n",
        "import whisper\n"
      ]
    },
    {
      "cell_type": "code",
      "source": [
        "!pip install yt-dlp\n",
        "!apt install ffmpeg"
      ],
      "metadata": {
        "colab": {
          "base_uri": "https://localhost:8080/"
        },
        "id": "222PnBw7Df0c",
        "outputId": "0a47364b-67f0-4a87-dc39-78f08195835d"
      },
      "execution_count": 7,
      "outputs": [
        {
          "output_type": "stream",
          "name": "stdout",
          "text": [
            "Requirement already satisfied: yt-dlp in /usr/local/lib/python3.11/dist-packages (2025.1.26)\n",
            "Reading package lists... Done\n",
            "Building dependency tree... Done\n",
            "Reading state information... Done\n",
            "ffmpeg is already the newest version (7:4.4.2-0ubuntu0.22.04.1).\n",
            "0 upgraded, 0 newly installed, 0 to remove and 18 not upgraded.\n"
          ]
        }
      ]
    },
    {
      "cell_type": "code",
      "source": [
        "#!yt-dlp -x --audio-format mp3 -o \"audio.mp3\" \"https://www.youtube.com/live/ZRf2ha47wSU\"\n",
        "video_path = \"/content/Efir_25_01_25.mp4\"\n",
        "#!yt-dlp -f \"bestaudio\" --cookies cookies.txt -o \"audio.mp4\" \"/content/Efir_25_01_25.mp4\""
      ],
      "metadata": {
        "id": "1ov23Y91Dm2x"
      },
      "execution_count": 13,
      "outputs": []
    },
    {
      "cell_type": "code",
      "source": [
        "\n",
        "# Спочатку конвертуємо відео в аудіо (mp3)\n",
        "!ffmpeg -i \"/content/Efir_25_01_25.mp4\" -vn -acodec mp3 \"/content/audio.mp3\"\n"
      ],
      "metadata": {
        "colab": {
          "base_uri": "https://localhost:8080/"
        },
        "id": "R7w7gLKkFijU",
        "outputId": "60fc9472-8bc4-4d5d-a3c3-47e077c14f7a"
      },
      "execution_count": 14,
      "outputs": [
        {
          "output_type": "stream",
          "name": "stdout",
          "text": [
            "ffmpeg version 4.4.2-0ubuntu0.22.04.1 Copyright (c) 2000-2021 the FFmpeg developers\n",
            "  built with gcc 11 (Ubuntu 11.2.0-19ubuntu1)\n",
            "  configuration: --prefix=/usr --extra-version=0ubuntu0.22.04.1 --toolchain=hardened --libdir=/usr/lib/x86_64-linux-gnu --incdir=/usr/include/x86_64-linux-gnu --arch=amd64 --enable-gpl --disable-stripping --enable-gnutls --enable-ladspa --enable-libaom --enable-libass --enable-libbluray --enable-libbs2b --enable-libcaca --enable-libcdio --enable-libcodec2 --enable-libdav1d --enable-libflite --enable-libfontconfig --enable-libfreetype --enable-libfribidi --enable-libgme --enable-libgsm --enable-libjack --enable-libmp3lame --enable-libmysofa --enable-libopenjpeg --enable-libopenmpt --enable-libopus --enable-libpulse --enable-librabbitmq --enable-librubberband --enable-libshine --enable-libsnappy --enable-libsoxr --enable-libspeex --enable-libsrt --enable-libssh --enable-libtheora --enable-libtwolame --enable-libvidstab --enable-libvorbis --enable-libvpx --enable-libwebp --enable-libx265 --enable-libxml2 --enable-libxvid --enable-libzimg --enable-libzmq --enable-libzvbi --enable-lv2 --enable-omx --enable-openal --enable-opencl --enable-opengl --enable-sdl2 --enable-pocketsphinx --enable-librsvg --enable-libmfx --enable-libdc1394 --enable-libdrm --enable-libiec61883 --enable-chromaprint --enable-frei0r --enable-libx264 --enable-shared\n",
            "  libavutil      56. 70.100 / 56. 70.100\n",
            "  libavcodec     58.134.100 / 58.134.100\n",
            "  libavformat    58. 76.100 / 58. 76.100\n",
            "  libavdevice    58. 13.100 / 58. 13.100\n",
            "  libavfilter     7.110.100 /  7.110.100\n",
            "  libswscale      5.  9.100 /  5.  9.100\n",
            "  libswresample   3.  9.100 /  3.  9.100\n",
            "  libpostproc    55.  9.100 / 55.  9.100\n",
            "Input #0, mov,mp4,m4a,3gp,3g2,mj2, from '/content/Efir_25_01_25.mp4':\n",
            "  Metadata:\n",
            "    major_brand     : mp42\n",
            "    minor_version   : 0\n",
            "    compatible_brands: isommp42\n",
            "    creation_time   : 2025-01-25T11:54:39.000000Z\n",
            "    encoder         : Google\n",
            "  Duration: 01:46:55.02, start: 0.000000, bitrate: 240 kb/s\n",
            "  Stream #0:0(und): Video: h264 (Main) (avc1 / 0x31637661), yuv420p(tv, bt709), 640x360 [SAR 1:1 DAR 16:9], 189 kb/s, 30 fps, 30 tbr, 15360 tbn, 60 tbc (default)\n",
            "    Metadata:\n",
            "      creation_time   : 2025-01-25T11:54:39.000000Z\n",
            "      handler_name    : ISO Media file produced by Google Inc. Created on: 01/25/2025.\n",
            "      vendor_id       : [0][0][0][0]\n",
            "  Stream #0:1(eng): Audio: aac (HE-AAC) (mp4a / 0x6134706D), 44100 Hz, stereo, fltp, 47 kb/s (default)\n",
            "    Metadata:\n",
            "      creation_time   : 2025-01-25T11:54:39.000000Z\n",
            "      handler_name    : ISO Media file produced by Google Inc. Created on: 01/25/2025.\n",
            "      vendor_id       : [0][0][0][0]\n",
            "Stream mapping:\n",
            "  Stream #0:1 -> #0:0 (aac (native) -> mp3 (libmp3lame))\n",
            "Press [q] to stop, [?] for help\n",
            "Output #0, mp3, to '/content/audio.mp3':\n",
            "  Metadata:\n",
            "    major_brand     : mp42\n",
            "    minor_version   : 0\n",
            "    compatible_brands: isommp42\n",
            "    TSSE            : Lavf58.76.100\n",
            "  Stream #0:0(eng): Audio: mp3, 44100 Hz, stereo, fltp (default)\n",
            "    Metadata:\n",
            "      creation_time   : 2025-01-25T11:54:39.000000Z\n",
            "      handler_name    : ISO Media file produced by Google Inc. Created on: 01/25/2025.\n",
            "      vendor_id       : [0][0][0][0]\n",
            "      encoder         : Lavc58.134.100 libmp3lame\n",
            "size=  100236kB time=01:46:55.02 bitrate= 128.0kbits/s speed=39.7x    \n",
            "video:0kB audio:100236kB subtitle:0kB other streams:0kB global headers:0kB muxing overhead: 0.000337%\n"
          ]
        }
      ]
    },
    {
      "cell_type": "code",
      "source": [
        "\n",
        "# Завантажуємо модель Whisper\n",
        "model = whisper.load_model(\"base\")\n"
      ],
      "metadata": {
        "colab": {
          "base_uri": "https://localhost:8080/"
        },
        "id": "6THm7KHrFkMZ",
        "outputId": "50631a9c-2af2-4645-a992-802722b1475b"
      },
      "execution_count": 7,
      "outputs": [
        {
          "output_type": "stream",
          "name": "stderr",
          "text": [
            "100%|███████████████████████████████████████| 139M/139M [00:01<00:00, 80.7MiB/s]\n",
            "/usr/local/lib/python3.11/dist-packages/whisper/__init__.py:150: FutureWarning: You are using `torch.load` with `weights_only=False` (the current default value), which uses the default pickle module implicitly. It is possible to construct malicious pickle data which will execute arbitrary code during unpickling (See https://github.com/pytorch/pytorch/blob/main/SECURITY.md#untrusted-models for more details). In a future release, the default value for `weights_only` will be flipped to `True`. This limits the functions that could be executed during unpickling. Arbitrary objects will no longer be allowed to be loaded via this mode unless they are explicitly allowlisted by the user via `torch.serialization.add_safe_globals`. We recommend you start setting `weights_only=True` for any use case where you don't have full control of the loaded file. Please open an issue on GitHub for any issues related to this experimental feature.\n",
            "  checkpoint = torch.load(fp, map_location=device)\n"
          ]
        }
      ]
    },
    {
      "cell_type": "code",
      "source": [
        "\n",
        "# Транскрибуємо аудіо\n",
        "result = model.transcribe(\"/content/audio.mp3\")\n",
        "print(result[\"text\"])"
      ],
      "metadata": {
        "colab": {
          "base_uri": "https://localhost:8080/"
        },
        "id": "Kj2y6LuSFnHR",
        "outputId": "06c4e68f-dad1-4d10-c36e-e581f256467c"
      },
      "execution_count": 8,
      "outputs": [
        {
          "output_type": "stream",
          "name": "stderr",
          "text": [
            "/usr/local/lib/python3.11/dist-packages/whisper/transcribe.py:126: UserWarning: FP16 is not supported on CPU; using FP32 instead\n",
            "  warnings.warn(\"FP16 is not supported on CPU; using FP32 instead\")\n"
          ]
        },
        {
          "output_type": "stream",
          "name": "stdout",
          "text": [
            " Сім приїдві. Давайте подчакаємо парох вименьшок, поки всі доєднайться. Сім приїхто до нас приєднайться. Напущить в чаті, видно монетшуте. Сім приїдві. Скажіть, будь ласка монетшуте. Чути все, бачу. Дякую. У нас тришка буде підвисати чат. Я сьогодні з вами буду спіркуватися. Але відразу попорежившу чат, тришка підвисає. Тому я буду брати парох секундуршов для того, щоб прощата ще ви написали. Добре, що чат, тришка розвиси. Надо в мені інформацію. Що по-насли бувалося живе спілкування. Сім приїдві. Давайте подчакаємо парох вименьшок. Коли всі підключиться, яка те мазустрічі владислав питає. Сьогодні ми поговоримо про спектили в 2025 року на фондовому ринку. Задіним, що нам може дати прабутка, що нам може принести ризики. Тому цікаво буде і для інвесторів, які є початки в цьому. Також буде цікаво для інвесторів, які вже довго інвестують. Сьогодні з вами будемо спіркуватися. Також буде цікаво для абсолютно новочків, які цільки хошуть почати інвестувати у 2025 року. Тому що знаю страшно, прийшов Trump і є питання. Сім приїдві. Скажіть, будь ласка, хто мано на эфірі «Перша раз». Поставте плюски, що не «Перша раз» вставимо минусок. Доброго дня. Цікаво. Вітаю в «Перша». Бачу, дякую, дякую вам дуже. Я буду знати, як стоюкуватися. Карен питає, що му страшного. Коли я не визначеність, а Стрампом є не визначеність, можуть бути певні події, які впливають на наші стане мотіни. А від того, як ми соба пушуваємо, нащимуться впливають на сіми активів тому що римок повністю контролюється емоціями. Прийшов багато хто «Перша раз», «Перша раз», «Перша раз». Тоді останні питання до вас на сьогодні, щоб я теж знала питання на початку ефіра, таке 6-тихнічне, щоб я знала, як спілкуватися. Хто у нас цількі цількі починаєнгостувати? Хоча почати, що не інгостує леггоша почати. Чим вистують цількі в'їти їх? Я просто сьогодні вам буду надавати тикари компаній. Відразу скажу, що така тикари? Бачим, бачим, що хочете почати. Добре, багато вас. Я сьогодні буду надавати тикари компаній, які цікаві мені на 2025 рів, коли хто відразу попередати, що це ми індивідуальна фінансовая рекомендація, тому що я не знаю ваш ризик профіль. Данна, скільки ви готові бути ризакованим. Також я не знаю, який у вас цілі і ми все все проводимо піданаліздав, аналіз повинен проходити самостійний. Тому я сьогодні вам буду надавати тикари. Буду їх писати в чат. Сьогодні буду у нас така цікава комонікатія. Будемо ставити з вами кланы на 2025 рік. Виписуєте собі тикари і аналізуєте. Добро, не премаєте це як рекомендацію. Саме для вас. Добро, давайте ще хвивиночку буде як раз 12-105. Всі приєднаються. Хто хотів, інші будуть в запасі дивитися. Хто у нас бачив трампралі, як це називається на фондовому ринку, словами інбестера, циколи зростає фондоваринок і крипторинок. Якщо випускує, мемкоїна трампомк, той сприйма в участь. Коли евранок зуботи дивлюся ваша хір'я, надія на гарний пошаток вихідних продуктивністів. Дякую, дож, приємо. Тобу в скам. Я купую, надійші в стих випродати. Ні. Бачу, бачу, що бачили, хтось у 6 брах, хтось на брах, я участь на бралан. Але така ралі, як називаємо, коли зростають сіни на тіні паперику, зростають сіни на криптовалютах, називається саме ралі. У нас є така щаралі Санта Клауссана фондовому ринку, серед інвесторів, дуже-дуже відома поняти. Циколи, перед новим роком, у всіх хорошій настрів, всі очікують хорощі прибутки від компанії, тіни на акції зростають. Але в цьому році у нас викрали новорічня ралі і стало трампралі. Добре, тоді питання. Як вважаєте, що продовжить фондовий ринок зростати, якщо все в цього ралі. Странпом і не цількі з ним чи продовжить цей істор. Так, багато, що так, багато ні, хто пишені, скажіть, що му, хто пишет так, не пишіть, що му. Будемо спілкуватися. Странпом будоростить, що му? Чому странпом будоростити? Чому ви так думаете? Хтось робить ставку на нерухомість та промисловість, чому? Напишіть, будь ласка чому. Ви починаєте, я продовжу ваші думки. Бо все розвивається. Чекає на коракцію. Бо не стоїмо на місці. Ринок завжди до в гору. Бо вже є відомі компанії, які приймують участь у розвівробці, що є для сполучених штатів. Бо інфляція. А на Бо інфляція, в подаринг, чи на поки зросте? Хочу зрозуміти рівень, де ми зараз з вами знаходимося, щоб відштохуватися в нашому стюлкування. Ми з вами на годинку, півтори зібралися. Якщо сам трамп не виконачось політиці, то буде зростат. Росте бо інфляція. Вийшли дані бо інфляція з грудень. І вони показали, що базував інфляція знизилася більше, ніж очікувалися, що відрудило сподівання на зниження процентних ставок. Ринки порадбачається, одне, або два зниження процентних ставок до кінця року. Що це для нас означає? Що значить зниження процентних ставок? Коли знижується процентні ставки, у банків знижується ставка по кредитам. Коли ставка по кредитам знижується, ми з вами, як споживачі, починаємо більше брати кредитів. Як і компанії? Чен більше у нас вільна грошей? Чен більше ми можемо їх обортати в економіці у своїй компанії використовувати ці кредитні гроші? На продукти това ри на розвиток, тим більше економіка починає розвиватися. Тому дуже важливо для інвесторів слідкувати, як які будуть ді центральних банків. На сьогоднішній день риники порадбачають одне, або два зниження ставок до кінця року. Також у нас ринок працює симний, тому тобто ринок працює симний, це коли багато. Хто працює і хо що працювати? Немає якого зостою, тому більшість аналітиків і моя думка вона залишається позитивних, у чай є моменти різуко-проекійної, ми сьогодні пешпо воворому. Але за останній рік працює симний рік, це това ри не першої необхідності, встановив 34%. Порівнено симний рік, това рів першої необхідності, тобто ми не бачимо домінування захисних активів, чому акції споживших товарів не першої необхідності не вважають захисними, тому що це акції компаній, які ми купуємо, то діколи у світі все добре. Воколи у світі все погано, ми з вами не йдемоні купуємо товари не першої необхідності, що у нас товари не першої необхідності, а ну поділіться зі мов. Що вважаєте товарами не першої необхідності? Чекаю ваших коментарів підвисає коментарі. У дях айфони, люкс, з люксом дуже цікава ситуація. Мене є останній ріл самоисторінці, як розпроблюкся, це такий сегмент, який багать і заробляють і проможуть кошти, краски в кризи, тому і в кризи люк зрустає і не цільки в кризи. Ось запятнатись за 16 років люкс Римок, перші раз зараз просів, тому що в Китає знизилися покупка. Машчин і техніка для дому, да, ось це товари не першої необхідності. Ми хкупуємо тоді, коли у нас все добре, коли є кошти. І ось зараз ми башимо, що такі компанії виросли на 34 відсотки, порівенно 7 відсотками, коли виросли захисній компанії. Що у нас захисній компанії? Кі компанії нам потрібні завжди. У сті компанії називається захисними, тому що їх продукція нам потрібна завжди. Якщо нам ця продукція потрібна завжди, ми купуємо ці товари. Компанії є прибутат, тобто у них є навіть в кризу гроші. А значить акції в компанії можуть показувати зростання навіть в погані часи. Компанії золо та її жаліки, це те, що нам потрібно завжди. Ми бачимо не будемо купувати, якщо настанна криза. Біж за все, що ми залишаємо. Але формація, ми збившимо медичний сектор, дійсно циті товари, які нам потрібні. Але зараз повторюється, ми бачимо, що акції з поживчих товарів неaperшив на обхідності, домінують на товарами неaperшив на обхідності. Що нам про це? Що нам каже? Що нам каже? Коли лідером ринку залишається акції високого ризику, це свіше, що ринок сильний. Сигнал не зустрічається на видмежих ринках. Що таке видмежи ринок? Коли акції розтуть, зростають. Ідати кілька ринок. Це буть ширинок, тому що буйк б є рогами в гору. Вадміть він б є лапою вниз. Коли ринок падає, його називають, в одмежем ринком. Мось такої трішки з опарк серед інвесторів є, є багато цікавих тваринок, яких ми називаємо інвесторів і стан ринку. Але це два оснинутий бакіта в одмежі. Тобто зараз ми не бачимо. Сигнали, що ринок буде більше. Ризик є, але ми бачимо зростання. Тим бачок, коли є драйвери зростання. Рогно за взяти аналітики Волстріт. Вони очікують, що динаміка теж буде позитивна. Вона не буде настільки вирожена, як в попередні роки. Але вона все, що таке буде позитивно. Сен ті п'ятсот, що у нас Сен ті п'ятсот? Хто ми не скажеш, що таке Сен ті п'ятсот? Простиму словами, щоб всім було зрозуміло. До золото дійдемо зараз пояснює про золото. П'ятсот компанії США, це п'ятсот найбільших компаній. І інто Сен ті п'ятсот нам вказує на середньо зваженуть сину. Ось як наприклад, ми візьмемо клас, де навчається п'ять студентів. І ось їх сарайдні уцінки. Вони по матанлату все отримали різні отцінки за контрольно. І ось це сарайдні значе не їхнює цінки. Якщо ми всі їх сарайдні сарайдні уцінки спрізумимо поділимо на кількість учні, то отримаємо сарайдні усьважену сарайдні ціну. Ось ось якщо ми візьмемо 500 компаній в спушних штатах найбільше. І визнишимо їх сарайдні уцінки. Ми дізнаймось на скільки ці компанії в сарайдніму успішні. Тому очікується, що 500 найбільше компаній в Остріту очікує, що зростен на 13 відсотки. Але банкова Марика каже, що їх аналітики, каже, що можемо очікувати і 20 відсотки. Я подумайте, хто буде драйвером зростання. Ринку. Що ми всі так позитивно відноситься доринку? Що ми зараз башимо? Які компанії буде драйвером зростання? Я думаю, визораз відразу вгадаєте? Шої і технології? Да. Правильно. Ось тут, хтось, пийша про наргетику. Теш. Тесла. Він на тещу драйвер зростання. Він просто драйвер, і он маск про яйтранпі. Техно. Гугл. А що му Гугл буде зростати? Гугл, майкрософтен, відія. Що це за компанії? Можливо, хтось ми не підскажли, як ці компанії називається? Гугл, майкрософтен, відія. Я третий назвалай ще 4. Що вони разом намдають? Шар. Іх називають д�ують до допомогою. Ага. Ось Анна написала велика Семірка. Їх називають Магніфішенс 7, чодого Семірка. До цієї Семірки входить Apple, Майкрософтен, Магніфішенс, DTD, МД& anyone. Техто водується з особою гонку штучного інтелектор. Вони надають інфраструктуру для розвитку штучного інтелектору. Ти крупні технологічні корпорації велики, велики кошти, велики грошовий потік, що дає їм змогу навіть індустувати в дослідження, розробки і витрачати гроші покривати подкучні витрати, навіть з обов, будь яких макро-экономічних ризиків. Є класний ЄТ єв, хто знає, що такий ЄТ єв. Хто мені підкажає, що такий ЄТ єв. Це фонди, це фонди. Щоро блядь ЄТ єв. Вим можете купувати у Кремі компанії, а може купувати ось таку збірну збірну солянку з різних компаній одним кліком, одним активом. ЄТ єв, це фонди, який, наприклад, це продукт, як айфон. Ось є компанія, яка створила ЄТ єв продукт, я епл, яка створила айфон, а є компанія, наприклад, в лекрок, чи будь яка інша, можна собі прийнути, яка випускає продукт ЄТ єв. ЄТ єв, це такий збірка, її можна звати портфель, як в дітям в школу, збирати профалію з різних інструментів. Ручка, маска, висточок, щоб точно дитина пішла в школу, і вона змогла отримати знання, щоб ця ціль була закрита. Ось ЄТ єв, це такий інструмент, де різні, ось є ручка, наприклад, компанія епл, з одного сектора. Є улюбується це компанія, в якийсь іншого сектору, я фармаці втишна компанія, яка виконує там функцію зоши, і завдяки ось цьому мікс у різних компаній ми маємо ось це середній арифмитичне, що задовільняє наші потреби. Якщо одна компанія просідає інша дає плюс в певних ринкових умовах, і за цього наш портфель все одно не дивлючися на деків просадки, на просадки в цьому ЄТ єв, все одно цей портфель з ростає. І виконує свою ціль, ми можемо отримати прибуток, якщо у студента, чи у вашої дитини ціль школі отримати знання, наші цілю отримати прибуток. ЄТ єв, де є на можливість отримати цей прибуток, тому що в ньому різний набір активів, по це різний набір активів, він називається портфелем, є цієв, складають портфелі, і дають вам можливість купити шастинку від цього портфелі. Ось як акцію викупуєте, але тут ви можете купити шастинку цього портфеля. Зрозуміло? Ось є класний ЄТ єв, який ми не подобається. ЄТ єв, давайте я вам вскиму його зараз в чат. Зараз я собі його напишу. Мені фішен саван. Видно? Я зелькі ще вам дючату його надіслала. Це класний ЄТ єв, мен дуже популярний серед інвесторів, хоча він не так давно і вийшо. Який хочуть мати експозицію до провід них технологічних компаній з високом потенціалом зростання до цієї шудової сінірки? Тепер давайте далі. Ви обули провіються, а компанія ці компанії, магні фішен саван, вони будуть зростати, тому що вони розвивають штучний интеллект. Вони також розвивають сихмарні сервіси, який теж дуже потрібні, але питання до вас. Басшого наможливий штучний интеллект. Басшого наможливий штучний интеллект, подумайте, не спіщіть, подумайте. Басшого наможливий штучний интеллект, катерина написала енергія. Клас, мово ці швидко, чесно ми очікували, але написала ядерне енергетика. Да, безядерної енергії не можливий штучний интеллект. Ядерно енергії, майбутнього, вже розвивають, амазони вугол. Можливо, в обащали в новинах. Вони активно вистують. Їх називають мальі ядерні реактори. Саме, щоб забезпечити енергопоститшання для своїх датацентрів, які підтримуть штучний интеллект та інші технології. Амазон зараз інвестою в будівництво, якщо я не помеляюся реакторів о ваших тоній, разом з компанію X-Energy. А Гукол бід сперпрацює за каріо-спавер. І ось цім малі модульні реактори в них компах, ні вони дешевші воробництвії, встановлені, і вони майбутньця стати ключовими рішеннями. В 2005-2006 та інших роках, тому вони цікаві. І ось цей зростальший попит, це один фактор. Зростальший попит на енергію для датацентрів, марних центрів, шії, як виказали, як казали раніше, а також за політичних ініціатив, успушених штатах, зараз прощують дозвільні процедури для цих СМР. Інвестицій в такій компанії, як ОКО. Це перше прийшов голову, але це ОКО усь ця компанія. Вони вже піднялися на 70% за останнінти сп'ятні в тиждень. Тому потрібно розглядати фундаментальні показники компанії, добре, щоб купити її вчерсну дуже важливо. Я зараз вам називаю компанії, але важливо вміти проводити фундаментальний аналіс. І в що вони знаєте, як його проводити, запрошує вас на свій курс, і зі стартвін встицях. Ми там навчаємося, як проводити фундаментальний аналіс. Щому фундаментальний аналіс важливий. Тому що акції компанії можуть бути якось, коли ви щось купуєте, в певний період час, вони можуть бути пара купленими, тобто вони можуть бути парі гріти, ми вих придбаєте, вони впаду в ціній. Вос'як може стати з цю окло. Вона хороша компанія, класна компанія, я буду за мене йди виписся, але на даний момент, зараз я її не готова купувати, тому що я більше періодціймо. Повоктива. Я буду далі проводити фундаментальний аналіс. І раз на місяць дивитися, що з мої там відбувається. Можливо, хтось з вас може ще назвати компанії, які як окло будуть давати енергію. Будуть розроблювати енергію. Я дерно енергію. Можливо, напочить шаток, я вибився стеном ідеї для аналізу. Але будь ласка все аналізуюте. Добре, всі компанії, які вам надходять шат, всі ті, я кажу, обов'язково, чараз фундаментальний аналіс. Іліна Пышших, хтось, що на був на курсі, дуже рекомендується, максимально зрозуміли, завжди допоможуть курату. Дякую нам душе, нам приємно. Около дуже просто пишуться, як чуюти так воно і впишуться. Около, давайте зараз почат вам крино. Аналізуюте, будь ласка добре, тому що все, що називає вона, сьогодні може бути хороші, а на момент покупки краще зробити фундаментальний аналіс. Тобто, прочитати цифри, чи варто купувати, чи сіна за акцію не перекуплене. Це дуже важливо. Добре, поїхали далі. Що потрібно, тут вже цікавіше стоє. Що потрібно для нових ядерних реакторів? Те ж рекомендує курс, дякую нам душе. Це найкращий курс, який я проходили. Велише зновим дякую. Дуже приємно, що тут попусть на кизі бралися. Дава стеж сьогодні дуже корисно. Ось, дуже цікаві відповіді. Уран. Уран. Уран. Звідки, ви це знаєте. Дуже раде, дуже раде читати, дуже класні відповіді. Уран. Дійсно. Уран. У нас зараз відбувається як нове паливо для штучного интеллекту. І у нас зараз відбувається дихцит палива усь цього збагатчиного урану. І багато розробників зокрема компанія називається центрус енергі. Вони працюють на забезпершенням палива нового покоління. Але ось він називається з паливу. Щоб зменшити залежність на від російських постачань. Але яризики це тривали процесу отримання до зволів, хоча законодавчі ініціатива. Вони зараз прешивують цей процес. Це стрампом вони будуть швидшими. Це як я відникучіку. Але для ось такого масового закуску ще потрібен час. Тому є рвариант. Ми вже з вами проговорили, що інструмент ще є акції. Це окремі, а акцію компанії акції Метана. Проглад акції Майнкрасовик, коли інвестують в акцію певної компанії, то залежити тільки від доходів, від хороших новин цієї компанії. Але ви, якщо ви інвестують рітьється, то збірна солянка з компаній, які інвестують в певний сектор, а ви купуєте на приклад шастинку від їх портфеля. В цих компаній, які вони пребали. У нас гроші може не вистачити, щоб пребати з ці компанії. Бирати кожну компанію окрему, якщо ви не знаєте, відправити фундаментальний аналіс, хто дуже рекомендують. Окримі акції вони дають вищу, роботковісті потрібно вміти, працювати з цим інструментом. І свій особистий портфель, свою збірну солянку з різних активів, потрібно теж балансувати, щоб і активи були акції, щоб були і єдсь єв, обов'язково. Але якщо ви не вміти цього робити, але хочете почати, я зараз спекулятивно притроговують через єдсь єв на уран, ура. Так і пошится. Ура. Амазон і вугов'я теж інвестують і на рощу в портфелях. Амазон і вугов'яться дві компанії, я купую на постійні основіше майкросов, але майкросов є іно ді продаю і до купову, хоча зараз біржцікави, бірж стабільний. Але амазон це на певно компанії, яку я купую на постійні основі, тому що вона одна з найбільших, як я казала, вона є гроші для розвитку, великий грошовий потіг вонавходи, до стії, великої синірки, вона розвиваєх марні сервіси, вона будую дат, це треба нам багато шого робити і бізнес такий різно-шерсний. Сама компанія має менше ризоків, тому що її продукці, де отече вона робить, її ніцативи, вони не направлені тільки в один сектор, вони направлені тільки в один уської-вуської напрямок, що робить таку де варсифікацію, робутки в компанії. Давайте я вам їй цієв напишу, здаєш, що ви хочете. Аналізуєте те, що добре, тому що це дуже спокулятивне історія, яйць-єв на уран. Приєдної з дорокомендації, підтримує портфаль завжди в плюс. Я дуже рада. Правильний зібранний портфаль з різних активів розумінні ризоків, дуже важливарічному, що коли ви складаєте свій портфаль, коли з цих різних активів вам потрібно їх складати в грамотні пропорції, знаєш, що які активи вимбистувати, якось суму, тому що активи можна те акційку повати навіть від одного доллару. Але якщо ви не знаєте, як збалансувати все активи грамотно, щоб коли, тому що якщо в очікуть, що акції завжди будь зростати, так не буде на жаль. Не буде такого, що всі акції будь зростати, тому що в економіці, які ваші мужи ці, а це повторює за фіру вир. Ти що акції вони залежать багато акцій, залежать від економічних циклів. Ми вам, я вам розповідала, ми з вами, разом, ділилися компаніями захисного секторопція, це компаніум. Це клічні компаніки, не особливо залежить від економічного циклу. Тобто, коли криза єм добре, коли ми криза їм, то добре тому що ми їх твари купуємо завжди, ми не можемо без ліків. Ми в кризу не пористаємо хворіти. Кризене, кризене, кризене, ліків потрібні. Кризене, кризене, кризене, їжа потрібна. Дам ми, димобрусторани. І ресторани просідають в кризу, але ми будемо готовати думати, тому що їсти нам потрібно. Але є і компанії циклічного сектору. Компанії, які дуже залежать від певних обставан на ринку, якщо кризи їм можливо буде погано, але бивлячись яка криза. Завжди є компанії, які виграють від того чи іншого. Це, як і вашим життєм. Якщо взяти трішки духовною філософію, то в нашому житті немає такого, що все іде рівно. Ми постійно зрустаємо. Ні безпадійне буває росту. У вас будуть проєкти, у вас будуть якісь ініціативи, у вас будуть власне життя, у собисти життя, для будуть просатки. Але ці просатки укріплюють вас, дають вам навідею новій можливості і ви зрустаєте. Як вдох вигдах, вдих вигдах. Ви не можете зробити вигдах, якщо ви не вдохнете. І навпаки. Нам це потрібно для того, щоб зрустати. Экономіка не погано, ми хороше, вона ін'янь. Як компанія, які виграють він, як компанія, які виграють в'янь. Якщо ви навчитеся, у цей ін'янь балансувати, то діу вас собу до добре, і портфель буде в плюс. Добре. При будь-яких обставанах, тому дуже важливо вшипись. Скільки треба мати акцій єдьєвться, дуже залежать від вашого бюджету, вашої фінансової цілі, як в розраховують фінансовують цілі. На курсі ми вивчаємо, як розраховувати, прям купіка, в копіку, скільки вам потрібно інвестувати, що місяця для того, щоб прити саме до вашої фінансової цілі, саме до той суми, як буть давати вам посимий дохід. І на ось цій сумі, ми точно також дивимо, що на ваші ризики, як ви примаєте ризик, як ви готові, відчувати себе психологічну, тому що ви відчуваєте себе погано, коли ринок дя в низ і набрали купу, купу, от такого урану, як ви є спокулятивною, і стою, яка може просісти ось так, тому і вам буде погано, то ви далеко в інвестиціях не підати до своїй цілі. Треба все балансувати до вашого ризик профілю. Не маєвся таких... Брошу, є такі портфеліна, приклад якщо з кластисть трьох й цьєв. Є цьєв наш роки ринок, є цьєв, наприклад, на технологічний стактор, є в назолу. Тут це такий хі, портфель для всіх, але ми скільки він саме вам підходить тут питання. Це дуже консервативний, я б так сказала, інструмент, тому є цьєв наш роки ринок. Тому тут дивлячись, як наскільки вам цікавго, як у дохідність виходш, то тримом ми так вогутові розокувати. Це відносно. Так, давайте ще далі. Що нам ще з розвитком штучною інтелекту потрібно? Будемо рухатися. Так, погоджуєсь курс бомба, подоровала собі на ДН, тари Віп дуже задоволна. Дякую вам, дуже є. Дуже прям. Запаз буде, да. Проходила Віп в огонь. Дякую вам, дуже. Дуже стараємося, що в курс дійсно вам дав знання, і в вас до гострукової проспективі до ваших цілей. Для мене це дуже важливо. Для всіх наших кураторів, аналітики, практики, в те же важливо, які вас супроводжують противом цього інтенсиву. Добре, чипи, добре. Зводно, з вами, чипа будь зростати. Щипи буде цікавими компанію для мене. Знаво, що це братком. Це один із найбільших воробників, на півпровідників, та програмного забезпечення, як такого освіті. І ця компанія, братком, вона займає ключово позиція в індустри, за теки своєм інноваціям у розробці чипів саме для штучного інтелекту. І морожевого обладнання. Теш. Тайвань, самі кондактор. Я думаю, давай тебе вам напишу. Ці компанії знаєш, що ви будете питати. Бе за налізу добре, ніяк. А налізуємо, щоб війти вправильний шас. І я зараз вам називаються компанії, я їх сьогодні не еннелізував. Тому проанелізуєте парт покупкою. Це найбільший, у другий та івань, самі кондактора. Він найбільш у світі, кондакний воробник на півпровідників. Його одесь часка ринку сьогодні, а більше 50-ти, це читалетній отри назад, п'євіся чість вже навіть відсотків. Мін такий. Фундаментальний гравець у світі, аж тучного интеллекту, і такого бальну технологічну індустри. І навіть на дивляжись на геополітичній ризик, з яким ми стекається. У нього дуже сильне фінанский, хороще проспектива до зростання, що зумовлено звичайно, аж тучним интеллектом. Давайте ще подумаем. Що нам з розвитком шиї потрібно? П'ї у братком АВЛИК. Аналізуєте, що зразуміти, чи вартово на інвестицій. П'ї ця один з показників фундаментального аналізу, який вам потрібно буде вивчити. Ти вже знаєте, що ігла. Дата центри ми обговорили. Анергіум обговорили. Я називала компанії. Системоохолодження. Чесно, не розглядали навіть все компанії зистемоохолодження. Але подумайте, що хто був на моєму минулому офірі? Помітаєш, у нас тут зломали. Тому з розвитком штучного интеллекту дуже потрібні компанії Кібар Баспеки. Кібар Баспеки, можна мені назвати. Можливо, тобто три. Ті інвесторы, я знаю, що тут є інвестор, і кідовно інвести у цьому офірі. Тобто, трьома компаніума Баспеки, Кібар Баспеки. Дуже актуальний тренд. Дуже актуальний тренд. Прям не як бас. А хто є лише лідером Кібар Баспеки? Да, ось, Хельгадан посала, по Оло. Альто, правильно. І Анастасія підмию написала Кроуд Страек. Так, і пока пещить, я відповію на питання, що, паракументум, як інвестувати, після 55 років. Це записно, не записно, але інвестуйте вже ми в цій компанії, про ким ми зараз говоримо. І не в тренду, і так компанії, які мають ризик. Інвестуйте в облігаті, облігаті, зараз тікає, особливость з подшадку 25 роками. Бо що призминження ставок, облігаті, ставка з облігаті, ми зростає. Там облігаті є теж тіка. Вобто точно знати, як усу ми вовотримаєте через рік. На відмінну від акції, коли ми купуємо актю, ми стоємо співласниками компанії. Тобто, якщо компанія заробляє, ми заробляємо. Ми співласники теж не заробляємо. Облігаті, це вистаєте кредитором. Вистаєте кредитором для країни. Чи для будь-якої компанії, корпоративної, яка випускає облігаті? Це документ, який кажу, що ви є кредитором, як банково виступаєте банком і ви даєте кредит цієї компанії. Щому компанію, ви їдно, у вас просити гроші тому, що в банку це дороще буде. В банку взяти кредит буде дороще. Ви гідно випусити облігаті і дати вам менше відсоток, але це буде для вас, з вашої стороны, облігаті, будь-якавішими за депозиток. І ви виграще і компанію вииграще. Ле звичайно облігаті я ніколи не буду давати таку до хідність акакції. Але облігаті є хорошим захистним інструментом і для тих людей, які за 50 років вже наближаються до пенсії до своїх финансових цівлей, які повинні реалізувати це хороший інструмент. Ось кілька ми сьогодні з вами прошли. Полонтер цікаво компанія згодна. Добре, я люблю кроу-страйк. Це компанія, який вистують, ліда русфері Кібр Безпеки. Він пропонує хмарні рішення для захистуданих і систем від Кібр загроз. Її головна сива у всії компаніції, і платформа вона не звичайна фалком. Вона бухаристовують штучний інтелек, і дозволяє клієнтом, на лошто у витебезпеку під свої власні потреби. І завдякивось таким у іноватцям про устрайк вона щодо сівтрима високій позиції на дуже конкурентному ринку. Але і інші компанії, давайте вам зараз. Теш, все покописало, покаванти повідала. Проналізуюте добре, щоб у вас були вирянти для аналізу і роздвіться, що на сьогоднішній день. Може бути зав, домонтальному аналізам будлазочка. Так, і вирш. Безпека. Я бачите? Пишу. Детіка витисто облігатися ми. По-мощо, я думаю, що на офіційних українських ресурсах ви можете про штату протек інвуству в ВДП. Якщо ви хочете більше глибокопіти, в корпоративні облігатися компанії спучних штатів, чи униципальні облігатися спучних штатів, чи інших країн, тому що вийші рес інозен брокарів це там, де ми купую мать сіні папери. Вимож, тараз лянуте для себе у такі варіанти в Україні і через українські додатки як монобанк та інші ми не можемо купувати оціні папери інших країн на жаль. В Україні наматки додатки нам потрібно розтрувати за рубіжних брокарів. Це компанії. Щось путипу, як застусунок монобанку, чи права банку, які надають нам доступ до бірш, в ціні папери. Через такий додат, ми можемо піти на біржу Мексики. Вся водонодатку чи на біржу там сполученних штатів, біржу Європи, в супермаркет більш інших 100-2% країн, які вам цікаві і продвати ціні папери. Україна, вона дуже хотіла створити свій брокер. Монобанк повинно був стати брокар, і брокер це не людина. Це професія, яка виросла з цього застусунку брокерське рахунок, називається. Там, де ми торгуємо цінними паперами. І професія брокер вона виросла з цього брокерського застусунку. Це не людина. Брокар це застусунок мобільний, чи сайт, чи тей інше і вирши разнього купується ціні папери. В Україні монобанк повинно був стати, але нашаль почалася війна, отримав монопевні підтвердження, які були важливі для того, щоб почати цю діальність, на жарів нашій країні. Я певні проблеми з нашим українським супермаркатом, нашу біржу, де є українські ціні папери, але ще цікаво, що є українські компанії, які пропонують на Лондонській біржі, тобто в Лондонському супермаркаті, вони як експортували свої послужи, свої продукти, свої акції на Лондонську біржу, і там вони продаються. Там є наші українські компаніки, себе дуже добре показали особливо охранні компанії, заманули рік там більше 20-ти навіть 30-ти відсотків, далі приводку інвесторам міжнародним інвесторам. Тому приходя на курс, навчу, чому що про ВДБ проситати, я думаю, що ви знайдете цю інформацію в загальному доступ, якщо корпоративні облігать, всі запрошую на курс. Ми там вивчаємо більше с інструментів, в самі потрібні інструменти, тобто ми вившаємо інструменти, як фьючарси, це дуже високо розакові інструменти, це контракт на певну ціну, чопціони, і це дуже такі тяжкі інструменти, вони не для починаючих інвесторів, це для інвесторів, там стос відом, я б знайдя сказала, два плюсом, що навіть до свідшення інвестори, на тяжких інструментах, це спокулятивні інструменти. Вони з 10-ти покупок, одна дась к хороша результату. Це потрібно мати гроші, і таке хороше, глибинне від шуття ризуком. Тому ми розглядаємо етєф, факцій облігатії, в чомуся аналізувати, проводити фундаментально, аналіс, проводити аналіс, етєф, шукати, етєф, актуальні, етєф, підбирати, облігатії, і так. Так, по кібербо спеці ми поговорили, давайте далі по банкам. Проговорилася, хотіла вас питати, що ще стрампом буде цікаво, тому давайте я вам розповім про банки, і чому вони цікаві можуть бути. Далі виманні допомогли, що може стати ще цікавим при трампі. Добри, давайте й чому банки. Як думаєте, чому банки? Протрампі буде взросати. Чому банківська індустрия буде цікаво. Окрім того, що вони теж зараз пов'язані. І пов'язані за штучному етелектом зараз на певно-малок, у мбані, які пов'язані за енергет, такої фімнансами, і технології, і технології, які не використовують штучний енергет, намагається, проваджувати, але все. Як думаєте, крім цього чому банки? К родити та зниження інфляцій, добре, плюс. Чому навчає так, воводити кошти, оплата податку. Так, від Аду я ви проходите за абсолютно огонуля, якщо відчуваєте, що ви нічого не знаєте, нахвалютися у нас більші симвесторію, які приходять на наш курс. Вони вже інвестори, коли ви проходили, вони навіть не знали саму базу, і мою стюба за навчаємо. Тому в цьому нічого не має такого, щоб ви знаєте, ви проходите, навпакив вас, навіть лише навчати, у вас більше шансів, на те, що ви прям іборета дуже классний зібраний протель. Те, що я помічаю, що студенти, які приходять самого пошадку, вони десь навчивись. Вони цю інформацію мають, що це першу чергового від нас, вони роблять в появній дії, які є правильними, і легше навшитися, чим парано вшити, людина, тому не хвалюйтесь. І відаду я проведемо. Зниження ставки, добре. Ще трам хоче зробити такі дружні умови дирегуляціла. Банки, звичайно, виграють від цього, і ми вже бачимо, що банки себе показують дуже добре. Більше кробить, я буду давати все правильного. Мене в Портфелі, G.A.P. Morgan, напевно це компанія найбільша, така доля, моєму довгострокому в Портфелі, саме сектору фінансів. Аналітик, Волстріт, дають високі оцінки, компанія, що можуть виграти компанія PNC, файмершел, і НТ, банк, хорпорейшен. Подивіться їх в Даметальні показники, давайте зараз вимскілимо. Нен вистою, бас перевірки фінансів добре. Усь ці компанії вони цікаві мені були 3-4 дітомоколи, а робила їх фундаментальний аналіст, тому що вони не тільки виграють від Трампа, а вони ще мають цікаві за фундаментальними показниками показниками. Написало. Давних хороші показники. І банківська сфера, звичайно цікава, тому що дешавші кредити, банків кредити, берутся, банків і грабюють, заробляють більше. Тут дуже даю. Це просто. Ми вже з вами це знаємо. Сіді груп чесно не аналізували хелька. Потрібно аналізувати. Дуже багато є компанії. Дуже багато компаній. Я навіть певні скринери. Ми навчаємо те же на курсі. Це коли ви за скринером дивитесься які компанії. Наприклад, ви знаєте компанії Microsoft. Ви в скринер буваєте Microsoft. Але ви можете завдякилася цьому інструменту, зрозуміти, які компань вкращей за Microsoft. Навіть з них не знаєте. Завмиментальним показникам. Але вам потрібно знати ще таке фундаментальні показники, які вони мають здорові значення, куди на щось звертати увагу, тому що фундаментально компанію ви можете оцінювати в порівняній з іншими компаніями із ринком. Вам потрібно знати як відшуваєся бари. Це звичить дуже складно, але багато інструментів. І зараз спрощить процес. тому теж розборотесен не хвилюйтеся. І коли ви дивитеся на певну компанію, вупорівнюєте її фінансові показники з іншими компанію, і таким кшином скринер допомагають вам розібратися, які компанії зараз краще купуватима. Можливо, ваша компанія, у кого знаєте, в нас зараз не вкращому положення, а є компанії цікавіще, і ви їх можете розглянути пиглибше на них, буде вивитися, і вони будь-більш проспективними. Well-Sfargo. Нікрас вчитала сьогодні, що Well-Sfargo, вони тут вже позитивно відноситься до ринку в 2025 році. Вони якраз сказали, це 13 відсотки зростання буде теж. Добре. Добре з банками розібралися. Також, коли скорочуються державне реголювання, що буде дезидше сів Трампа, у цих департамент, який він зараз створив до джи, де як коін, його на маска, він може стимулювати бізнес до збільшення капітоловкладень, як такого. Американські компанії, вони можуть зростати. Вони повинні зростати, тому що для них створюється певні умови. Що і звичайно є зниженням податків, я певністимливі Трампа. Якщо Трам буде укріпляти доллар, то європ буде понижатися. Якщо честно, я від європейського фондового ринку, в цьому році не очікую прям глобальних результатів, мені здається навіть ринки, що зростати, буде соба трішка краще поршувати, ніж європейські ринок. Він не те, що не покажа зростання, я думаю, що зростання європейські ринок все ж таки покаже, але не таку звичайно високу, як це буде зі споушеними штатами, тому що зі споушені штати, як такого є драйверами в сесвітній економіка. Що ваша думка про краптовалюти? Давайте зараз діду, тому що краптовалюти теж є добре. Давайте на краптовалютах запинамось. Трішка. Що думаєте про краптовалюти? Що ви думаєте? На якому курсі, в чомусь аналізу? На курсі, і зі стартен виститсіях. Ми як раз сьогодні відкриваємо ранні продажі, якщо буде бажання, тут здається підпас є підафіру, можна відразу пройти на сайт і притбати заранню ціною. Це наш десятий, євелейний потік. Уже всі помилки пройдені, дуже багато класних сюрпризів. Вас очікує, тому що це євеле, хоч цього відмітати. Будуть приємні новини. Ми про них покрасповідати не будемо, тому що це сюрпризи. Але ми зберігли ціни. Ті ж самі, що були на манулому потоці, вирішли їх не підвищувати. А олдаль вже будемо трішечка підвищувати за ринком, тому що у нас зараз найодні знаймищих цін на курс. Безнайм краще не влазити. Згодно. Без фундаментального аналізу і без зміння балансувати портфель, тому що ризуки в цьому році буду дивити. Ми дійдемо до цього моментія, в тому що це дуже важливо розуміюване цількіусти проспективу, тому що проспектив дійсно багато. Вони є. Але ризуки теж є. Ризуки боятося не треба. Як я казала, що є компанії, які виграють в будь-які часи. В ковід пом'ятаємо, я завжди цей приклад привожу, тому що він напевно один із самих таких яскравих за останні часи. В ковід не дивляючися на те, що наші, хто все було погано. Всі сиділи сили по домам, але ксількіми сили по домам нам знадобилось еще. Які компанії нам знадобились. Прокликту бачивальше коментарі. Зараз прийдемо. Ось зум доставка, є в союдно-компанії. Не отфлекс, не отфлекс, прям чудовий приклад. Ми всі сі сили по домам. І нам треба як інвестором думати, які компанії можуть виграють, тому що не буває, що все погано. Це прям депресія повиме бути. Экономічна депресія нам ще дуже далеко. Манія, як з виночки, депресії. Повинні бути, певнім макроэкономічні. Экономічні депресії, які нам кажуть, що ось ми йдемо в депресію. Зараз такого не має. Тому ось класні компанії привиле, тому подласкане, бо їм ось ризок, просто мій мнозризокам апрацювати. І складаємо грамотний портфель. Якщо грамотний портфель складити, ви можете очікувати, що ваш портфель дась плюс. Якщо ринок навіть знизиться, ви поракинете, узабираєте суму зі своїх продосте активи, які вам дали плюс, не захисняктиви. І перед зіночках поракладе також, без захисня активи, у вас портфель таші покаж плюс. Хоча це така стратегія для тих, хто любить поракладати активи, є я стратегія, які дозволяє тринати портфель в плюсі, не активні. Коли ви купили правильну активу, їх закуповують ще місце, лиці стратегії повинні визнати. Тому не хвилютися за розізок, просто вчится навчайтесь. Окей, давайте до нашої криптовалюти. А як я бачив, що ви пишете про криптовалюти, що будуть із ростати, це електрона валюта, все пораходять. Але не бачу нікого, хто сказав, що компанії, який пов'язані з криптовалютами, оболуть цікавими. Ми, коли разглядаємо щось, нам потрібно дивитися з іншого боку. Наприклад, якщо я вам кажу, електромобілі цікава компанія, про що ви повинні думати? Я електромобілі. Ось такий прям прямий тренд. Про що ви повинні думати? Що навколо всі електромобілів? Що їм потрібно? Всі інвесторы підуть, вкладати електромобілі. Розуміти, будуть дуже багато людей, які електромобілі пішли, купили електромобілі. І там акція, в один момент, стане перекупленим. Це як тив стане перекупленим, і ви, можливо, не стигнате його за хорошу ціну, купити, а це дуже важливо, тому що якщо ви не купили, а ктих за хорошу ціну, купили за перекуплену, ви глядає все гарму, але ви купили, ви не впало. Вам це не потрібно. Ось, інвестувати він франструктуру. Виповуні думати про інфраструктуру. Зарядні станції, у зарядка, да, батареє, заправки, електрика і мергія. Да, є дуже багато ось класної переробка батареї, дуже цікаву. І ці сектори теж виграюють, тому що інфраструктура потрібна, але так, як не багато інвест brewing, не так багато інвест… Вертаєк на ньох увагу. То ви будете у Піусі, як не багато інвест región, не так багато інвестою… Звертаєк на ньох увагу. То ви будете врусці, да, вже на крок попереда. Якщо вам здається, що всіці розумієть не всіці, а розумієть. Сюний? Тому коли кажуть про криптовалюти, коли ви кажете, що криптовалюти будуть зростати, теж думайте про інфраструктуру, які компанії можуть зростати. Тому що фондовий рынок, цього рынку, вироскріпторимок. Чого знаєте, фондовий рынок, вам буде набагато, набагато легше, розібратися навіть інтуєтивно з фондовим секріпторимком, тому що крипторина працює навіть, коли ви виставляєте заявку на покупку активу, на крипторинку, ви клядає динтично, як на фондовому рынку. Ринка розвивається отим зодного. І з фондового рынку тому що фондовий рынок він найстаріший, як такого, не обільшить 400 років, якщо брати мораканскі більше 200 років, з нього виросли інші рынки. Це такий аволюція. Якщо ви розбираєтеся в одному, на крипторинок впливає сетечок, впливає на фондовий фондовий рынок, впливає позитивно динамика на фондовому рынку, впливає на криптовалюти рынок. Але що цікаво не навпаки. Тому що криптовалюти на рынок виріс за фондового рынку. Є цієвна крипту. Можна купити є цієвна криптури. Можете через фондовий рынок навіть купувати є цієв. Пам'ятаємо це наші збірна солянка з активів, не обов'язкова навіть солянка. Але це один актив, який, наприклад, криптовалютор, аніше можна було купити, тільки через криптовалюти. Але тепер криптовалюти стала регулиованою в якомусь сенсі, коли взявився на фондовій більше, тому що фондово біржі вони регулиовані, на них є певні закони і порядки. Криптовалюти не регуливали, тому він більше була тирний, він більше розиковий, тому коли дяказня гативна новина виходить криптовалюму тому рынку, виразу бачимо таку просадку. На фондовому рынку зетогощі я регуляться, ми відшуваємо себе, як і нове стрі безпечніше. Ми не продаємо, і купуємо ось так. У нас більш емоційний станспок яніший, тому що у стіна падає, що зрустає, це на наших з вами думках, я хочу продати ціни попер. Коли компанія перше раз випускає свої акції, це і процес називається IPO. Компанія виходить на рынок, перше раз і вона продає на цьому IPO, певну кількість акції, певні кількості інвесторію. Але далі вже вступає у гру, це коли ми з вами починаємо торгувати ці максимум. У мене, як опивала на процесі IPO ці акції, це такий цікавий процес, тому що на всій нове стрі можуть притвати певну компанію, там потрібні певні умови пройти, дати, щоб вам на IPO дали притвати активи цієї компанії. Це дуже резуковий процес, тому що компанія може бути відома, але після процесу IPO, актива можуть, як зростивці, тому що далі це буде визначатися її ціна, думкою людей, нас з вами. Якщо я хочу вам продати нерухомість за 100 тисяч, і ви будете їх хотіти купувати, наприклад, я бачу, що ви лик аж з'явачу. Знаєте, я можу повисити ціна, підвищити ціна. Я продам за структи 30 тисяч доларів. Якщо буду бачити, що покупає все ще можливе, ще підвищу ціна. Тобто закон, попити та пропозиції. М серці можливо рахувати крипто компанії. Можливо, але дуже, дуже резуково. Мені не подобається як її бізнес побудований. Тому я венеїн висту, але аналітики бачив ніпраспективу. Дуже резуково компанії. Але робінохути цікаво. Але вона перекуплена після листопада, коли були вибори. Так як ми вже знаємо, що трампи, три макрептовалюто, додуться багато компаній, і пов'язанні з крипто індустри, зросли тому оборежно. Є їїнше компанії. Давайте ще подумаемо, які компанії ще цікаві при управлінні трампа? Які ще цікаві? От те, що ви чуви, чи чітали? Є ще цікаві компанії? Є ще цікаві направлені? Є ще цікаві сектори? Маск на саме цікавий сектор. Є його акційна, акційна може отримати бойористе, може до кінця року, але акційна, дуже спокоративні. Нафтові оборони, нафта. Окей, але... Дрються, за наркетку тут дуже цікава ситуація. Тран, він дуже любив ви добу топнафти. Я думаю, ви всі про це знаєте. Дріл-дріл, його так і слоган є. Купайте, купайте, ви добувайте, ви добувайте. Але зараз дуже ви цікаві на газ і трампа буде приємно. Побачте, на скіційне на газ. Що звичайно добре, повпливає нас поживачів. Тому є питання, чи будуть вигравати нафтові компанії. Я зараз не купую, але я компанія. Ну, і така тежка назва, тому давайте її напишу. Секунду. Є гось така компанія. Проводить її фундаментальний аналіс. Шламбагар. Це сервісно компанія. Є інший сервіснім компанії. Можуть вигравати від контрактів набуріння і надавання інших послуг нафтован компанія. Навіть у ситуацій з низькими цінами на газ. Це тому, що навіть так що ціни на газ на сьогодні нафтові компанії можуться в одно продовжувати буріння своїх сверловин, свертовин для нафти. Або продовжувати експанція можна так назвати на нові родови ще нафти і створювати попит на, ще створює попит на послуге буріння і всі ступутні пов'язані, це сервіси. Тому зонарагає такий такий скавок ситуація, але висьє такий компанії знову, що кидає помітаємо. Є ось нафта, а я теж, що навколони є компанія, які бурять і які надавють певні сервіси для компанії нафтованів, газових компаній. Ти можуть бути цікавими, тому що потреба в нових родовищах вони нігуда не пропадають. Можна втрохати до сі, я був цю чорним золотом. Цікава була. Думайте, завжди з цієї сторони добре, не думайте цількі премоліні. Це класно, що вийорозуміти, як рухається ринок, але вам потрібно ще думати твішки навколо. Але у вас добре виходиться. Курс покрив тавалю там не має на сьогоднішній день. Я маю по фондовому ринку, на фондовому ринку, витеш можна придбати краптовалюди. Хочти бідкою, можна придбати бідкою, чого розвіцією. Він бірше регуливаний. Можна придбати компанії. Вони знаєта плюс фонд podробної ринку, в тому що ви можна придбати компанії, які пов'язані з краптовалютом. Який навіть стоять за краптовалютом, за розробкою, тому що знову ж таки є краптовалюта я завжди за ними компанії. І ви можете придбати акційцях компанії. Так як є регуляція на компанії, ви можете бути в більші безпеціця. Це не знає, що ви будете заробляти менше. Зовичайно, до вулатріністи, коли усь так все стребає. Вас буде менший дохід, але це буде дохід, який ви будете розуміти з відкевінде і як вінде. І він буде більш прогнозований, тобто ви можете провести фундаментальної навість компанії і знати, що варто інвистувати скраптовалютами і все розважився ризакованіше. На фондовому ринку, якщо ви думаєте, що ви не можете заробляти на фондовому ринку якісь велики суми, хочає не люблю проциказати, тому що я більше виступаю за те, що потрібно все робити в балансі. Якщо ви граєте вдовго, ви отримаєте вдовгострокові перспективи, навіть більша проводку, нічого звичаю, отримують трейдер і грав всі краптовалютного ринку, їх називається на гравцями. І нове стреми називають, що ви че ви ти інвистувати в краптовалюту не має такого, як інвистування в краптовалюту. Як на краптовалюту, можливо, я колись буде доказати інвистувати краптовалюту, але за цим стойм, знаєте, це те же сама, коли я кажу, я прадбала землю на мальді, але і чо я прадбала землю на болі, але цієї землі може бути тільки взяти в лізом. Так, ви скажете, ви з ця земляю на 99 років, але це лізом, це не покупка, ось те же сама і тут. Така успаралей. Їй тієв на краптовалюту. Їх не так багато, якщо чесно. Я здається в каналі, але вимна писала про це, а віднадавала відео. Я здається в опості до цього нашого эфіру, до цієї нашої елекції, прямого эфіру. І я в опості надала, теж поселань наслідь безкоштовний еталограм канал новин. Там класно можна відслідковувати. Я пошло для новочків. І там, якраз, є така працюна наслідковий зв'язок, чому я думаю, чому і в компаніщ буде, так, чому буде інакше. І ми надаємо там теж хороще ідея. Але зново, що все, це за своїм аналізом. Олена Дарина, дякую, а прошла ваш курс, пакет віпці, ідеально інвистує. Прокрепту спитала, бо такі розмовують шолу. Дякую, зараз ворудують. Дякую вам дож. Ось, я на написала iB. Це один з цієї ефів. Як зрозуміти, коли актива продавати, дивитися краще на інші компанії. За фантоментальними показоками. Виповність урінтується на фантоментальні показники. За фундаментом, побачити, для ка ситуація зараз в цілому в секторі. В секторі, наприклад, усі вирозлядає під чіпи. Ви можете подивитися, що в цьому секторі відбувається. Чи парякуплені зараз компанії обиває таке, щоб всі компанії в цьому секторі парякуплені. Знашить, це нормаль Haven. Це дозволює так на чип textbooksу, але значити, це для цього tempo іншому секторі і секторі показують куплену динаміку. Для цього сектору ці показники є норме. І тоді ви приймаєте рішення про покупку. Якщо ви бачите, що іншому секторі в цьому секторі показують по фундаментальним показникам, це певні цифри, які вона вчитайся розглядати і розуміти їх, вобалачати, що інші компанії з нищими, кращими показниками, вони не такі перекуплені, ви думаєте, ага, значить, моя компанія, вона зараз більше розвукова, тому що її акції вже перекуплені, коли акції перекуплені, це вони, значит, ось дистут, коли іншію внизу. І на стане момент, коли інвестор захочет забрати свої гроші, тому що ціна за акцію вже не належить, вона вже не корелюється з їхніми показниками бізнесу, тобто ціна за акції вже набагато вища за справжній значення, що має бізнес, тому що ми отінімо бізнес, на саму акціму, отінімо бізнес. Наскільки бізнес добре себе показує, нам не цікавих бізнес заваросеба кушуває. Те, що заварос у бізнесу є, це вже закладено в ційноактиву. Нам цікаво, що вона дась майбутньому. Якщо ми бачимо, що ось зараз ціну вже всі очікування закладливої, ось ціна перекуплена, ми знаємо, що ось буде у компанії Касяну Вина, якщо вона буде негативно особливо. Тові, дразу, інвестор почно розпродавати активт, тому що вона вже не корелюється абсолютно з ціною компаній, спражнє ціну компанії. Це все можна вона знаю, що вона збочить зараз дуже тяжко, але по фінда металів показникам, я навчу вас це робити, вблоти знаєте, коли продавати, коли копувати активі. Якщо буваєш, що ціна заксю перерокуплена, можливо саме час, на фоні інших вій індустриї, саме час можливо продавати. Я самого першого потоку дуже радий, що пройшла. Зараз хочеться новий тезнання, чи буде мені цікаво. У нас вчаті випускників, валеріюю, я всім надаю доступ до нього. Там ону роки вийшли, подивіться бедласка. Вас вам не потрібно купувати ще один курс. Вам потрібно просто поритив безкоштовний чат випускників. Там виходять нові уроки. Коли ми перезнімаємо уроки, якщо вони не змінються сильно, просто виходять нові актуальній приклади з фону вогоринку. Це плюс нашого курса, тому що я вважаю, що потрібні постійні приклади, актуальні приклади, які були ріктому. Якщо ви бачите, що вийшли нові уроки просто з актуальному приклади, вийшли нові уроки, ми вийшли нові уроки. Ми вам надаємо у грудніми нього місцями, надавали, про чого ми нього року надавали. Я всі матеріали наступних потоків. Я був особливо спершого потоку, то у вас там потік шости здається, я повністю нові уроки. Всі уроки шостове потоку. Тому що коли ми їх ономривали, всі надали вам. Це дуже великі приєдустах ніхто на римку на робиться, але хочеться підтримувати всіх наших інвесторів, які нам довірилися які дознали. Якщо треба робити фундаментальний аналіз, де покупки коли інвестують, а перед покупки. Якщо ви інвестують, раз у місяць, тоді раз на місяць, бажено цількі потим активами, які викупують. Але це не так складно робити, це воно зараз звучить складно. Через місяці тридш, от пири звичайно вам потрібно бути попракатикуватися, щоб відразу розуміли першив фундаментальний аналіз, якими будемо робити на курсі у вас займе. Ну години 4. Це те, що ми з інвесторами проходимо, ми знаємо, що так вибувається. Ось просто потрібно буде раз сісти. Посидіти, написати свою питання, але вже за нашим тестом. Ми проводимо тест. Наприклад, останній з наших тестів, ким ми надавали студентам. Ми давали фундаментальні показники трьох навіть шутерів компанії Fox, Disney, Netflix, Warner Bros. І з цих 4 компанії потрібно було вибрати одну, як авартий інвестицій. На фоні інших конкуренцій. Ми бачимо дуже хорошу позативну динаміку. Тобто курс допомагає, бін навчає, це классно. І вже вийше час прохольження цього тесту, ніж перший раз. Там вже за годинку, і вторий можливо, хтось тут з нашого курсу є, хто за станіх потоків. Може сказати, скільки час у нього заняло, чи зараз займає проводити фундаментальний аналіз. Можете, яку перекуплено якого-то кроме акції, може, тому, от є тє в теж треба проводити аналіз. Курс у нас повністю актуальна. Так, давай-то ще. Європейський резидентом у вистувателіше європейське компанії. Ні, європейське резидентом може кількі в європейські і тє єв, але ви можете вистувати і в компанії з Получних Штатів. Ви можете вистувати в компані будь-яку гогринку, по-кроме акції, але є тє за законами Європи. Назвимо так в Лукою Британі. Єпе, мені, закону ЄС і в Лукою Британі. Єкі вам не дозволяють купувати американські тє в тільки цей продукт. Але ви можете купувати аналоги тому, що у американських тє в Токтоєвсь продукт Айфон, уяві, що є продукт Айфон, Європа. Вимучі такі компанії створять у Кремі продукти на Європу за законодавством Європи. В вас нічого страшного не відбувається, просто купувати європейські єв, є американські компанії. Христина писала, що вже фундаментально аналі займає 15-20 хвилиншас. Це 3-8 мина, де займає вже 5 хвилиншок. У вас буде займати 15-20 хвилинш. Це вже не так страшно. Раз на півроку дивиться за всіма компанії моєму вашому порфалі, тому не набирайте будь ласка дуже багато компаній. Добре, якщо ви інвестуєте, складіть з балансовани порфальцю дуже важливо. Вydіліть час далі буде спокійніше, якщо ви розборитись, якщо ви будете знати, як робити фундаментально аналіся, як складати порфаль, у вас буде все прекрасно. Так, давайте ще ще буде ще цікаво з Трампом. Вачо, що ми вже уходимку з вами тут, вже напевно втомилося. Втомилося? Напущить білазка, втомилося чині. І напущить також, які компанія ще буде Трампом тікаві. Який цієфа накриптула? Тут давали вийші, і цієфа накриптула. Це фір він буде зборежений. Я в цей раз розібралася, як тут підключити шат, щоб чат те, що записувався, тому ви зможете проглянути потім чат ще розтобає. Космічна сфера. Космічна сфера ви праві. Воно буде цікаво. Це є така компанія. Рокет лап. Вона так пишет, що це зараз вам покажу. Вона в довогостроковій перспективії може виграти, але це дуже довогострокова перспектива. Вони розуміти, що космос все ще не розививаний, є все ще не драївором, але за політика Трампла потрібно бути уважно, до того, куди він направляє свою увагу. Тому що туди, куди він направляє свою увагу, зачастую буде найцікавіше інвестувати. Так. Давайте ще. Автомобільний сектор. Да, він може зростати, тому що Трамп, ви ми в довгородьбу скатаєм і буде ть повній обмеження і повній податкові на вантаження на країни. Усь тут дуже цікавий момент, що буде ть повній податковий на вантаження, він шовіцяє, що муйта. Зростуть найцікраїни, щоб підтримати компанії сплошних штатів. Але тут такий цікавий момент, що я думаю, що він буде використовувати це піднятям мит для проговорів, то я все ви не хоче, і заробити так, як хоче я, а вам піднімий муйта. І ось цей момент, це буде один з розиків, тому що Трамп, давайте скажемо, вобив би сказати слово egoist зі сторони бізнесу, він бізнесмен і він egoistично дивить це на розву, тоді з своїх компанії у Маркет. Завжди було в його політиці, але він також дуже цікавий гравець, і мюго все ідеше раз до мовленності. І ось цікаво дивитися, і якщо ви бачете, що Трамп накладає, якісь митні обмеження на певні країни, буде дуже обережні з компаній, які функціонуть цих країнах і навіть амироканскі компанії, які функціонують в інших країнах. Така компанія як Apple, вона 50 відсотків своїй виричково на отримає з іншого ринку, на цілька ринку сша, з іншого ринку. І ось цих компаній треба буде обережно за ними приглядати, куди направляє Трамп свої увагу, які мита він створі. Саме ось цей момент є ризоком, тому що дає певну не визначення, інвестора не любить не визнешенність. Коли її не визнешенність, як ти вопроставить, тому що ми не знаю, що буде далі. А у Трампа така клітика, прямо лініна. Але знову, що я не думаю, що він прям піде, і відразу всім піднімає мита, це буде як вважить його в політиці. Якщо ти ж не хочешь, я зроблю так. І тут же як інші компанії, як інші країни, буде трягувати. Ось, будемо надіятися, що Європа дасть певний плюс в своїх активах. Наприклад, Трамп виступає зазмиження податки для своїх компаній, інших країнах, де вони оперують. І це те, що може зменшити на вантаження в податковій системі країн Європи, що дасть певний плюс для Європейських активів. Так, давайте проризуємо по говорому. Давайте, що по говорому про, напевно, залишилось, я тільки одна міграція, гравцій на рынку приватних в'язнить. Можуть бути цікаві, а компанія, які управляють отримання міг-гранців. Вони були в центре історії департатії, тому акції зараз розросли, але вони можуть бути цікавими, надовостракові проспективі. Після аналізу розгляміто ось такі компанії. А з'явим на пошуїх. Я. Да, давайте проризуємо. Які в одному ці ризики будуть? Да, приватні в'язнить і теж є. Є компанія на будь-який смак. У Фрідом Файнен спіркожна акція написана Єраальна ціна. Чо буде відрізняти ця ціна по вашому фандементальному аналізу? Чи можна рідуватися, пути реальні ціні? У нас Фрідом Файнен свій надає, як інший брокр, будь-який брокр, надає доступ до ринку. Якщо шоколатка на цьому ринку, коштує 7 доодорів, то у Фрідену біль за все, що вона буде відрізнятися, можливо, на таких центи, не на багато. Мін же дає доступ до ринку, тобто, досу пармаркету. Ми з вами аналізуємо ринок. Вим можете з Фрідом Файнен, чи іншого брокора, мати доступ до дні, то є шоколатки до дні, то є більше, то у ж самого супермаркету. Всі ми всі ходимо з вами в американській супермаркет. Він з вами всі ходимо в Європейській супермаркет. Він один великий. Чи їх там вимирається, наприклад, вимирається, великий супермаркет. Біржа на здаку вважається, що це АТБ. І є, нісе найкрупніше американська біржа. Це як магазина. Давайте Ашан. Я постійно цей приклад привожу. Що це Ашан, тому що Вашані можна купити абсолютно будь-яку будь-чо. Хочешь техніку, хочешь памперси, все ще заводно є. Але в на здаку біржі там американський. Це як фокстрот, там технологічні компанії в основному, який великий, знаєте, там памперси. Там ми з вами ходимо до певного супермаркету, до певних біржів. Це і супермаркет. Грамот на мені вестр скінцлова, ми звається біржа, якщо там шоколатка стоє, хтось тільки грошей, стови через свій хі брокрабуд, то бачатого стюціну. Але ми з вами по фантаметальному аналізу, аналізуємо ринок сину на ринку з шоколатки. Тому і через яким брокрабуд, то купивати, воно особливо різницю не грає. Так, повертаймося. А я писала, як я зницю, я на классно. І чесно, не бачила, тут провігають питання, трішки є зтримка. Я намагаюся... Багато обіцянок. Трампує багато обіцянок, мало що буде виконано. Теш може бути. Трамдісну відоми, тим, що є обіцянки, які не виконуються в часно. Тому потрібно буде дивитися. Зелено нархетка в зоні ризику. Так, дійсно, трампує. Неталю дина, яка розвиває зелено нархетку. Скоріше, він буде дереголювати цей сепер. Ризик третів світової війни. Давайте будемо надітися, що такого немає. Поки що... Поки що... Значних звіночки, що завтра почнеться світува третівій. Такого немає. Звичайно, що почнеться третіво світува війна. Ми з вами всі пінимо купувати захисня активи. Це буде перша про що я напишу в своєму телеграмі канал Новини. Вчаті випусно ків. Буду казати в інстаграмі. Ми з вами зберемося на ефір. Панамський канал. Ти що його хочуть порименувати. Це може створити напружиність. Ризик економічний криз є. Є ризик про сад кримку. Є коррекція ринку, як ризаринку. Це дві ай різні поняття. Коррекція ринку відбувається, коли ми бачимо, що активи перекуплені в ціні. Вони не відповідають своїм реальним значенням. Вони можуть бути перекуплені, тому що ми багато очікували. У нас було багато позитивних новин. Ми купували, купували, купували активи. І потрібен в видох. Коли економіка бачиш, що вона перекуплена, ми з вами інвестори. Теж перекуплені, ми все все бачимо. Ми бачимо, ми бачимо, робити дуральні ціни. І ці реальність цими знову починається нового гонка. Тому коррекція дійсно може бути. Тому що політика трамкована не все не тільки можливості. Вона не стадійсно велише зні можливості. Але і великий ризики можливо запровадження високих у таких тарихів. Проте, що ми з вами говорили, вона може повпливати і негативно. Такі компанії, як Apple, данаті, які працюють в інших країнах, і отримують звіти максимально прибуток. Дільше прибуток, чи велику частиного свого доходу. Скородження податків, теж може створити негативний фак. Шацій і позитив, але може створити може негатив як зростання інфляції. Якщо взяти хрім трам по його політики, то дані ниского рівня безробіття, що у нас є, вони свічай продовження позитивної тенденцію, про це було житування, але у си міринок працінам знову. Каже про те, що активність велика у нас з вами є багато грошей, ми працюємо. І це може знову підвищати з шанса на посилні інфляційного отиску, тому що ми все ще відходимо з вами від ковідку. І у нас все ще видно дефіцит товарів. І все буде від штоходися від рішень федеральної резервної системи, федеральна резервна система, така ніяння для економіки, яка варішує, яка буде вставка, якщо були присутні на початку нашого ефіру, ви бачили, що від шулисього федеральна резервнаї системи буде залежити, чи у нас стан кредити доступнішими чині. Якщо кредити стоїть доступнішими є багато грошей, є більше грошей, від не грошим, ми їх використовуємо компанії, теж використовують, і на впакитому нам дуже важливо, щоб федеральна резервна система спускала свої ціни. Також я розився з більшення державного боргу, якщо це може повпливати на збільшення відсотку по облігаті. Ці облігаті і стоються більш цікавим інструментом, і ціни на акції просидаль. Якщо облігаті висок і висок у дохідність дають, то шуму нам, без вам, як інвесторм, на перекласти своїх гроші, в облігаті, не розокупати акціем. Коли я кайсна стабіність, вірно? Тому я можливість коррекції, я можливість коррекції ринку, але її багато позитив, то така рік обіцяю бути стабіна позитивна для акції. Навіть піси 2 років з Ростання понад 20% і нове строків готові скористатися рік ковом коррекціем, які можуть бути, добре давайте дивитися реальності вочі, тому що ми з Ростанем вже декіль коррекціем, може бути коррекціем, це нормальний стан в коррекцію, які виграють на потрібно цього бюяться, потрібно просто вившити цікомпані. Знову ж таки скажу, пройходит до мене на курс навшому, відрізняти цікомпані, якіться компанії, як можна забезпечити свій партфель, потім в нашому уніці випусників потрапляється в нашому уніці випусників, ми вас підтримуємо. Він буде керен Кобя ситуації, якщо вас є питання, ви можете написати в нашому чайті випусників, єкуратори, які просудні з вами теж відповідають всі час від часу на вашій питання. Але протягом на чайня, протягом курсом, ми з вами на зв'язку всі ці літритижні завжди вам готові відповісти. У нас середній шест відповіді окураторів, це хороші, помотіні, бік погиді, у нас утримують найвищого цінка, це 8 хвилин на минулому подкодці, 8 п'ять, полон на позу минулому подкодці. У нас багато матеріалів, ми вона даємо в питання відповідях всі до додкової матеріали, щоб всі питання вальші можливі розвідити. І зв'язвіше на підтримати в чайтці, прям таким, таким, сілими хорошими відповідями, перевіряємо ваші партфеля, перевіряємо як чеграмотно в них створили. Запрошує, вже сьогоднішні однями відкриваємо рані ціну. Я про мене не буду говорить в інстаграмі, тому що рані ціна буде діити всього п'єдніх до 29-30 числа. У 30-го числа вже буде підгощенять цін. По рані ціна для всіх, то присутні їх зараз в каналі, то присутні на ефірі, якщо ви хочете навчатися, хочете йти в Ринок, заробляти в 2025 році, формувати до вустрокові цілі виконувати, формувати до вустрокову партфелью. Відстошуємо, що буде розглядати всі активи, будьмо вчитися аналізувати, проводити фундаментальний аналіз. Будемо на актуальних прикладах навчатися. У нас вість т<|ja|> доходить до самого кінця навчання, спрямовано на максимізацію результату. Він згарвардським експедиемом з неї розроблівалися інтенсивщ. Про грани була поподобовано, як в американських навчальних закладах. Це унікальна система, яка дозволяє направити всю увагу на ваші всі відшуття, на слухову зоробу пам'ять, на всі в іде пам'ять. Ми працюємо скожньо знайшу, бо дійсно прийшло до результату, щоб повішували себе впевнено, на літях, щоб ви зараз нічого не знаєте. Для мене це важливо для наших кураторів, які є аналітиками, практиками, вони зараз проходять наші головні куратори, проходять зараз стратифікацію в американській системі, в британській системі. Тому дуже цікаві, вас можуть бути розмови, збишає на це не творкінг. У нас сатимичим, я пишаю, у нас дуже цікаві студенти. Мої рілси та у дитурі, а в ті люди, які приходять і слухають мій контент, це зазвичається шка-вдитурія, в хорошому сенсій та шка. Мій контент, він не направили на історію, що акції це. Мене підхід з маркетом, веточки зору, це шкує такою, точка зору на бізнес. Нічого прийшли і слухаєте такий матеріал. Це знаєш, що ви в хорошому сенсій та шка-вдитурія, цікава, аудиторія, з'якую потребно працювати, яка потребує до себе ось таких стандартів, дуже крупи хстандартів. І ми намагаємося ці стандарти, максимально для вас дати, випаду, якщо ви не було розшаровані. Так, все сказала, все ще хотіла. Дивайте для тих, хто залишився зараз. Я дам вам цікавий ітєєв. Вартість навчання є три різних тариф, порагляйте бутлаця шка-насайти, це рані ціни, там класно ціна. Прочитаєте, що входить в кожний пакет, тому що від цього дуже залежить ціна. Але ціни зараз дуже хороще. Так, підтверджує суперної мовірний. Дякую вам, дуже. Якщо ви проходжує зараз ітє в курсу, вас що підходить на дарі для навчання. Ізі старі інвестиціях вам підходить ідеально. Напишіть у службу підтримки, для тих, хто у нас проходить, якісь продукти вже є знижка. Короблі для поразбазання SPH, якраз цікаво індустрія, легістичні компанії цікаво. В мені подобається. Чи цей курс підійде для тих, що в жарозі брався, то та має рахунок у півкілька акції, вже слідку із заримком підходить, тому що ми в цьому не просто купувати певні акції, а складати систему, яка для вас буде працювати на довостроково перспективу, чи на короткострокову, тут як ви захочете. Вам потрібно внітеробити ангаліст. Тому що рано чи пізно, будь-то всяка сподійна ринку. Це зараз у нас зростає. І потім буде дуже неприємно, якщо ви не зформували дійсна класний портфель, а чи у вас зараз все добре, але коли прийдет шаз, і ви захочете отримувати посинний дохід з вашего портфаля, тобто продавати ціні папера, і у нас цю різницю між покупку продажу забирати собі, може настатимо менше, ви не будете знати, що продавати, тому що у стакі ринкові умови і зараз ваші активи просіли ваш портфель не має плюсу. І вам потрібно усьформувати, так щоб навіть якесь акції просідали в певних умовах ринку, це непогано. Наприклад, формацевтика може просідати і в нас ще часи тому, інвесторы перекладають гроші, а активи, які може бути цікавіще у цей час. Ми перекладаємо, наприклад, золота, то есть питав про золоту щає, щає у нас ті, хто цікавець золота. Я вам пояснюю про золота. Дрються золота, це такий класиршний інструмент. Бабуся дідусії, впадали у нас золоту. Тому золоту історично вважається за хисним інструментом золоту. Зростає у моменти нестабільностерним. І можна не купувати золота фізична, можна купувати золоту через єдс єв. Є компанії, чи є золоту акції золоту в одубовних компаній. Вим можете через фонду воринок не витрачати багато сил на покупку фізичного золота і заробляти не менше. Тому що ціна єдс єв у нас золоту. GLD, це єдс єв, називається, буде коррегуватися та помістью співідносятися, стіною на рух золота, як такого у світі. Тому це вам забезпечить захист. Відбудь окою настабільності ми як інвесторы повинні розглядати захистня активи обов'язково їм ніти з ними працювати. Я, наприклад, продаю захистня активи. Під час хорошого стану ринку, коли я бачив, що вистабільний закіншилася, значит золота вже буде сповідні. Ватисіана вже не буде так зрустати, але отримала дохід від золота і паратимі, як вновь впаде. Я купую на ці гроші, які вивила золота. Я купую ціні поперає компанії, а акції чи інші єдсь єд, які можуть дати класні результату певних рамкових умовах. Але якщо вони буде тащипатися, і протфелі, він буде грамотно збалансований, якщо вони хочуть робити, то все дії про який кажу, тому що це потрібен до світ, чи вам потрібно знову таке навчання, щоб ви розуміли, що як відбувається. То ви можете просто зформувати грамотно-портфель все в балансі тримати вашому саме балансі для вашої саме цілі, на ту суму, яка вам потрібна, це дуже важливо. Ви можете тримати, не робити якихось до додкових дій, ви будете знати щок, коли як купувати, ви за вчасно собі сплановиться, стратегіються, її стратегію, ви чотейся планувати стратегію і формувати її, про цього в нашого, цього трьох тежневого навшань. Але курс інтерсимий. Це ви можете вимагати вашого часу. Вам щоденом потрібно буде працювати у нас у гота та неділя вихідній дні, але цідні зачастувував, вони йдуть у студенті на нас доганняння матеріалів. Хтось встигаю, кохось роботи і у цей час, коли ви можете навіть на вихідних поспілкуватися з куратурами, куратура в цей час при судні. Вони не пропадають, у всі три тижні вони з вами. Вони відповідають навіть вихідній дні, тому ви можете сісти, спокійно знаєш, що уроки не я ввігодять, ви можете собі розписати все потрібно, задати питання, формувати чотку стратегію і вже вийти з курса, ставший інвестор. Тобто вивжа протягом курсу викупати свої ціні папери. Що ще важливо, що у нас навчання повністю практично, повністю є практика. Тобто урок практика, урок практика, відразу на фондовому ринку. Тому практиковатись, потрібно буде навшатися, потрібно буде. Ми за те, що, якщо ви хочете пройти, щоб удісно, мали не час і бажання діти до кінця. Для мене це дуже важливо, щоб ви прийшли і отримали результат. Ми на це працюємо всі разом всії команди. Коли старт вже у лютому 17-го лютого? 17-го лютого старт. Золоту зараз на хайах. Тому що я в сцени визначеність геополітичні, ризу керизики, ще не знаємо, що ми не знали, чого чекватить трампа. Зараз трижки золота почало спадати якраз. Фармацевка зараз не так цікава, тому у вас фармацевка просила, зараз набіршся кавіотехної гічні компанії. Але якщо вас балансований портфель, нехвилюють ісля фармацевка вам дась у стесі, якась афармацевка вам дась плюс. Щас, коли буде її час, тому не потрібно продавати, якщо цих хороших компаній дайте їм час. Вам потрібно депобачити пакетику. Зараз мзакіншому цей ефір, я надішлю запас у ушат. І там, я думаю, відразу за цим повідомленням, я надам посилання на сайт-корсу. Але також зараз прямо піп цим ефіром, в опосі цього ефіру в YouTube, я посилань на сайт, ви можете відразу перейти, переглянути які я тариф, які я умовують, що саме буде в нашій програмі, там якраз екарктовалюто, а теж буде в нашій програмі. Я вирішила її включитшити в нашій програмі, тому раніше її не було, напевно до 8-го потоку її не було, 8-го поток у нас був пробний з кирктовалютами. Ми включили це в програму і випчення криптовалют. Затуж само ціму залишили. Так, давайте я вам дань її цієї еф, я вам обіцяються її цієї еф дати. Я вам зараз нам класний її цієї ефіром з Європейським його аналогом. Це інструмент для інвесторів, які правництва скористатися перевагами саме ринкових трензів певних. Такого динамічного зростання певних окремих активів, він підходить для тих, то готовий примати більш ризок. Я знаю, що з вас тут є ці хто інвистують, тому вам можливо буде цікаво. Але потрібно враховувати теж, що цієї цієї ефволотини. Він поєднаний з більшістю сильних активів, але все ж таки, ми має в собі компанії, ціна, яких іде в гору, і прям конкретний довгору. Конкретно зрастає тому. Є цієї ефволотини. Ось вам цієї цієї еф. І ось вам його європейські аналоги. Я нам шання у Кремому про Криптовалюту і зі стар в Криптовалюці. На жальні, я повинна була випуста третсейкурс, але я певні зараз умовував в нашій країні, які не дозволяють змусили мене на сьогоднішній день трішишки призупнипись, і ми ще бачили. Зараз багато прихто на втчає Криптовалю, ми включає цю чорний список, наша країна, це публічно публікується. Я не хочу бути всему списку, тому що мене є такий глобальний план. Ми шоловіком будемо будуватися на мальдівах, і я дудують цього, що це в інвестиційний поєк, коли будемо будувати готелі, готельно на рахомість, на рахомісті, продавати її інвести. Тому мене дуже цікаво, щоб моє їм я залишалося непідвязаним під регуливання, які нажальчі сьогодні є в нашій країні, які не є пузитивно на лоштованні до тих людей, кінавшаються інших користуватися Криптовалю. Тому що для мене зараз важливо побудувати цей фундамент, щоб у вчати, щоб надати потім інвестиром, можливо вістаж. Скільки два курса? 17 лютого по 3 тижні, давайте відрахуємо. У нас 17 починається 2 четверти, 30 першого зберезні, і 2 навіть не пізніше до 5 перезня, 5, 6 перезня. Випромаємо на каждого зараз. Учасно кажучи, ми з ним зустрічалися, ми не давали на гародження, дякуючи вам, тим учасникаментенцеву. Ми виграли зламе, премії, у найкращій хіабових, зонвистаційної тематики, минулого року на фінабург. Виграли також найкращий лектор, в Зинвистаційної тематики, дякуючи студентам, тому що вони його висували, ми виграли в Україні стало першим, ми найкращим. Я зустрічалася з найменом саме під час на Гороження, але чесно кажучи, не слідкують, я думаю, що ми з ним трішить, різні підходи маємо до інвистування, тому чесно кажучи, у нас дуже багато людей, які надають навчання з кроктовалют, тому це не тільки про наймане, зараз дуже багато тих, шавчина, чесної кроктовалюта, в наслип до чорного з такого списку, що впливає на репутацію, навіть міжнародно, тому що кого-то щось робиш на міжнародному рівні, дуже важливо мати, чисти ім'я, хорша, якщо взяти моїх колег, на саме, як те, чесно, чесно, чесною, ось вимагаю, якимось певним інструментом, то кроктовалюти це інструмент. І це інструмент, якщо не можливо, на нього не реагувати, він є він буде. Я в нього очікую, що рано чи пізно, можливо, не в цьому році не наступному, вільше все, але рано чи пізно, кроктовалюта, посяда, дійсно, таке вагома місце, і не можна це інгнорувати. Тому політика наші країни, трішки для мене, в цьому плані, якби зрозуміла, тому що потаткової системи ще не має. Але все ж таки, я не вважаю, що запотрібно включати людей, які навчають, користуватися цей інструментом, як і рано чи пізно буде у податкового тисі. Тому це трішки політика наші країни, на раху на кринків, у нас дуже коробційний наш римок на жаль. Нашу українська фондова біржа. Так, скажіть, вашу думку, чи правильна ця ось, ті чорної ски, скані і неправильно. Я не вважаю, це правильна, тому що немає, немає, розуміти, в них включають людей, так підряд, вам повині в надати там попередження. Але це попередження не надається. Такий вчитяч у нашій країні є люди, які сидять, і просто им потрібно виконати, яка із план повключення. Тому не вважаю, що є якісь підстави. Чи можна купити курзаристь на наступний бочас, вони буде влютому, можна, у нас є вже список наших курсів, і ви можете податам. Як це буде протягом року, ви можете збернутися до служби підтримки, та ж поселання вам надала під цим эфіром, в опосі цього эфіру, також є в каналі з відкевою, потрапив на цей эфір, і там ви можете написати служби підтримки і служба підтримки, вам дасть у цю уціну, яка є на цей путік, ми щодалі ці нам буде зростати, ми будемо робити свою платформу, ми зараз вже її закіншуємо, і уже наступні платока буде користуватися платформою, але нашим уністуденте теж буть мати до стовдатії платформи без коштовно. Так, а європейська аналогя вам зкинула? Скажіть, була скатку. Я здається, ми тум б вам зкинула, а європейський його аналог? Ані зкинула? Все, все дала. Для чого люди, які в часівливати коштаб економіку, яка включає чого розвису, на жаль, тому що нам нашого економу. Я стан скопувати облігати в Україні. У водопаді Каві особливо, якщо зараз взяти, що депозити стало економіцікавами, після того, підняли податки, депозити абсолютно стало медтікавами, тому що ми сплашимо податки з депозитів, але з водопреми податки на сплашому. У облігаті, стають подохідності, на багато цікавішими, тому водопеви можуть розлянути це інструмент-премноження кождів, скоріша цим інструмент для парковання грошей, але це інструмент. Цим інструмент можна нам користуватися. Я навіть у нас є на курсі, куратор і рина. Вона дає дуже цікаву стратегі, як можна заробляти через водопевний. Ті ласистеми цікавого, вона розповідає, якщо можна зробити. Тому, що є цим інструмент для інвесторів, які хочуть скористатися саме акціймики, показується найбільше зрустання путії на технічному аналізія. Тому він дуже велатильний, але це цікавий інструмент, якщо вони боятається в високах розоків. Почитаю, в інтерненції можна мукувати і написати щодо. Та ми красно дається ця інформацій. Вибачте питання не за тему ефіру, бачила на унстурно-мальді ви з вами, а у мене доедналася до канала. Ти можуть знайти послання і підйдеться подорож, якщо не вудшок в інвесторвання. Так, ви можете направитися втор зіною і з іншими 12-ти минулок. Ми вже щось місцю на зані. Тому вже мається п'ять, я думаю, на сьогоднішній день. П'ять завершивось. Тому, а можете приєднатися, власне на канал. У моєму інстаграмів послання у Шапці профіру, чизнаво, що таке напишіть службі петримки. І ми вам дамо послань на канал, де можна змінутися програму. Чо просто навіть написати службі петримки. І ми вам надамо всю програму туру. Буде цікаво і для пошинайших інвесторів і для тих особливої інвесторі, які вже давно є вистувують, тому що ми з вами будемо проходити супер, поглибуваний фундаментальний аналіс. Я вам расскажу, як інвесто в мальді. Це один з ринків, який ми буде морозвивати, який чоловіком про те, що казала, що для мене це важливий виринок. Не можна буде урізну манітну, тисвій портфельні, бути одним з перших, тут знається про такому можливість. У нас вже є 4 інвестори. Можливо, вваза цікавить, приняти участь і стати власником готелю на мальді. Тому цей тур, цікавий з різних сторін, можна прийти, проїхати на нього і навшітася з нуля. Ми надаємо спеціальному программу для новочки, тому до мальді ви будете підготовлені, абсолютно, вбути знати фундаментальне аналіс. Абсолютно, сече вам потрібно, щоб бути на рівні, з іншому учазному комитуру. І віршувати себе абсолютно спокіймо. Я буду надавати кожному підтримку. Групка маленька. Чому мальді вальна болія? Я в що саме інвестування цікавось на болії. Ринок болівін. Тільки сьогодні шитало про те, що затримали одного з забудовників на болії. Тому що на болі не має револювання як такого. Тобто, зобудовники приходять, домовляється з властями. Забувалися слово українсько, дуже вибачається. Але не підкрепляють, і судомовленіся кимось документом. Як результат, приклад, сьогодні, одного з вигих забудовників зарештували два днів тому, щоб їх забудовників зарештували за те, що вони на сільського сподерській ділянці, яка не повинно використовуватися під велики забудови, забудували хотель, який продав вже інвестором, і зараз дуже цікавий момент, який далі будуть розвиватися ці події, що буде, тому що на сільського сподерській землі не можна будувати, вони мають правозности все те, що інвестору протвали. Тобто, це не законно, полабсолютно, і зараз це його можуть посадити, і біля, за все, що це так і буде. І це такий великий звіночив, до того, що інші так само поступають на Балі. Це один такий негатив, і це те, що ми намагаємо, іся уникнути на мальді, вихій отримати всі документи, і не будувати без документів, тому що ми хотіли щоподувати минулого року, але нажальний лише, тому що ми не змогли розібратися з документами. І це не додає без документів, але ми так не хочемо, тому що це високий ризок для нас, і це інвесторів, а я так виграти не люблю цей бізнес, це абсолютно цей бізнес. І ти не можеш надавати людям такі можливості. Зараз ми побачили, що я певні документи, я опевнай дозволи, я кінам не даю, ми на цьому дозволі, футимодалі, вже зі стабільності, з документами в руках, ми не вбивалися. І в першу чаргу ми ця робимо для себе. А цінатуру на мальді витримає 300-200 доларів, якщо ви їдете ще сапо другою, якщо ви наш студент, а те, що там змижкає, якщо ви самостійно хочете проживати умоморід, це чотири 300. На болі ось саме дуже багато реклами, але був бута обережні, абсолютно ось техніх, п'язали, що потрібно все-прораховувати. Ми согодні чоловіком бачили, що на болі за миллион доларів, вийше миллиону, продають на рухомість. Але що на мальді, що на болі, що на багатьох азійських островах, ми не можете притвати на рухомість, ви можете її взяти влізаних. Землі ви тоже можете взяти влізаних і потрібно враховувати, що це не покупна земля. А це оренда просто дуже долго строкова, і коли бареться наприклад, там на 25 років, що на 36 років, і вам кажуть, що ви можете продбати на рухомість на болі, взяти влізан, ввідразу розумію, що взяти влізаних. І коли починаєте питати, а скільки років влізаних, ми вам кажуть, 35, прохуйте, все арендово, всю суму, якого ви заплатите, розбуваєте, 12 місців, і дивіться, які у вас дійсно буть витрати. Який прибуток у вас може бути. І ось рекламуваний є, але люди не йдуть під нерахують, це ринок, я думаю, ще раз п'ять років, потім обатчатуженегативним динаміку, тому що буде, як із ринком О, коли багато хто купував, купував, а пусть ми з них продати. І це ринок він ціни на нерахомість на болі, вони не відповідають прибутку, який ви можете отримати. По факту, в этом прибутку особливо і не має, але маєте, ось такі багато, багато ризбі. Просто сайте підрахуйте під той рокламу, витрати наскільки ви дається олізом, набійтеся питати. Небійтеся ніколи питати, коли ви вищось і не вистують. Не важливо мальдії, в акції, діті розглядаєте по нимантальнім показникам. В кожному бізнес-і бізнес-і, я бізнес-і на рухомість, я бізнес-і вам потрібно знати все. Краще, якщо ви перепитаєте, ніж вимне перепитаєте на зробити аналість, про інвесту тут, тому що всі так роблять. Ушумує, я висьогодні слухови, проявіряєте ціти кориден. Би самі повинні в ні, то продмати цю рішенням повинні самі аналізувати, хоче, то, про гбатами, рухомість, да, класно. Бо можна доверяти людині, але будь ласка, проводя ще самостійна аналість, все по всьому дуже важливо добре. Ренокно дуже льквідний, да? Так, добре, будемо з вами сьогодні прощатися. Беша багато питань. Я буду першитувати наш шат, тому що ми вже тут годинку, і 45 вимач, як думаю, що вивтомився. Будемо з вами прощатися. Я вам дуже втягчене, за те, що ви приходите на ефір. Я дуже люблю такі агіри, тому що це про спілкування, це про обін інформацію. Ми не дуже цікаво було першитати, як ви бачите, ринок, знати, з ким я спілкуєся. Класне, така віджитяком юніці, що ми з вами в будній водці, розвиваємося розтиму, і дійсно, бачимо, якісь певні тенденції, певні проспективи. Ми бачимо, ми можемо на цьому дії, і дійити разом. Це великий плюс. У мене дуже приємно знати, яка казала, витяшка в хорошому, самому сенті аудиторію, ви думаєш аудиторія. Вся ввязьмі контентно право саме на таковудиторію, з товімо, що з такою аудиторію приємно працювати, така аудиторія хоче задавати питання, така аудиторія цікавиться, і ми працюємо на вас, і мені дуже приємно мати, таких людей поруч, навіть якщо це онлайн, то ми що онлайн, що онлайн, без різниця, ці люди, якимого оточими, ми мають великозначення на наші життя, на деми будемо зараз, і завтра, і пізві завтра, і на бактороків. І ми що вивив формую та цей попит для створення таких ефірів, для створення цікавих продуктів. Мені було приємно, а фірдістно вийшов класно, і я прям з Сыльжів подчуваюся, що мені не хочуть, що він закіншовося, але знаю, що потрібно закіншово, тому що в тому вистою я певні справа, але я в тому на щось устрінимуся. Я спробую провести вам ще у Донехір, можливо, через пару тижніх, тому що у нас, коли питали у витему хоче для ефіру, бачило, що там така теж короляція була, тому можливо, я проведу для вас ще у Донехір, думаю, через тижні два масла. Але в Каналі, слідку та в Каналі, добре там сядформацій, не вимикай підзвіночок на канал, щоб ви могли бачити все пищу у нас, відбувається, коли ми з вами зустрічаємося. Звучиті кафірмація. Дякую вам, і вам теж успіхів, і до зустрічі через пару тижнім, до зустрічів канала.\n"
          ]
        }
      ]
    },
    {
      "cell_type": "code",
      "source": [
        "# Зберігаємо текст у файл\n",
        "with open(\"/content/transcription.txt\", \"w\", encoding=\"utf-8\") as f:\n",
        "    f.write(result[\"text\"])\n"
      ],
      "metadata": {
        "id": "jSaq4nEkAU7A"
      },
      "execution_count": 9,
      "outputs": []
    },
    {
      "cell_type": "code",
      "source": [
        "# Перевіряємо, чи файл створився\n",
        "print(\"✅ Файл збережено: transcription.txt\")\n"
      ],
      "metadata": {
        "colab": {
          "base_uri": "https://localhost:8080/"
        },
        "id": "7OVi6aJhVw9P",
        "outputId": "65762d18-f220-4247-daef-20675cab8b3d"
      },
      "execution_count": 10,
      "outputs": [
        {
          "output_type": "stream",
          "name": "stdout",
          "text": [
            "✅ Файл збережено: transcription.txt\n"
          ]
        }
      ]
    },
    {
      "cell_type": "code",
      "source": [
        "# Даємо можливість завантажити файл на комп'ютер\n",
        "from google.colab import files\n",
        "files.download(\"/content/transcription.txt\")"
      ],
      "metadata": {
        "colab": {
          "base_uri": "https://localhost:8080/",
          "height": 17
        },
        "id": "t4CSEIkwVxqm",
        "outputId": "0a478c99-fbc7-4f40-98af-a48528c57f1f"
      },
      "execution_count": 11,
      "outputs": [
        {
          "output_type": "display_data",
          "data": {
            "text/plain": [
              "<IPython.core.display.Javascript object>"
            ],
            "application/javascript": [
              "\n",
              "    async function download(id, filename, size) {\n",
              "      if (!google.colab.kernel.accessAllowed) {\n",
              "        return;\n",
              "      }\n",
              "      const div = document.createElement('div');\n",
              "      const label = document.createElement('label');\n",
              "      label.textContent = `Downloading \"${filename}\": `;\n",
              "      div.appendChild(label);\n",
              "      const progress = document.createElement('progress');\n",
              "      progress.max = size;\n",
              "      div.appendChild(progress);\n",
              "      document.body.appendChild(div);\n",
              "\n",
              "      const buffers = [];\n",
              "      let downloaded = 0;\n",
              "\n",
              "      const channel = await google.colab.kernel.comms.open(id);\n",
              "      // Send a message to notify the kernel that we're ready.\n",
              "      channel.send({})\n",
              "\n",
              "      for await (const message of channel.messages) {\n",
              "        // Send a message to notify the kernel that we're ready.\n",
              "        channel.send({})\n",
              "        if (message.buffers) {\n",
              "          for (const buffer of message.buffers) {\n",
              "            buffers.push(buffer);\n",
              "            downloaded += buffer.byteLength;\n",
              "            progress.value = downloaded;\n",
              "          }\n",
              "        }\n",
              "      }\n",
              "      const blob = new Blob(buffers, {type: 'application/binary'});\n",
              "      const a = document.createElement('a');\n",
              "      a.href = window.URL.createObjectURL(blob);\n",
              "      a.download = filename;\n",
              "      div.appendChild(a);\n",
              "      a.click();\n",
              "      div.remove();\n",
              "    }\n",
              "  "
            ]
          },
          "metadata": {}
        },
        {
          "output_type": "display_data",
          "data": {
            "text/plain": [
              "<IPython.core.display.Javascript object>"
            ],
            "application/javascript": [
              "download(\"download_ba40cc42-8bcc-4a59-9803-38d44124bb2e\", \"transcription.txt\", 147186)"
            ]
          },
          "metadata": {}
        }
      ]
    },
    {
      "cell_type": "code",
      "source": [
        "import textwrap\n",
        "import re\n",
        "\n",
        "# Завантажуємо текст\n",
        "text = result[\"text\"]\n"
      ],
      "metadata": {
        "id": "KKy11zEBVz4F"
      },
      "execution_count": 12,
      "outputs": []
    },
    {
      "cell_type": "code",
      "source": [
        "\n",
        "# Розбиваємо на речення (шукаємо крапку, знак питання або знак оклику)\n",
        "sentences = re.split(r'(?<=[.!?]) +', text)\n",
        "\n",
        "# Створюємо абзаци по 3-4 речення\n",
        "paragraphs = []\n",
        "current_paragraph = []\n",
        "for sentence in sentences:\n",
        "    current_paragraph.append(sentence)\n",
        "    if len(current_paragraph) >= 3:  # Абзац із 3-4 речень\n",
        "        paragraphs.append(\" \".join(current_paragraph))\n",
        "        current_paragraph = []\n"
      ],
      "metadata": {
        "id": "nz-NatwMWO2d"
      },
      "execution_count": 13,
      "outputs": []
    },
    {
      "cell_type": "code",
      "source": [
        "\n",
        "# Додаємо залишок, якщо є\n",
        "if current_paragraph:\n",
        "    paragraphs.append(\" \".join(current_paragraph))\n",
        "\n",
        "# Форматуємо текст: ширина 80 символів\n",
        "formatted_text = \"\\n\\n\".join([textwrap.fill(p, width=80) for p in paragraphs])\n"
      ],
      "metadata": {
        "id": "rLqnNYUxWQKF"
      },
      "execution_count": 14,
      "outputs": []
    },
    {
      "cell_type": "code",
      "source": [
        "\n",
        "# Зберігаємо у файл\n",
        "with open(\"/content/formatted_transcription.txt\", \"w\", encoding=\"utf-8\") as f:\n",
        "    f.write(formatted_text)\n",
        "\n",
        "# Даємо можливість завантажити\n",
        "from google.colab import files\n",
        "files.download(\"/content/formatted_transcription.txt\")\n",
        "\n",
        "print(\"✅ Форматований файл збережено: formatted_transcription.txt\")\n"
      ],
      "metadata": {
        "colab": {
          "base_uri": "https://localhost:8080/",
          "height": 34
        },
        "id": "XHJLvP5wWRp9",
        "outputId": "9cb6717f-19d9-41c2-e080-83d5a862769f"
      },
      "execution_count": 15,
      "outputs": [
        {
          "output_type": "display_data",
          "data": {
            "text/plain": [
              "<IPython.core.display.Javascript object>"
            ],
            "application/javascript": [
              "\n",
              "    async function download(id, filename, size) {\n",
              "      if (!google.colab.kernel.accessAllowed) {\n",
              "        return;\n",
              "      }\n",
              "      const div = document.createElement('div');\n",
              "      const label = document.createElement('label');\n",
              "      label.textContent = `Downloading \"${filename}\": `;\n",
              "      div.appendChild(label);\n",
              "      const progress = document.createElement('progress');\n",
              "      progress.max = size;\n",
              "      div.appendChild(progress);\n",
              "      document.body.appendChild(div);\n",
              "\n",
              "      const buffers = [];\n",
              "      let downloaded = 0;\n",
              "\n",
              "      const channel = await google.colab.kernel.comms.open(id);\n",
              "      // Send a message to notify the kernel that we're ready.\n",
              "      channel.send({})\n",
              "\n",
              "      for await (const message of channel.messages) {\n",
              "        // Send a message to notify the kernel that we're ready.\n",
              "        channel.send({})\n",
              "        if (message.buffers) {\n",
              "          for (const buffer of message.buffers) {\n",
              "            buffers.push(buffer);\n",
              "            downloaded += buffer.byteLength;\n",
              "            progress.value = downloaded;\n",
              "          }\n",
              "        }\n",
              "      }\n",
              "      const blob = new Blob(buffers, {type: 'application/binary'});\n",
              "      const a = document.createElement('a');\n",
              "      a.href = window.URL.createObjectURL(blob);\n",
              "      a.download = filename;\n",
              "      div.appendChild(a);\n",
              "      a.click();\n",
              "      div.remove();\n",
              "    }\n",
              "  "
            ]
          },
          "metadata": {}
        },
        {
          "output_type": "display_data",
          "data": {
            "text/plain": [
              "<IPython.core.display.Javascript object>"
            ],
            "application/javascript": [
              "download(\"download_6f31ccb3-14d9-4837-aef2-9f239db58b0a\", \"formatted_transcription.txt\", 147576)"
            ]
          },
          "metadata": {}
        },
        {
          "output_type": "stream",
          "name": "stdout",
          "text": [
            "✅ Форматований файл збережено: formatted_transcription.txt\n"
          ]
        }
      ]
    },
    {
      "cell_type": "code",
      "source": [],
      "metadata": {
        "id": "jH9w9w3aWS40"
      },
      "execution_count": null,
      "outputs": []
    }
  ]
}